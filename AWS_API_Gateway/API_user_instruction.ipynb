{
 "cells": [
  {
   "cell_type": "markdown",
   "metadata": {},
   "source": [
    "# How to use this API"
   ]
  },
  {
   "cell_type": "markdown",
   "metadata": {},
   "source": [
    "by Lingyi Zhang"
   ]
  },
  {
   "cell_type": "markdown",
   "metadata": {},
   "source": [
    "#### In this example, we query data of LA County"
   ]
  },
  {
   "cell_type": "code",
   "execution_count": 1,
   "metadata": {
    "ExecuteTime": {
     "end_time": "2018-02-10T23:36:23.501100Z",
     "start_time": "2018-02-10T23:36:23.467758Z"
    }
   },
   "outputs": [],
   "source": [
    "from __future__ import print_function\n",
    "import json\n",
    "try:\n",
    "    import urllib2 as urllib\n",
    "except ImportError:\n",
    "    import urllib.request as urllib"
   ]
  },
  {
   "cell_type": "markdown",
   "metadata": {},
   "source": [
    "## Let's try one single point first"
   ]
  },
  {
   "cell_type": "code",
   "execution_count": 2,
   "metadata": {
    "ExecuteTime": {
     "end_time": "2018-02-10T23:36:23.509134Z",
     "start_time": "2018-02-10T23:36:23.503475Z"
    }
   },
   "outputs": [],
   "source": [
    "var_lon = str(-118.159953387143)\n",
    "var_lat = str(33.8719625444075)"
   ]
  },
  {
   "cell_type": "code",
   "execution_count": 3,
   "metadata": {
    "ExecuteTime": {
     "end_time": "2018-02-10T23:36:23.517065Z",
     "start_time": "2018-02-10T23:36:23.512149Z"
    }
   },
   "outputs": [],
   "source": [
    "url = \"https://d5tgnm602g.execute-api.us-east-1.amazonaws.com/beta/la?long=\"\\\n",
    "      + var_lon + \"&lati=\" + var_lat"
   ]
  },
  {
   "cell_type": "code",
   "execution_count": 4,
   "metadata": {
    "ExecuteTime": {
     "end_time": "2018-02-10T23:36:23.984115Z",
     "start_time": "2018-02-10T23:36:23.520246Z"
    }
   },
   "outputs": [
    {
     "data": {
      "text/plain": [
       "[{'area_code': '817.000000000',\n",
       "  'area_name': 'LONG BEACH AREA',\n",
       "  'bg10': '5702042',\n",
       "  'cb10': '2006',\n",
       "  'city': 'Long Beach',\n",
       "  'ct10': '570204',\n",
       "  'dist_cong': '44.0000000000',\n",
       "  'dist_stass': '63.0000000000',\n",
       "  'dist_stsen': '33.0000000000',\n",
       "  'dist_sup': '4.00000000000',\n",
       "  'gid': 322903,\n",
       "  'hd_2012': '40',\n",
       "  'hd_name': 'Long Beach',\n",
       "  'la_fip10': '43000',\n",
       "  'name': 'Long Beach Police',\n",
       "  'name_1': 'Long Beach',\n",
       "  'prc_name': 'LONG BEACH',\n",
       "  'precinct': '3850029A',\n",
       "  'puma10': '03763',\n",
       "  'rd': '48-2',\n",
       "  'shape_area': '466.321237884',\n",
       "  'shape_leng': '387.348209943',\n",
       "  'the_geom': '0106000020E61000000100000001030000000100000005000000E7A821AD3C8A5DC09BC8F9779CEF40404C2CDFD63C8A5DC0F803AD779CEF4040D01242D13C8A5DC01A70D0AFADEF4040674A9DB73C8A5DC03A9CE9AFADEF4040E7A821AD3C8A5DC09BC8F9779CEF4040',\n",
       "  'zcta10': '90805'}]"
      ]
     },
     "execution_count": 4,
     "metadata": {},
     "output_type": "execute_result"
    }
   ],
   "source": [
    "response = urllib.urlopen(url)\n",
    "data = response.read()\n",
    "data_json = json.loads(data)   #change to json format\n",
    "data_json"
   ]
  },
  {
   "cell_type": "code",
   "execution_count": 5,
   "metadata": {
    "ExecuteTime": {
     "end_time": "2018-02-10T23:36:23.997167Z",
     "start_time": "2018-02-10T23:36:23.988908Z"
    }
   },
   "outputs": [
    {
     "data": {
      "text/plain": [
       "'03763'"
      ]
     },
     "execution_count": 5,
     "metadata": {},
     "output_type": "execute_result"
    }
   ],
   "source": [
    "#extract the puma10 for example\n",
    "data_json[0]['puma10']"
   ]
  },
  {
   "cell_type": "markdown",
   "metadata": {},
   "source": [
    "## Query 5 points "
   ]
  },
  {
   "cell_type": "code",
   "execution_count": 6,
   "metadata": {
    "ExecuteTime": {
     "end_time": "2018-02-10T23:36:24.451749Z",
     "start_time": "2018-02-10T23:36:24.000670Z"
    }
   },
   "outputs": [],
   "source": [
    "import numpy as np\n",
    "import pandas as pd"
   ]
  },
  {
   "cell_type": "code",
   "execution_count": 7,
   "metadata": {
    "ExecuteTime": {
     "end_time": "2018-02-10T23:36:24.473216Z",
     "start_time": "2018-02-10T23:36:24.453770Z"
    }
   },
   "outputs": [
    {
     "data": {
      "text/html": [
       "<div>\n",
       "<style scoped>\n",
       "    .dataframe tbody tr th:only-of-type {\n",
       "        vertical-align: middle;\n",
       "    }\n",
       "\n",
       "    .dataframe tbody tr th {\n",
       "        vertical-align: top;\n",
       "    }\n",
       "\n",
       "    .dataframe thead th {\n",
       "        text-align: right;\n",
       "    }\n",
       "</style>\n",
       "<table border=\"1\" class=\"dataframe\">\n",
       "  <thead>\n",
       "    <tr style=\"text-align: right;\">\n",
       "      <th></th>\n",
       "      <th>longitude</th>\n",
       "      <th>latitude</th>\n",
       "    </tr>\n",
       "  </thead>\n",
       "  <tbody>\n",
       "    <tr>\n",
       "      <th>0</th>\n",
       "      <td>-118.281503</td>\n",
       "      <td>34.383769</td>\n",
       "    </tr>\n",
       "    <tr>\n",
       "      <th>1</th>\n",
       "      <td>-118.352919</td>\n",
       "      <td>34.012348</td>\n",
       "    </tr>\n",
       "    <tr>\n",
       "      <th>2</th>\n",
       "      <td>-118.159848</td>\n",
       "      <td>33.826203</td>\n",
       "    </tr>\n",
       "    <tr>\n",
       "      <th>3</th>\n",
       "      <td>-118.062350</td>\n",
       "      <td>33.960715</td>\n",
       "    </tr>\n",
       "    <tr>\n",
       "      <th>4</th>\n",
       "      <td>-118.159953</td>\n",
       "      <td>33.871963</td>\n",
       "    </tr>\n",
       "  </tbody>\n",
       "</table>\n",
       "</div>"
      ],
      "text/plain": [
       "    longitude   latitude\n",
       "0 -118.281503  34.383769\n",
       "1 -118.352919  34.012348\n",
       "2 -118.159848  33.826203\n",
       "3 -118.062350  33.960715\n",
       "4 -118.159953  33.871963"
      ]
     },
     "execution_count": 7,
     "metadata": {},
     "output_type": "execute_result"
    }
   ],
   "source": [
    "#5 points in LA county\n",
    "points = [(-118.281503, 34.383769),\n",
    "          (-118.352919, 34.012348),\n",
    "          (-118.159848, 33.826203),\n",
    "          (-118.062350, 33.960715),\n",
    "          (-118.159953387143, 33.8719625444075)]\n",
    "labels = ['longitude', 'latitude']\n",
    "df_quer = pd.DataFrame.from_records(points, columns=labels)\n",
    "df_quer"
   ]
  },
  {
   "cell_type": "code",
   "execution_count": 8,
   "metadata": {
    "ExecuteTime": {
     "end_time": "2018-02-10T23:36:25.225709Z",
     "start_time": "2018-02-10T23:36:24.476343Z"
    }
   },
   "outputs": [
    {
     "name": "stdout",
     "output_type": "stream",
     "text": [
      "Query point 1 ...\n",
      "Query point 2 ...\n",
      "Query point 3 ...\n",
      "Query point 4 ...\n",
      "Query point 5 ...\n"
     ]
    }
   ],
   "source": [
    "#Query the API\n",
    "resultlist = []\n",
    "for i in range(len(df_quer)):\n",
    "    var_lon = str(df_quer.iloc[i].longitude)\n",
    "    var_lat = str(df_quer.iloc[i].latitude)\n",
    "    \n",
    "    url = \"https://d5tgnm602g.execute-api.us-east-1.amazonaws.com/beta/la?long=\"\\\n",
    "      + var_lon + \"&lati=\" + var_lat\n",
    "    \n",
    "    data = urllib.urlopen(url).read()\n",
    "    print(\"Query point {} ...\".format(i+1))\n",
    "    data_json = json.loads(data)\n",
    "    resultlist.append(data_json[0])\n",
    "\n",
    "df = pd.DataFrame(resultlist)"
   ]
  },
  {
   "cell_type": "code",
   "execution_count": 9,
   "metadata": {
    "ExecuteTime": {
     "end_time": "2018-02-10T23:36:25.284246Z",
     "start_time": "2018-02-10T23:36:25.229689Z"
    }
   },
   "outputs": [
    {
     "data": {
      "text/html": [
       "<div>\n",
       "<style scoped>\n",
       "    .dataframe tbody tr th:only-of-type {\n",
       "        vertical-align: middle;\n",
       "    }\n",
       "\n",
       "    .dataframe tbody tr th {\n",
       "        vertical-align: top;\n",
       "    }\n",
       "\n",
       "    .dataframe thead th {\n",
       "        text-align: right;\n",
       "    }\n",
       "</style>\n",
       "<table border=\"1\" class=\"dataframe\">\n",
       "  <thead>\n",
       "    <tr style=\"text-align: right;\">\n",
       "      <th></th>\n",
       "      <th>area_code</th>\n",
       "      <th>area_name</th>\n",
       "      <th>bg10</th>\n",
       "      <th>cb10</th>\n",
       "      <th>city</th>\n",
       "      <th>ct10</th>\n",
       "      <th>dist_cong</th>\n",
       "      <th>dist_stass</th>\n",
       "      <th>dist_stsen</th>\n",
       "      <th>dist_sup</th>\n",
       "      <th>...</th>\n",
       "      <th>name</th>\n",
       "      <th>name_1</th>\n",
       "      <th>prc_name</th>\n",
       "      <th>precinct</th>\n",
       "      <th>puma10</th>\n",
       "      <th>rd</th>\n",
       "      <th>shape_area</th>\n",
       "      <th>shape_leng</th>\n",
       "      <th>the_geom</th>\n",
       "      <th>zcta10</th>\n",
       "    </tr>\n",
       "  </thead>\n",
       "  <tbody>\n",
       "    <tr>\n",
       "      <th>0</th>\n",
       "      <td>820.000000000</td>\n",
       "      <td>ANTELOPE VALLEY</td>\n",
       "      <td>9302002</td>\n",
       "      <td>2012</td>\n",
       "      <td>Unincorporated</td>\n",
       "      <td>930200</td>\n",
       "      <td>25.0000000000</td>\n",
       "      <td>36.0000000000</td>\n",
       "      <td>25.0000000000</td>\n",
       "      <td>5.00000000000</td>\n",
       "      <td>...</td>\n",
       "      <td>Crescenta Valley Sheriff</td>\n",
       "      <td>Angeles National Forest</td>\n",
       "      <td>ACTON</td>\n",
       "      <td>0050025C</td>\n",
       "      <td>03701</td>\n",
       "      <td>1256</td>\n",
       "      <td>62410553.1831</td>\n",
       "      <td>43998.0247855</td>\n",
       "      <td>0106000020E6100000010000000103000000010000001D...</td>\n",
       "      <td>91387</td>\n",
       "    </tr>\n",
       "    <tr>\n",
       "      <th>1</th>\n",
       "      <td>801.000000000</td>\n",
       "      <td>ADAMS AREA</td>\n",
       "      <td>2362022</td>\n",
       "      <td>2001</td>\n",
       "      <td>Los Angeles</td>\n",
       "      <td>236202</td>\n",
       "      <td>37.0000000000</td>\n",
       "      <td>54.0000000000</td>\n",
       "      <td>30.0000000000</td>\n",
       "      <td>2.00000000000</td>\n",
       "      <td>...</td>\n",
       "      <td>LAPD Southwest Division</td>\n",
       "      <td>Crenshaw</td>\n",
       "      <td>LOS ANGELES</td>\n",
       "      <td>9002110C</td>\n",
       "      <td>03747</td>\n",
       "      <td>0361</td>\n",
       "      <td>95934.4321904</td>\n",
       "      <td>1683.74957954</td>\n",
       "      <td>0106000020E61000000200000001030000000100000005...</td>\n",
       "      <td>90008</td>\n",
       "    </tr>\n",
       "    <tr>\n",
       "      <th>2</th>\n",
       "      <td>817.000000000</td>\n",
       "      <td>LONG BEACH AREA</td>\n",
       "      <td>9800181</td>\n",
       "      <td>1001</td>\n",
       "      <td>Long Beach</td>\n",
       "      <td>980018</td>\n",
       "      <td>47.0000000000</td>\n",
       "      <td>70.0000000000</td>\n",
       "      <td>33.0000000000</td>\n",
       "      <td>4.00000000000</td>\n",
       "      <td>...</td>\n",
       "      <td>Long Beach Police</td>\n",
       "      <td>Long Beach</td>\n",
       "      <td>LONG BEACH</td>\n",
       "      <td>3850067D</td>\n",
       "      <td>03765</td>\n",
       "      <td>470</td>\n",
       "      <td>1171119.99084</td>\n",
       "      <td>5261.25374460</td>\n",
       "      <td>0106000020E6100000010000000103000000010000001C...</td>\n",
       "      <td>90807</td>\n",
       "    </tr>\n",
       "    <tr>\n",
       "      <th>3</th>\n",
       "      <td>834.000000000</td>\n",
       "      <td>WHITTIER AREA</td>\n",
       "      <td>5027002</td>\n",
       "      <td>2012</td>\n",
       "      <td>Santa Fe Springs</td>\n",
       "      <td>502700</td>\n",
       "      <td>38.0000000000</td>\n",
       "      <td>57.0000000000</td>\n",
       "      <td>32.0000000000</td>\n",
       "      <td>4.00000000000</td>\n",
       "      <td>...</td>\n",
       "      <td>Whittier Police</td>\n",
       "      <td>Santa Fe Springs</td>\n",
       "      <td>SANTA FE SPRINGS</td>\n",
       "      <td>6230011A</td>\n",
       "      <td>03754</td>\n",
       "      <td>1</td>\n",
       "      <td>1703893.38661</td>\n",
       "      <td>5563.81243254</td>\n",
       "      <td>0106000020E61000000100000001030000000100000022...</td>\n",
       "      <td>90670</td>\n",
       "    </tr>\n",
       "    <tr>\n",
       "      <th>4</th>\n",
       "      <td>817.000000000</td>\n",
       "      <td>LONG BEACH AREA</td>\n",
       "      <td>5702042</td>\n",
       "      <td>2006</td>\n",
       "      <td>Long Beach</td>\n",
       "      <td>570204</td>\n",
       "      <td>44.0000000000</td>\n",
       "      <td>63.0000000000</td>\n",
       "      <td>33.0000000000</td>\n",
       "      <td>4.00000000000</td>\n",
       "      <td>...</td>\n",
       "      <td>Long Beach Police</td>\n",
       "      <td>Long Beach</td>\n",
       "      <td>LONG BEACH</td>\n",
       "      <td>3850029E</td>\n",
       "      <td>03763</td>\n",
       "      <td>52-2</td>\n",
       "      <td>181621.878159</td>\n",
       "      <td>1845.37491686</td>\n",
       "      <td>0106000020E61000000100000001030000000100000008...</td>\n",
       "      <td>90805</td>\n",
       "    </tr>\n",
       "  </tbody>\n",
       "</table>\n",
       "<p>5 rows × 24 columns</p>\n",
       "</div>"
      ],
      "text/plain": [
       "       area_code        area_name     bg10  cb10              city    ct10  \\\n",
       "0  820.000000000  ANTELOPE VALLEY  9302002  2012    Unincorporated  930200   \n",
       "1  801.000000000       ADAMS AREA  2362022  2001       Los Angeles  236202   \n",
       "2  817.000000000  LONG BEACH AREA  9800181  1001        Long Beach  980018   \n",
       "3  834.000000000    WHITTIER AREA  5027002  2012  Santa Fe Springs  502700   \n",
       "4  817.000000000  LONG BEACH AREA  5702042  2006        Long Beach  570204   \n",
       "\n",
       "       dist_cong     dist_stass     dist_stsen       dist_sup  ...    \\\n",
       "0  25.0000000000  36.0000000000  25.0000000000  5.00000000000  ...     \n",
       "1  37.0000000000  54.0000000000  30.0000000000  2.00000000000  ...     \n",
       "2  47.0000000000  70.0000000000  33.0000000000  4.00000000000  ...     \n",
       "3  38.0000000000  57.0000000000  32.0000000000  4.00000000000  ...     \n",
       "4  44.0000000000  63.0000000000  33.0000000000  4.00000000000  ...     \n",
       "\n",
       "                       name                   name_1          prc_name  \\\n",
       "0  Crescenta Valley Sheriff  Angeles National Forest             ACTON   \n",
       "1   LAPD Southwest Division                 Crenshaw       LOS ANGELES   \n",
       "2         Long Beach Police               Long Beach        LONG BEACH   \n",
       "3           Whittier Police         Santa Fe Springs  SANTA FE SPRINGS   \n",
       "4         Long Beach Police               Long Beach        LONG BEACH   \n",
       "\n",
       "   precinct puma10    rd     shape_area     shape_leng  \\\n",
       "0  0050025C  03701  1256  62410553.1831  43998.0247855   \n",
       "1  9002110C  03747  0361  95934.4321904  1683.74957954   \n",
       "2  3850067D  03765   470  1171119.99084  5261.25374460   \n",
       "3  6230011A  03754     1  1703893.38661  5563.81243254   \n",
       "4  3850029E  03763  52-2  181621.878159  1845.37491686   \n",
       "\n",
       "                                            the_geom zcta10  \n",
       "0  0106000020E6100000010000000103000000010000001D...  91387  \n",
       "1  0106000020E61000000200000001030000000100000005...  90008  \n",
       "2  0106000020E6100000010000000103000000010000001C...  90807  \n",
       "3  0106000020E61000000100000001030000000100000022...  90670  \n",
       "4  0106000020E61000000100000001030000000100000008...  90805  \n",
       "\n",
       "[5 rows x 24 columns]"
      ]
     },
     "execution_count": 9,
     "metadata": {},
     "output_type": "execute_result"
    }
   ],
   "source": [
    "df"
   ]
  }
 ],
 "metadata": {
  "kernelspec": {
   "display_name": "Python 3",
   "language": "python",
   "name": "python3"
  },
  "language_info": {
   "codemirror_mode": {
    "name": "ipython",
    "version": 3
   },
   "file_extension": ".py",
   "mimetype": "text/x-python",
   "name": "python",
   "nbconvert_exporter": "python",
   "pygments_lexer": "ipython3",
   "version": "3.6.1"
  }
 },
 "nbformat": 4,
 "nbformat_minor": 2
}
