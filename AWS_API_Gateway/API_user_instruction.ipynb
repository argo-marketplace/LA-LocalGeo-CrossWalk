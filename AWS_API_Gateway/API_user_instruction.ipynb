{
 "cells": [
  {
   "cell_type": "markdown",
   "metadata": {},
   "source": [
    "# How to use this API"
   ]
  },
  {
   "cell_type": "markdown",
   "metadata": {},
   "source": [
    "by Lingyi Zhang"
   ]
  },
  {
   "cell_type": "markdown",
   "metadata": {},
   "source": [
    "#### In this example, we query data of LA County and NYC"
   ]
  },
  {
   "cell_type": "code",
   "execution_count": 1,
   "metadata": {
    "ExecuteTime": {
     "end_time": "2018-02-22T17:35:55.589423Z",
     "start_time": "2018-02-22T17:35:55.559610Z"
    }
   },
   "outputs": [],
   "source": [
    "from __future__ import print_function\n",
    "import json\n",
    "try:\n",
    "    import urllib2 as urllib\n",
    "except ImportError:\n",
    "    import urllib.request as urllib"
   ]
  },
  {
   "cell_type": "markdown",
   "metadata": {},
   "source": [
    "## 1. Let's try one single point first (LA County)"
   ]
  },
  {
   "cell_type": "code",
   "execution_count": 2,
   "metadata": {
    "ExecuteTime": {
     "end_time": "2018-02-22T17:35:55.596984Z",
     "start_time": "2018-02-22T17:35:55.592413Z"
    }
   },
   "outputs": [],
   "source": [
    "var_lon = str(-118.159953387143)\n",
    "var_lat = str(33.8719625444075)"
   ]
  },
  {
   "cell_type": "code",
   "execution_count": 3,
   "metadata": {
    "ExecuteTime": {
     "end_time": "2018-02-22T17:35:55.603190Z",
     "start_time": "2018-02-22T17:35:55.599649Z"
    }
   },
   "outputs": [],
   "source": [
    "url = \"https://d5tgnm602g.execute-api.us-east-1.amazonaws.com/beta/la?long=\"\\\n",
    "      + var_lon + \"&lati=\" + var_lat"
   ]
  },
  {
   "cell_type": "code",
   "execution_count": 4,
   "metadata": {
    "ExecuteTime": {
     "end_time": "2018-02-22T17:35:56.198972Z",
     "start_time": "2018-02-22T17:35:55.605375Z"
    }
   },
   "outputs": [
    {
     "data": {
      "text/plain": [
       "[{'area_code': '817.000000000',\n",
       "  'area_name': 'LONG BEACH AREA',\n",
       "  'bg10': '5702042',\n",
       "  'cb10': '2006',\n",
       "  'city': 'Long Beach',\n",
       "  'ct10': '570204',\n",
       "  'dist_cong': '44.0000000000',\n",
       "  'dist_stass': '63.0000000000',\n",
       "  'dist_stsen': '33.0000000000',\n",
       "  'dist_sup': '4.00000000000',\n",
       "  'gid': 322903,\n",
       "  'hd_2012': '40',\n",
       "  'hd_name': 'Long Beach',\n",
       "  'la_fip10': '43000',\n",
       "  'name': 'Long Beach Police',\n",
       "  'name_1': 'Long Beach',\n",
       "  'prc_name': 'LONG BEACH',\n",
       "  'precinct': '3850029A',\n",
       "  'puma10': '03763',\n",
       "  'rd': '48-2',\n",
       "  'shape_area': '466.321237884',\n",
       "  'shape_leng': '387.348209943',\n",
       "  'the_geom': '0106000020E61000000100000001030000000100000005000000E7A821AD3C8A5DC09BC8F9779CEF40404C2CDFD63C8A5DC0F803AD779CEF4040D01242D13C8A5DC01A70D0AFADEF4040674A9DB73C8A5DC03A9CE9AFADEF4040E7A821AD3C8A5DC09BC8F9779CEF4040',\n",
       "  'zcta10': '90805'}]"
      ]
     },
     "execution_count": 4,
     "metadata": {},
     "output_type": "execute_result"
    }
   ],
   "source": [
    "response = urllib.urlopen(url)\n",
    "data = response.read()\n",
    "data_json = json.loads(data)   #change to json format\n",
    "data_json"
   ]
  },
  {
   "cell_type": "code",
   "execution_count": 5,
   "metadata": {
    "ExecuteTime": {
     "end_time": "2018-02-22T17:35:56.208016Z",
     "start_time": "2018-02-22T17:35:56.201842Z"
    }
   },
   "outputs": [
    {
     "data": {
      "text/plain": [
       "'03763'"
      ]
     },
     "execution_count": 5,
     "metadata": {},
     "output_type": "execute_result"
    }
   ],
   "source": [
    "#extract the puma10 for example\n",
    "data_json[0]['puma10']"
   ]
  },
  {
   "cell_type": "markdown",
   "metadata": {},
   "source": [
    "## 2. Query 5 points (LA County)"
   ]
  },
  {
   "cell_type": "code",
   "execution_count": 6,
   "metadata": {
    "ExecuteTime": {
     "end_time": "2018-02-22T17:35:56.545291Z",
     "start_time": "2018-02-22T17:35:56.210802Z"
    }
   },
   "outputs": [],
   "source": [
    "import numpy as np\n",
    "import pandas as pd"
   ]
  },
  {
   "cell_type": "code",
   "execution_count": 7,
   "metadata": {
    "ExecuteTime": {
     "end_time": "2018-02-22T17:35:56.564591Z",
     "start_time": "2018-02-22T17:35:56.547260Z"
    }
   },
   "outputs": [
    {
     "data": {
      "text/html": [
       "<div>\n",
       "<style scoped>\n",
       "    .dataframe tbody tr th:only-of-type {\n",
       "        vertical-align: middle;\n",
       "    }\n",
       "\n",
       "    .dataframe tbody tr th {\n",
       "        vertical-align: top;\n",
       "    }\n",
       "\n",
       "    .dataframe thead th {\n",
       "        text-align: right;\n",
       "    }\n",
       "</style>\n",
       "<table border=\"1\" class=\"dataframe\">\n",
       "  <thead>\n",
       "    <tr style=\"text-align: right;\">\n",
       "      <th></th>\n",
       "      <th>longitude</th>\n",
       "      <th>latitude</th>\n",
       "    </tr>\n",
       "  </thead>\n",
       "  <tbody>\n",
       "    <tr>\n",
       "      <th>0</th>\n",
       "      <td>-118.281503</td>\n",
       "      <td>34.383769</td>\n",
       "    </tr>\n",
       "    <tr>\n",
       "      <th>1</th>\n",
       "      <td>-118.352919</td>\n",
       "      <td>34.012348</td>\n",
       "    </tr>\n",
       "    <tr>\n",
       "      <th>2</th>\n",
       "      <td>-118.159848</td>\n",
       "      <td>33.826203</td>\n",
       "    </tr>\n",
       "    <tr>\n",
       "      <th>3</th>\n",
       "      <td>-118.062350</td>\n",
       "      <td>33.960715</td>\n",
       "    </tr>\n",
       "    <tr>\n",
       "      <th>4</th>\n",
       "      <td>-118.159953</td>\n",
       "      <td>33.871963</td>\n",
       "    </tr>\n",
       "  </tbody>\n",
       "</table>\n",
       "</div>"
      ],
      "text/plain": [
       "    longitude   latitude\n",
       "0 -118.281503  34.383769\n",
       "1 -118.352919  34.012348\n",
       "2 -118.159848  33.826203\n",
       "3 -118.062350  33.960715\n",
       "4 -118.159953  33.871963"
      ]
     },
     "execution_count": 7,
     "metadata": {},
     "output_type": "execute_result"
    }
   ],
   "source": [
    "#5 points in LA county\n",
    "points = [(-118.281503, 34.383769),\n",
    "          (-118.352919, 34.012348),\n",
    "          (-118.159848, 33.826203),\n",
    "          (-118.062350, 33.960715),\n",
    "          (-118.159953387143, 33.8719625444075)]\n",
    "labels = ['longitude', 'latitude']\n",
    "df_quer = pd.DataFrame.from_records(points, columns=labels)\n",
    "df_quer"
   ]
  },
  {
   "cell_type": "code",
   "execution_count": 8,
   "metadata": {
    "ExecuteTime": {
     "end_time": "2018-02-22T17:35:57.232972Z",
     "start_time": "2018-02-22T17:35:56.567407Z"
    }
   },
   "outputs": [
    {
     "name": "stdout",
     "output_type": "stream",
     "text": [
      "Query point 1 ...\n",
      "Query point 2 ...\n",
      "Query point 3 ...\n",
      "Query point 4 ...\n",
      "Query point 5 ...\n"
     ]
    }
   ],
   "source": [
    "#Query the API\n",
    "resultlist = []\n",
    "for i in range(len(df_quer)):\n",
    "    var_lon = str(df_quer.iloc[i].longitude)\n",
    "    var_lat = str(df_quer.iloc[i].latitude)\n",
    "    \n",
    "    url = \"https://d5tgnm602g.execute-api.us-east-1.amazonaws.com/beta/la?long=\"\\\n",
    "      + var_lon + \"&lati=\" + var_lat\n",
    "    \n",
    "    data = urllib.urlopen(url).read()\n",
    "    print(\"Query point {} ...\".format(i+1))\n",
    "    data_json = json.loads(data)\n",
    "    resultlist.append(data_json[0])\n",
    "\n",
    "df = pd.DataFrame(resultlist)"
   ]
  },
  {
   "cell_type": "code",
   "execution_count": 9,
   "metadata": {
    "ExecuteTime": {
     "end_time": "2018-02-22T17:35:57.272163Z",
     "start_time": "2018-02-22T17:35:57.235869Z"
    }
   },
   "outputs": [
    {
     "data": {
      "text/html": [
       "<div>\n",
       "<style scoped>\n",
       "    .dataframe tbody tr th:only-of-type {\n",
       "        vertical-align: middle;\n",
       "    }\n",
       "\n",
       "    .dataframe tbody tr th {\n",
       "        vertical-align: top;\n",
       "    }\n",
       "\n",
       "    .dataframe thead th {\n",
       "        text-align: right;\n",
       "    }\n",
       "</style>\n",
       "<table border=\"1\" class=\"dataframe\">\n",
       "  <thead>\n",
       "    <tr style=\"text-align: right;\">\n",
       "      <th></th>\n",
       "      <th>area_code</th>\n",
       "      <th>area_name</th>\n",
       "      <th>bg10</th>\n",
       "      <th>cb10</th>\n",
       "      <th>city</th>\n",
       "      <th>ct10</th>\n",
       "      <th>dist_cong</th>\n",
       "      <th>dist_stass</th>\n",
       "      <th>dist_stsen</th>\n",
       "      <th>dist_sup</th>\n",
       "      <th>...</th>\n",
       "      <th>name</th>\n",
       "      <th>name_1</th>\n",
       "      <th>prc_name</th>\n",
       "      <th>precinct</th>\n",
       "      <th>puma10</th>\n",
       "      <th>rd</th>\n",
       "      <th>shape_area</th>\n",
       "      <th>shape_leng</th>\n",
       "      <th>the_geom</th>\n",
       "      <th>zcta10</th>\n",
       "    </tr>\n",
       "  </thead>\n",
       "  <tbody>\n",
       "    <tr>\n",
       "      <th>0</th>\n",
       "      <td>820.000000000</td>\n",
       "      <td>ANTELOPE VALLEY</td>\n",
       "      <td>9302002</td>\n",
       "      <td>2012</td>\n",
       "      <td>Unincorporated</td>\n",
       "      <td>930200</td>\n",
       "      <td>25.0000000000</td>\n",
       "      <td>36.0000000000</td>\n",
       "      <td>25.0000000000</td>\n",
       "      <td>5.00000000000</td>\n",
       "      <td>...</td>\n",
       "      <td>Crescenta Valley Sheriff</td>\n",
       "      <td>Angeles National Forest</td>\n",
       "      <td>ACTON</td>\n",
       "      <td>0050025C</td>\n",
       "      <td>03701</td>\n",
       "      <td>1256</td>\n",
       "      <td>62410553.1831</td>\n",
       "      <td>43998.0247855</td>\n",
       "      <td>0106000020E6100000010000000103000000010000001D...</td>\n",
       "      <td>91387</td>\n",
       "    </tr>\n",
       "    <tr>\n",
       "      <th>1</th>\n",
       "      <td>801.000000000</td>\n",
       "      <td>ADAMS AREA</td>\n",
       "      <td>2362022</td>\n",
       "      <td>2001</td>\n",
       "      <td>Los Angeles</td>\n",
       "      <td>236202</td>\n",
       "      <td>37.0000000000</td>\n",
       "      <td>54.0000000000</td>\n",
       "      <td>30.0000000000</td>\n",
       "      <td>2.00000000000</td>\n",
       "      <td>...</td>\n",
       "      <td>LAPD Southwest Division</td>\n",
       "      <td>Crenshaw</td>\n",
       "      <td>LOS ANGELES</td>\n",
       "      <td>9002110C</td>\n",
       "      <td>03747</td>\n",
       "      <td>0361</td>\n",
       "      <td>95934.4321904</td>\n",
       "      <td>1683.74957954</td>\n",
       "      <td>0106000020E61000000200000001030000000100000005...</td>\n",
       "      <td>90008</td>\n",
       "    </tr>\n",
       "    <tr>\n",
       "      <th>2</th>\n",
       "      <td>817.000000000</td>\n",
       "      <td>LONG BEACH AREA</td>\n",
       "      <td>9800181</td>\n",
       "      <td>1001</td>\n",
       "      <td>Long Beach</td>\n",
       "      <td>980018</td>\n",
       "      <td>47.0000000000</td>\n",
       "      <td>70.0000000000</td>\n",
       "      <td>33.0000000000</td>\n",
       "      <td>4.00000000000</td>\n",
       "      <td>...</td>\n",
       "      <td>Long Beach Police</td>\n",
       "      <td>Long Beach</td>\n",
       "      <td>LONG BEACH</td>\n",
       "      <td>3850067D</td>\n",
       "      <td>03765</td>\n",
       "      <td>470</td>\n",
       "      <td>1171119.99084</td>\n",
       "      <td>5261.25374460</td>\n",
       "      <td>0106000020E6100000010000000103000000010000001C...</td>\n",
       "      <td>90807</td>\n",
       "    </tr>\n",
       "    <tr>\n",
       "      <th>3</th>\n",
       "      <td>834.000000000</td>\n",
       "      <td>WHITTIER AREA</td>\n",
       "      <td>5027002</td>\n",
       "      <td>2012</td>\n",
       "      <td>Santa Fe Springs</td>\n",
       "      <td>502700</td>\n",
       "      <td>38.0000000000</td>\n",
       "      <td>57.0000000000</td>\n",
       "      <td>32.0000000000</td>\n",
       "      <td>4.00000000000</td>\n",
       "      <td>...</td>\n",
       "      <td>Whittier Police</td>\n",
       "      <td>Santa Fe Springs</td>\n",
       "      <td>SANTA FE SPRINGS</td>\n",
       "      <td>6230011A</td>\n",
       "      <td>03754</td>\n",
       "      <td>1</td>\n",
       "      <td>1703893.38661</td>\n",
       "      <td>5563.81243254</td>\n",
       "      <td>0106000020E61000000100000001030000000100000022...</td>\n",
       "      <td>90670</td>\n",
       "    </tr>\n",
       "    <tr>\n",
       "      <th>4</th>\n",
       "      <td>817.000000000</td>\n",
       "      <td>LONG BEACH AREA</td>\n",
       "      <td>5702042</td>\n",
       "      <td>2006</td>\n",
       "      <td>Long Beach</td>\n",
       "      <td>570204</td>\n",
       "      <td>44.0000000000</td>\n",
       "      <td>63.0000000000</td>\n",
       "      <td>33.0000000000</td>\n",
       "      <td>4.00000000000</td>\n",
       "      <td>...</td>\n",
       "      <td>Long Beach Police</td>\n",
       "      <td>Long Beach</td>\n",
       "      <td>LONG BEACH</td>\n",
       "      <td>3850029A</td>\n",
       "      <td>03763</td>\n",
       "      <td>48-2</td>\n",
       "      <td>466.321237884</td>\n",
       "      <td>387.348209943</td>\n",
       "      <td>0106000020E61000000100000001030000000100000005...</td>\n",
       "      <td>90805</td>\n",
       "    </tr>\n",
       "  </tbody>\n",
       "</table>\n",
       "<p>5 rows × 24 columns</p>\n",
       "</div>"
      ],
      "text/plain": [
       "       area_code        area_name     bg10  cb10              city    ct10  \\\n",
       "0  820.000000000  ANTELOPE VALLEY  9302002  2012    Unincorporated  930200   \n",
       "1  801.000000000       ADAMS AREA  2362022  2001       Los Angeles  236202   \n",
       "2  817.000000000  LONG BEACH AREA  9800181  1001        Long Beach  980018   \n",
       "3  834.000000000    WHITTIER AREA  5027002  2012  Santa Fe Springs  502700   \n",
       "4  817.000000000  LONG BEACH AREA  5702042  2006        Long Beach  570204   \n",
       "\n",
       "       dist_cong     dist_stass     dist_stsen       dist_sup  ...    \\\n",
       "0  25.0000000000  36.0000000000  25.0000000000  5.00000000000  ...     \n",
       "1  37.0000000000  54.0000000000  30.0000000000  2.00000000000  ...     \n",
       "2  47.0000000000  70.0000000000  33.0000000000  4.00000000000  ...     \n",
       "3  38.0000000000  57.0000000000  32.0000000000  4.00000000000  ...     \n",
       "4  44.0000000000  63.0000000000  33.0000000000  4.00000000000  ...     \n",
       "\n",
       "                       name                   name_1          prc_name  \\\n",
       "0  Crescenta Valley Sheriff  Angeles National Forest             ACTON   \n",
       "1   LAPD Southwest Division                 Crenshaw       LOS ANGELES   \n",
       "2         Long Beach Police               Long Beach        LONG BEACH   \n",
       "3           Whittier Police         Santa Fe Springs  SANTA FE SPRINGS   \n",
       "4         Long Beach Police               Long Beach        LONG BEACH   \n",
       "\n",
       "   precinct puma10    rd     shape_area     shape_leng  \\\n",
       "0  0050025C  03701  1256  62410553.1831  43998.0247855   \n",
       "1  9002110C  03747  0361  95934.4321904  1683.74957954   \n",
       "2  3850067D  03765   470  1171119.99084  5261.25374460   \n",
       "3  6230011A  03754     1  1703893.38661  5563.81243254   \n",
       "4  3850029A  03763  48-2  466.321237884  387.348209943   \n",
       "\n",
       "                                            the_geom zcta10  \n",
       "0  0106000020E6100000010000000103000000010000001D...  91387  \n",
       "1  0106000020E61000000200000001030000000100000005...  90008  \n",
       "2  0106000020E6100000010000000103000000010000001C...  90807  \n",
       "3  0106000020E61000000100000001030000000100000022...  90670  \n",
       "4  0106000020E61000000100000001030000000100000005...  90805  \n",
       "\n",
       "[5 rows x 24 columns]"
      ]
     },
     "execution_count": 9,
     "metadata": {},
     "output_type": "execute_result"
    }
   ],
   "source": [
    "df"
   ]
  },
  {
   "cell_type": "markdown",
   "metadata": {},
   "source": [
    "## 3. Real World Data"
   ]
  },
  {
   "cell_type": "markdown",
   "metadata": {},
   "source": [
    "#### NYC 311 water system complaint data with geo-cross-walk (from 2018-01-22 till now)"
   ]
  },
  {
   "cell_type": "code",
   "execution_count": 21,
   "metadata": {
    "ExecuteTime": {
     "end_time": "2018-02-22T21:16:09.917189Z",
     "start_time": "2018-02-22T21:16:09.631230Z"
    }
   },
   "outputs": [],
   "source": [
    "import os\n",
    "import matplotlib.pyplot as plt"
   ]
  },
  {
   "cell_type": "code",
   "execution_count": 11,
   "metadata": {
    "ExecuteTime": {
     "end_time": "2018-02-22T17:35:57.353528Z",
     "start_time": "2018-02-22T17:35:57.279453Z"
    }
   },
   "outputs": [],
   "source": [
    "#nyc open data API, you need apptoken to run this cell\n",
    "from sodapy import Socrata\n",
    "client = Socrata(\"data.cityofnewyork.us\", os.getenv(\"apptoken\"))"
   ]
  },
  {
   "cell_type": "code",
   "execution_count": 12,
   "metadata": {
    "ExecuteTime": {
     "end_time": "2018-02-22T17:35:58.489473Z",
     "start_time": "2018-02-22T17:35:57.356101Z"
    }
   },
   "outputs": [
    {
     "name": "stdout",
     "output_type": "stream",
     "text": [
      "Total sample size: (5654, 4)\n"
     ]
    },
    {
     "data": {
      "text/html": [
       "<div>\n",
       "<style scoped>\n",
       "    .dataframe tbody tr th:only-of-type {\n",
       "        vertical-align: middle;\n",
       "    }\n",
       "\n",
       "    .dataframe tbody tr th {\n",
       "        vertical-align: top;\n",
       "    }\n",
       "\n",
       "    .dataframe thead th {\n",
       "        text-align: right;\n",
       "    }\n",
       "</style>\n",
       "<table border=\"1\" class=\"dataframe\">\n",
       "  <thead>\n",
       "    <tr style=\"text-align: right;\">\n",
       "      <th></th>\n",
       "      <th>complaint_type</th>\n",
       "      <th>created_date</th>\n",
       "      <th>latitude</th>\n",
       "      <th>longitude</th>\n",
       "    </tr>\n",
       "  </thead>\n",
       "  <tbody>\n",
       "    <tr>\n",
       "      <th>0</th>\n",
       "      <td>Water System</td>\n",
       "      <td>2018-01-22T14:55:00.000</td>\n",
       "      <td>40.600546459437005</td>\n",
       "      <td>-74.1239312104186</td>\n",
       "    </tr>\n",
       "    <tr>\n",
       "      <th>1</th>\n",
       "      <td>Water System</td>\n",
       "      <td>2018-01-22T16:34:00.000</td>\n",
       "      <td>40.54454632291107</td>\n",
       "      <td>-74.14763575960957</td>\n",
       "    </tr>\n",
       "    <tr>\n",
       "      <th>2</th>\n",
       "      <td>Water System</td>\n",
       "      <td>2018-01-22T14:53:00.000</td>\n",
       "      <td>40.545058317836954</td>\n",
       "      <td>-74.14649629470112</td>\n",
       "    </tr>\n",
       "    <tr>\n",
       "      <th>3</th>\n",
       "      <td>Water System</td>\n",
       "      <td>2018-01-22T21:08:00.000</td>\n",
       "      <td>40.77495400459102</td>\n",
       "      <td>-73.84180536130168</td>\n",
       "    </tr>\n",
       "    <tr>\n",
       "      <th>4</th>\n",
       "      <td>Water System</td>\n",
       "      <td>2018-01-22T12:32:00.000</td>\n",
       "      <td>40.85276928326472</td>\n",
       "      <td>-73.9303006669867</td>\n",
       "    </tr>\n",
       "  </tbody>\n",
       "</table>\n",
       "</div>"
      ],
      "text/plain": [
       "  complaint_type             created_date            latitude  \\\n",
       "0   Water System  2018-01-22T14:55:00.000  40.600546459437005   \n",
       "1   Water System  2018-01-22T16:34:00.000   40.54454632291107   \n",
       "2   Water System  2018-01-22T14:53:00.000  40.545058317836954   \n",
       "3   Water System  2018-01-22T21:08:00.000   40.77495400459102   \n",
       "4   Water System  2018-01-22T12:32:00.000   40.85276928326472   \n",
       "\n",
       "            longitude  \n",
       "0   -74.1239312104186  \n",
       "1  -74.14763575960957  \n",
       "2  -74.14649629470112  \n",
       "3  -73.84180536130168  \n",
       "4   -73.9303006669867  "
      ]
     },
     "execution_count": 12,
     "metadata": {},
     "output_type": "execute_result"
    }
   ],
   "source": [
    "results = client.get(\"fhrw-4uyv\",\n",
    "                     select = \"created_date, complaint_type, latitude, longitude\",\n",
    "                     where=\"complaint_type='Water System' and created_date > '2018-01-22T00:00:12.000'\",\n",
    "                     limit=167000)\n",
    "df_water = pd.DataFrame.from_records(results)\n",
    "df_water.dropna(inplace=True)\n",
    "df_water.reset_index(drop=True, inplace=True)\n",
    "print(\"Total sample size: {}\".format(df_water.shape))\n",
    "df_water.head()"
   ]
  },
  {
   "cell_type": "code",
   "execution_count": 13,
   "metadata": {
    "ExecuteTime": {
     "end_time": "2018-02-22T17:48:23.659756Z",
     "start_time": "2018-02-22T17:35:58.492254Z"
    }
   },
   "outputs": [
    {
     "name": "stdout",
     "output_type": "stream",
     "text": [
      "Query point 1 ...\n",
      "Query point 1001 ...\n",
      "Query point 2001 ...\n",
      "Query point 3001 ...\n",
      "KeyError at 3283\n",
      "Query point 4001 ...\n",
      "IndexError at 4991\n",
      "Query point 5001 ...\n"
     ]
    }
   ],
   "source": [
    "#Query the geo-cross-walk API\n",
    "resultlist = []\n",
    "for i in range(len(df_water)):\n",
    "    var_lon = str(df_water.iloc[i].longitude)\n",
    "    var_lat = str(df_water.iloc[i].latitude)\n",
    "    \n",
    "    url = \"https://d5tgnm602g.execute-api.us-east-1.amazonaws.com/beta/nyc?long=\"\\\n",
    "      + var_lon + \"&lati=\" + var_lat\n",
    "    \n",
    "    data = urllib.urlopen(url).read()\n",
    "    data_json = json.loads(data)\n",
    "    try:\n",
    "        resultlist.append(data_json[0])\n",
    "    except KeyError:\n",
    "        print(\"KeyError at {}\".format(i))\n",
    "        continue\n",
    "    except IndexError:\n",
    "        print(\"IndexError at {}\".format(i))\n",
    "        continue\n",
    "    if i % 1000 == 0:\n",
    "        print(\"Query point {} ...\".format(i+1))\n",
    "\n",
    "df_api = pd.DataFrame(resultlist)\n",
    "df_final = pd.concat([df_water, df_api], axis=1)"
   ]
  },
  {
   "cell_type": "markdown",
   "metadata": {},
   "source": [
    "Here the query point which is unsuccessful turns out to be out of NYC."
   ]
  },
  {
   "cell_type": "code",
   "execution_count": 17,
   "metadata": {
    "ExecuteTime": {
     "end_time": "2018-02-22T21:13:38.043002Z",
     "start_time": "2018-02-22T21:13:37.906145Z"
    }
   },
   "outputs": [
    {
     "data": {
      "text/html": [
       "<div>\n",
       "<style scoped>\n",
       "    .dataframe tbody tr th:only-of-type {\n",
       "        vertical-align: middle;\n",
       "    }\n",
       "\n",
       "    .dataframe tbody tr th {\n",
       "        vertical-align: top;\n",
       "    }\n",
       "\n",
       "    .dataframe thead th {\n",
       "        text-align: right;\n",
       "    }\n",
       "</style>\n",
       "<table border=\"1\" class=\"dataframe\">\n",
       "  <thead>\n",
       "    <tr style=\"text-align: right;\">\n",
       "      <th></th>\n",
       "      <th>complaint_type</th>\n",
       "      <th>created_date</th>\n",
       "      <th>latitude</th>\n",
       "      <th>longitude</th>\n",
       "      <th>assemdist</th>\n",
       "      <th>bctcb2010</th>\n",
       "      <th>borocd</th>\n",
       "      <th>borocode</th>\n",
       "      <th>boroct2010</th>\n",
       "      <th>boroname</th>\n",
       "      <th>...</th>\n",
       "      <th>gid</th>\n",
       "      <th>hcentdist</th>\n",
       "      <th>healtharea</th>\n",
       "      <th>ntacode</th>\n",
       "      <th>ntaname</th>\n",
       "      <th>precinct</th>\n",
       "      <th>puma</th>\n",
       "      <th>schooldist</th>\n",
       "      <th>stsendist</th>\n",
       "      <th>the_geom</th>\n",
       "    </tr>\n",
       "  </thead>\n",
       "  <tbody>\n",
       "    <tr>\n",
       "      <th>0</th>\n",
       "      <td>Water System</td>\n",
       "      <td>2018-01-22T14:55:00.000</td>\n",
       "      <td>40.600546459437005</td>\n",
       "      <td>-74.1239312104186</td>\n",
       "      <td>63.0</td>\n",
       "      <td>50187023012</td>\n",
       "      <td>502.0</td>\n",
       "      <td>5</td>\n",
       "      <td>5018702</td>\n",
       "      <td>Staten Island</td>\n",
       "      <td>...</td>\n",
       "      <td>3116.0</td>\n",
       "      <td>51.0</td>\n",
       "      <td>5.0</td>\n",
       "      <td>SI05</td>\n",
       "      <td>New Springville-Bloomfield-Travis</td>\n",
       "      <td>121.0</td>\n",
       "      <td>3902</td>\n",
       "      <td>31.0</td>\n",
       "      <td>24.0</td>\n",
       "      <td>0106000020E61000000100000001030000000100000009...</td>\n",
       "    </tr>\n",
       "    <tr>\n",
       "      <th>1</th>\n",
       "      <td>Water System</td>\n",
       "      <td>2018-01-22T16:34:00.000</td>\n",
       "      <td>40.54454632291107</td>\n",
       "      <td>-74.14763575960957</td>\n",
       "      <td>64.0</td>\n",
       "      <td>50132032017</td>\n",
       "      <td>503.0</td>\n",
       "      <td>5</td>\n",
       "      <td>5013203</td>\n",
       "      <td>Staten Island</td>\n",
       "      <td>...</td>\n",
       "      <td>2550.0</td>\n",
       "      <td>51.0</td>\n",
       "      <td>5.0</td>\n",
       "      <td>SI54</td>\n",
       "      <td>Great Kills</td>\n",
       "      <td>122.0</td>\n",
       "      <td>3901</td>\n",
       "      <td>31.0</td>\n",
       "      <td>24.0</td>\n",
       "      <td>0106000020E6100000010000000103000000010000001A...</td>\n",
       "    </tr>\n",
       "    <tr>\n",
       "      <th>2</th>\n",
       "      <td>Water System</td>\n",
       "      <td>2018-01-22T14:53:00.000</td>\n",
       "      <td>40.545058317836954</td>\n",
       "      <td>-74.14649629470112</td>\n",
       "      <td>64.0</td>\n",
       "      <td>50132032016</td>\n",
       "      <td>503.0</td>\n",
       "      <td>5</td>\n",
       "      <td>5013203</td>\n",
       "      <td>Staten Island</td>\n",
       "      <td>...</td>\n",
       "      <td>2520.0</td>\n",
       "      <td>51.0</td>\n",
       "      <td>5.0</td>\n",
       "      <td>SI54</td>\n",
       "      <td>Great Kills</td>\n",
       "      <td>122.0</td>\n",
       "      <td>3901</td>\n",
       "      <td>31.0</td>\n",
       "      <td>24.0</td>\n",
       "      <td>0106000020E61000000100000001030000000100000009...</td>\n",
       "    </tr>\n",
       "    <tr>\n",
       "      <th>3</th>\n",
       "      <td>Water System</td>\n",
       "      <td>2018-01-22T21:08:00.000</td>\n",
       "      <td>40.77495400459102</td>\n",
       "      <td>-73.84180536130168</td>\n",
       "      <td>27.0</td>\n",
       "      <td>40907001016</td>\n",
       "      <td>407.0</td>\n",
       "      <td>4</td>\n",
       "      <td>4090700</td>\n",
       "      <td>Queens</td>\n",
       "      <td>...</td>\n",
       "      <td>20407.0</td>\n",
       "      <td>43.0</td>\n",
       "      <td>4.0</td>\n",
       "      <td>QN23</td>\n",
       "      <td>College Point</td>\n",
       "      <td>109.0</td>\n",
       "      <td>4103</td>\n",
       "      <td>25.0</td>\n",
       "      <td>11.0</td>\n",
       "      <td>0106000020E61000000100000001030000000100000007...</td>\n",
       "    </tr>\n",
       "    <tr>\n",
       "      <th>4</th>\n",
       "      <td>Water System</td>\n",
       "      <td>2018-01-22T12:32:00.000</td>\n",
       "      <td>40.85276928326472</td>\n",
       "      <td>-73.9303006669867</td>\n",
       "      <td>72.0</td>\n",
       "      <td>10269006001</td>\n",
       "      <td>112.0</td>\n",
       "      <td>1</td>\n",
       "      <td>1027900</td>\n",
       "      <td>Manhattan</td>\n",
       "      <td>...</td>\n",
       "      <td>5392.0</td>\n",
       "      <td>17.0</td>\n",
       "      <td>1.0</td>\n",
       "      <td>MN35</td>\n",
       "      <td>Washington Heights North</td>\n",
       "      <td>34.0</td>\n",
       "      <td>3801</td>\n",
       "      <td>6.0</td>\n",
       "      <td>31.0</td>\n",
       "      <td>0106000020E61000000100000001030000000100000005...</td>\n",
       "    </tr>\n",
       "  </tbody>\n",
       "</table>\n",
       "<p>5 rows × 31 columns</p>\n",
       "</div>"
      ],
      "text/plain": [
       "  complaint_type             created_date            latitude  \\\n",
       "0   Water System  2018-01-22T14:55:00.000  40.600546459437005   \n",
       "1   Water System  2018-01-22T16:34:00.000   40.54454632291107   \n",
       "2   Water System  2018-01-22T14:53:00.000  40.545058317836954   \n",
       "3   Water System  2018-01-22T21:08:00.000   40.77495400459102   \n",
       "4   Water System  2018-01-22T12:32:00.000   40.85276928326472   \n",
       "\n",
       "            longitude  assemdist    bctcb2010  borocd borocode boroct2010  \\\n",
       "0   -74.1239312104186       63.0  50187023012   502.0        5    5018702   \n",
       "1  -74.14763575960957       64.0  50132032017   503.0        5    5013203   \n",
       "2  -74.14649629470112       64.0  50132032016   503.0        5    5013203   \n",
       "3  -73.84180536130168       27.0  40907001016   407.0        4    4090700   \n",
       "4   -73.9303006669867       72.0  10269006001   112.0        1    1027900   \n",
       "\n",
       "        boroname                        ...                              gid  \\\n",
       "0  Staten Island                        ...                           3116.0   \n",
       "1  Staten Island                        ...                           2550.0   \n",
       "2  Staten Island                        ...                           2520.0   \n",
       "3         Queens                        ...                          20407.0   \n",
       "4      Manhattan                        ...                           5392.0   \n",
       "\n",
       "  hcentdist healtharea  ntacode                            ntaname precinct  \\\n",
       "0      51.0        5.0     SI05  New Springville-Bloomfield-Travis    121.0   \n",
       "1      51.0        5.0     SI54                        Great Kills    122.0   \n",
       "2      51.0        5.0     SI54                        Great Kills    122.0   \n",
       "3      43.0        4.0     QN23                      College Point    109.0   \n",
       "4      17.0        1.0     MN35           Washington Heights North     34.0   \n",
       "\n",
       "   puma  schooldist  stsendist  \\\n",
       "0  3902        31.0       24.0   \n",
       "1  3901        31.0       24.0   \n",
       "2  3901        31.0       24.0   \n",
       "3  4103        25.0       11.0   \n",
       "4  3801         6.0       31.0   \n",
       "\n",
       "                                            the_geom  \n",
       "0  0106000020E61000000100000001030000000100000009...  \n",
       "1  0106000020E6100000010000000103000000010000001A...  \n",
       "2  0106000020E61000000100000001030000000100000009...  \n",
       "3  0106000020E61000000100000001030000000100000007...  \n",
       "4  0106000020E61000000100000001030000000100000005...  \n",
       "\n",
       "[5 rows x 31 columns]"
      ]
     },
     "execution_count": 17,
     "metadata": {},
     "output_type": "execute_result"
    }
   ],
   "source": [
    "df_final.dropna(inplace=True)\n",
    "df_final.reset_index(drop=True, inplace=True)\n",
    "df_final.head()"
   ]
  },
  {
   "cell_type": "code",
   "execution_count": 19,
   "metadata": {
    "ExecuteTime": {
     "end_time": "2018-02-22T21:14:42.560588Z",
     "start_time": "2018-02-22T21:14:42.552906Z"
    }
   },
   "outputs": [
    {
     "data": {
      "text/plain": [
       "Index(['complaint_type', 'created_date', 'latitude', 'longitude', 'assemdist',\n",
       "       'bctcb2010', 'borocd', 'borocode', 'boroct2010', 'boroname',\n",
       "       'cartodb_id', 'cb2010', 'cdeligibil', 'congdist', 'coundist', 'ct2010',\n",
       "       'electdist', 'firebn', 'fireconum', 'firecotype', 'firediv', 'gid',\n",
       "       'hcentdist', 'healtharea', 'ntacode', 'ntaname', 'precinct', 'puma',\n",
       "       'schooldist', 'stsendist', 'the_geom'],\n",
       "      dtype='object')"
      ]
     },
     "execution_count": 19,
     "metadata": {},
     "output_type": "execute_result"
    }
   ],
   "source": [
    "#show all the geometry levels we can use\n",
    "df_final.columns"
   ]
  },
  {
   "cell_type": "markdown",
   "metadata": {},
   "source": [
    "### With geo-cross-walk, we now can easily do analysis on different geometry level without importing extra datasets."
   ]
  },
  {
   "cell_type": "code",
   "execution_count": 22,
   "metadata": {
    "ExecuteTime": {
     "end_time": "2018-02-22T21:16:22.073187Z",
     "start_time": "2018-02-22T21:16:21.674921Z"
    }
   },
   "outputs": [
    {
     "data": {
      "image/png": "[encoded data removed]",
      "text/plain": [
       "<matplotlib.figure.Figure at 0x10b194cf8>"
      ]
     },
     "metadata": {},
     "output_type": "display_data"
    }
   ],
   "source": [
    "fig = plt.figure(figsize=(14,8))\n",
    "ax = df_final.groupby(df_final['boroname']).count().loc[:,\"complaint_type\"].plot(kind=\"bar\", color='SteelBlue', alpha=0.5)\n",
    "ax.set_xlabel('Borough', fontsize=18)\n",
    "ax.set_ylabel('Count', fontsize=18)\n",
    "ax.set_title('NYC 311 water system complaints by borough in the last month', fontsize=22)\n",
    "\n",
    "plt.show()"
   ]
  },
  {
   "cell_type": "code",
   "execution_count": 23,
   "metadata": {
    "ExecuteTime": {
     "end_time": "2018-02-22T21:17:13.585231Z",
     "start_time": "2018-02-22T21:17:12.851925Z"
    }
   },
   "outputs": [
    {
     "data": {
      "image/png": "[encoded data removed]",
      "text/plain": [
       "<matplotlib.figure.Figure at 0x10dc097b8>"
      ]
     },
     "metadata": {},
     "output_type": "display_data"
    }
   ],
   "source": [
    "fig = plt.figure(figsize=(14,8))\n",
    "df_final['precinct'] = df_final['precinct'].astype(float).astype(int)\n",
    "ax = df_final.groupby(df_final['precinct']).count().loc[:,\"complaint_type\"].plot(kind=\"bar\", color='SteelBlue', alpha=0.5)\n",
    "ax.set_xlabel('Police Precinct', fontsize=18)\n",
    "ax.set_ylabel('Count', fontsize=18)\n",
    "ax.set_title('NYC 311 water system complaints by Police Precinct in the last month', fontsize=22)\n",
    "\n",
    "plt.show()"
   ]
  }
 ],
 "metadata": {
  "kernelspec": {
   "display_name": "Python 3",
   "language": "python",
   "name": "python3"
  },
  "language_info": {
   "codemirror_mode": {
    "name": "ipython",
    "version": 3
   },
   "file_extension": ".py",
   "mimetype": "text/x-python",
   "name": "python",
   "nbconvert_exporter": "python",
   "pygments_lexer": "ipython3",
   "version": "3.6.1"
  }
 },
 "nbformat": 4,
 "nbformat_minor": 2
}
