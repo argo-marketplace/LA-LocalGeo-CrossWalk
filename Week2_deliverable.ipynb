{
 "cells": [
  {
   "cell_type": "markdown",
   "metadata": {},
   "source": [
    "Using Python 3 Kernel"
   ]
  },
  {
   "cell_type": "code",
   "execution_count": 2,
   "metadata": {
    "ExecuteTime": {
     "end_time": "2018-01-06T04:34:01.141725Z",
     "start_time": "2018-01-06T04:34:00.368843Z"
    }
   },
   "outputs": [],
   "source": [
    "%matplotlib inline\n",
    "from __future__ import print_function, division\n",
    "import numpy as np\n",
    "import pandas as pd\n",
    "import matplotlib.pyplot as plt\n",
    "import os\n",
    "import geopandas as gpd\n",
    "from fiona.crs import from_epsg\n",
    "from geopandas.tools import overlay"
   ]
  },
  {
   "cell_type": "code",
   "execution_count": 3,
   "metadata": {
    "ExecuteTime": {
     "end_time": "2018-01-06T04:34:01.612645Z",
     "start_time": "2018-01-06T04:34:01.143483Z"
    },
    "code_folding": [
     1
    ]
   },
   "outputs": [],
   "source": [
    "#Function for overlay\n",
    "def spatial_overlays(df1, df2, how='intersection', reproject=True):\n",
    "    \"\"\"Perform spatial overlay between two polygons.\n",
    "\n",
    "    Currently only supports data GeoDataFrames with polygons.\n",
    "    Implements several methods that are all effectively subsets of\n",
    "    the union.\n",
    "\n",
    "    Parameters\n",
    "    ----------\n",
    "    df1 : GeoDataFrame with MultiPolygon or Polygon geometry column\n",
    "    df2 : GeoDataFrame with MultiPolygon or Polygon geometry column\n",
    "    how : string\n",
    "        Method of spatial overlay: 'intersection', 'union',\n",
    "        'identity', 'symmetric_difference' or 'difference'.\n",
    "    use_sindex : boolean, default True\n",
    "        Use the spatial index to speed up operation if available.\n",
    "\n",
    "    Returns\n",
    "    -------\n",
    "    df : GeoDataFrame\n",
    "        GeoDataFrame with new set of polygons and attributes\n",
    "        resulting from the overlay\n",
    "\n",
    "    \"\"\"\n",
    "    from functools import reduce\n",
    "    df1 = df1.copy()\n",
    "    df2 = df2.copy()\n",
    "    df1['geometry'] = df1.geometry.buffer(0)\n",
    "    df2['geometry'] = df2.geometry.buffer(0)\n",
    "    if df1.crs!=df2.crs and reproject:\n",
    "        print('Data has different projections.')\n",
    "        print('Converted data to projection of first GeoPandas DatFrame')\n",
    "        df2.to_crs(crs=df1.crs, inplace=True)\n",
    "    if how=='intersection':\n",
    "        # Spatial Index to create intersections\n",
    "        spatial_index = df2.sindex\n",
    "        df1['bbox'] = df1.geometry.apply(lambda x: x.bounds)\n",
    "        df1['sidx']=df1.bbox.apply(lambda x:list(spatial_index.intersection(x)))\n",
    "        pairs = df1['sidx'].to_dict()\n",
    "        nei = []\n",
    "        for i,j in pairs.items():\n",
    "            for k in j:\n",
    "                nei.append([i,k])\n",
    "        pairs = gpd.GeoDataFrame(nei, columns=['idx1','idx2'], crs=df1.crs)\n",
    "        pairs = pairs.merge(df1, left_on='idx1', right_index=True)\n",
    "        pairs = pairs.merge(df2, left_on='idx2', right_index=True, suffixes=['_1','_2'])\n",
    "        pairs['Intersection'] = pairs.apply(lambda x: (x['geometry_1'].intersection(x['geometry_2'])).buffer(0), axis=1)\n",
    "        pairs = gpd.GeoDataFrame(pairs, columns=pairs.columns, crs=df1.crs)\n",
    "        cols = pairs.columns.tolist()\n",
    "        cols.remove('geometry_1')\n",
    "        cols.remove('geometry_2')\n",
    "        cols.remove('sidx')\n",
    "        cols.remove('bbox')\n",
    "        cols.remove('Intersection')\n",
    "        dfinter = pairs[cols+['Intersection']].copy()\n",
    "        dfinter.rename(columns={'Intersection':'geometry'}, inplace=True)\n",
    "        dfinter = gpd.GeoDataFrame(dfinter, columns=dfinter.columns, crs=pairs.crs)\n",
    "        dfinter = dfinter.loc[dfinter.geometry.is_empty==False]\n",
    "        dfinter.drop(['idx1','idx2'], inplace=True, axis=1)\n",
    "        return dfinter\n",
    "    elif how=='difference':\n",
    "        spatial_index = df2.sindex\n",
    "        df1['bbox'] = df1.geometry.apply(lambda x: x.bounds)\n",
    "        df1['sidx']=df1.bbox.apply(lambda x:list(spatial_index.intersection(x)))\n",
    "        df1['new_g'] = df1.apply(lambda x: reduce(lambda x, y: x.difference(y).buffer(0), \n",
    "                                 [x.geometry]+list(df2.iloc[x.sidx].geometry)) , axis=1)\n",
    "        df1.geometry = df1.new_g\n",
    "        df1 = df1.loc[df1.geometry.is_empty==False].copy()\n",
    "        df1.drop(['bbox', 'sidx', 'new_g'], axis=1, inplace=True)\n",
    "        return df1\n",
    "    elif how=='symmetric_difference':\n",
    "        df1['idx1'] = df1.index.tolist()\n",
    "        df2['idx2'] = df2.index.tolist()\n",
    "        df1['idx2'] = np.nan\n",
    "        df2['idx1'] = np.nan\n",
    "        dfsym = df1.merge(df2, on=['idx1','idx2'], how='outer', suffixes=['_1','_2'])\n",
    "        dfsym['geometry'] = dfsym.geometry_1\n",
    "        dfsym.loc[dfsym.geometry_2.isnull()==False, 'geometry'] = dfsym.loc[dfsym.geometry_2.isnull()==False, 'geometry_2']\n",
    "        dfsym.drop(['geometry_1', 'geometry_2'], axis=1, inplace=True)\n",
    "        dfsym = gpd.GeoDataFrame(dfsym, columns=dfsym.columns, crs=df1.crs)\n",
    "        spatial_index = dfsym.sindex\n",
    "        dfsym['bbox'] = dfsym.geometry.apply(lambda x: x.bounds)\n",
    "        dfsym['sidx'] = dfsym.bbox.apply(lambda x:list(spatial_index.intersection(x)))\n",
    "        dfsym['idx'] = dfsym.index.values\n",
    "        dfsym.apply(lambda x: x.sidx.remove(x.idx), axis=1)\n",
    "        dfsym['new_g'] = dfsym.apply(lambda x: reduce(lambda x, y: x.difference(y).buffer(0), \n",
    "                         [x.geometry]+list(dfsym.iloc[x.sidx].geometry)) , axis=1)\n",
    "        dfsym.geometry = dfsym.new_g\n",
    "        dfsym = dfsym.loc[dfsym.geometry.is_empty==False].copy()\n",
    "        dfsym.drop(['bbox', 'sidx', 'idx', 'idx1','idx2', 'new_g'], axis=1, inplace=True)\n",
    "        return dfsym\n",
    "    elif how=='union':\n",
    "        dfinter = spatial_overlays(df1, df2, how='intersection')\n",
    "        dfsym = spatial_overlays(df1, df2, how='symmetric_difference')\n",
    "        dfunion = dfinter.append(dfsym)\n",
    "        dfunion.reset_index(inplace=True, drop=True)\n",
    "        return dfunion\n",
    "    elif how=='identity':\n",
    "        dfunion = spatial_overlays(df1, df2, how='union')\n",
    "        cols1 = df1.columns.tolist()\n",
    "        cols2 = df2.columns.tolist()\n",
    "        cols1.remove('geometry')\n",
    "        cols2.remove('geometry')\n",
    "        cols2 = set(cols2).intersection(set(cols1))\n",
    "        cols1 = list(set(cols1).difference(set(cols2)))\n",
    "        cols2 = [col+'_1' for col in cols2]\n",
    "        dfunion = dfunion[(dfunion[cols1+cols2].isnull()==False).values]\n",
    "        return dfunion"
   ]
  },
  {
   "cell_type": "code",
   "execution_count": 4,
   "metadata": {
    "ExecuteTime": {
     "end_time": "2018-01-06T04:34:01.632192Z",
     "start_time": "2018-01-06T04:34:01.616370Z"
    },
    "code_folding": [
     1
    ]
   },
   "outputs": [],
   "source": [
    "#function for download data from egis3\n",
    "def download_egis3(url, zipname, folder, shpname):\n",
    "    #take in download url, downloaded zipfile name, folder name\n",
    "    #containing unzipped shapefile, shapefile name\n",
    "    #return the downloaded geodataframe\n",
    "    os.system(\"curl -O \" + url)\n",
    "    os.system(\"unzip \" + zipname + \" -d \" + folder)\n",
    "    \n",
    "    df = folder\n",
    "    df = gpd.read_file(folder + \"/\" + shpname)\n",
    "\n",
    "    df.crs = from_epsg(2229)\n",
    "    df = df.to_crs(epsg=4326)\n",
    "    return df"
   ]
  },
  {
   "cell_type": "code",
   "execution_count": 5,
   "metadata": {
    "ExecuteTime": {
     "end_time": "2018-01-06T04:34:01.644086Z",
     "start_time": "2018-01-06T04:34:01.635903Z"
    },
    "code_folding": [
     1
    ]
   },
   "outputs": [],
   "source": [
    "#function for reading downloaded census data from Census Bureau\n",
    "def read_census(zipname, folder, shpname):\n",
    "    os.system(\"curl -O \" + url)\n",
    "    os.system(\"unzip \" + zipname + \" -d \" + folder)\n",
    "    \n",
    "    df = folder\n",
    "    df = gpd.read_file(folder + \"/\" + shpname)\n",
    "\n",
    "    return df "
   ]
  },
  {
   "cell_type": "code",
   "execution_count": 6,
   "metadata": {
    "ExecuteTime": {
     "end_time": "2018-01-06T04:34:01.661173Z",
     "start_time": "2018-01-06T04:34:01.646809Z"
    },
    "code_folding": [
     1
    ]
   },
   "outputs": [],
   "source": [
    "#function to check the data quality\n",
    "def checkdf(dfname):\n",
    "    #take in geodataframe\n",
    "    #return number of null values and unique values\n",
    "    tota_poly = dfname.shape[0]\n",
    "    print ('Total polygon number: {}'.format(tota_poly))    \n",
    "    print ('number of null and unique values in each column:')\n",
    "    \n",
    "    for i in dfname.columns[:-1]:\n",
    "        tota_valu = dfname.count()[i]\n",
    "        null_valu = tota_poly - tota_valu\n",
    "        uniq_valu = len(dfname[i].unique())\n",
    "        print ('{}: null {}, unique {}'.format(i, null_valu, uniq_valu))\n",
    "    return dfname.head(3)"
   ]
  },
  {
   "cell_type": "code",
   "execution_count": 7,
   "metadata": {
    "ExecuteTime": {
     "end_time": "2018-01-06T04:34:01.682477Z",
     "start_time": "2018-01-06T04:34:01.664476Z"
    },
    "code_folding": [
     1
    ]
   },
   "outputs": [],
   "source": [
    "#function to drop redundant columns\n",
    "def cleandf(dfname, droplist):\n",
    "    #take in geodataframe and list of column name redundant\n",
    "    #return the clean df\n",
    "    notneedlist = ['OBJECTID', 'Shape_area', 'Shape_len']\n",
    "    \n",
    "    for i in dfname.columns[:-1]:\n",
    "        if i in notneedlist:\n",
    "            dfname.drop([i], axis=1, inplace=True)\n",
    "            \n",
    "    for i in droplist:\n",
    "        dfname.drop([i], axis=1, inplace=True)\n",
    "    \n",
    "    return dfname.head(3)"
   ]
  },
  {
   "cell_type": "markdown",
   "metadata": {},
   "source": [
    "## Data inspection"
   ]
  },
  {
   "cell_type": "markdown",
   "metadata": {},
   "source": [
    "#### We inspected the following 20 geometries:\n",
    "- .[Health Districts (HD) – 2012](http://egis3.lacounty.gov/dataportal/2012/03/01/health-districts-hd-2012/)\n",
    "- ..[Law Enforcement Reporting Districts](https://egis3.lacounty.gov/dataportal/2010/10/05/law-enforcement-reporting-districts/)\n",
    "- ..[School District Boundaries (2011)](http://egis3.lacounty.gov/dataportal/2012/01/20/school-district-boundaries-2011/)\n",
    "- .[California State Senate Districts (2011)](http://egis3.lacounty.gov/dataportal/2011/11/08/california-state-senate-districts-2011/)\n",
    "- .[US Congressional Districts](http://egis3.lacounty.gov/dataportal/2010/01/14/us-congressional-districts/)\n",
    "- .[ZIP Code Boundaries](https://egis3.lacounty.gov/dataportal/2016/08/11/zip-codes-with-parcel-specific-boundaries/)\n",
    "- .[Public Use Microdata Areas (PUMA)](https://www2.census.gov/geo/tiger/GENZ2016/shp/)\n",
    "- ..[LAcounty_COMMUNITIES](https://egis3.lacounty.gov/dataportal/2010/10/21/citycommunity-boundaries/)\n",
    "- [Split 2010 Block Group/City – Community Statistical Area (formerly BASA)](https://egis3.lacounty.gov/dataportal/2016/01/18/split-2010-block-groupcity-basa/)\n",
    "- [Town Council / Community Group](https://egis3.lacounty.gov/dataportal/2014/12/29/town-council-areas/)\n",
    "- [Los Angeles County Fire Department Division Boundaries](http://egis3.lacounty.gov/dataportal/2016/04/28/los-angeles-county-fire-department-division-boundaties/)\n",
    "- [Los Angeles County Fire Department Battalion Boundaries](http://egis3.lacounty.gov/dataportal/2016/04/28/los-angeles-county-fire-department-battalion-boundaries/)\n",
    "- .[2011 Supervisorial District Boundaries (Official)](http://egis3.lacounty.gov/dataportal/2011/12/06/supervisorial-districts/)\n",
    "- [LA City Council Districts (2012)](http://egis3.lacounty.gov/dataportal/2012/08/07/la-city-council-districts-2012/)\n",
    "- .[State Assembly Districts (State Legislative District – Lower Chamber)](http://egis3.lacounty.gov/dataportal/2011/11/08/california-state-assembly-districts-2011/)\n",
    "- ..[Registrar Recorder Precincts](https://egis3.lacounty.gov/dataportal/2012/12/20/2012-precincts-as-of-march-9th/)\n",
    "- [Comunity Plan Areas](http://egis3.lacounty.gov/dataportal/2015/09/21/la-city-communities-and-planning-areas/)\n",
    "- [CDC Project Areas](https://egis3.lacounty.gov/dataportal/2015/06/09/cdc-project-areas/)\n",
    "- .[Census Tract](http://egis3.lacounty.gov/dataportal/2016/01/26/census_tracts/)\n",
    "- ..[Census Block](http://egis3.lacounty.gov/dataportal/2016/01/26/census_blocks/)"
   ]
  },
  {
   "cell_type": "code",
   "execution_count": 8,
   "metadata": {
    "ExecuteTime": {
     "end_time": "2018-01-06T04:34:01.689083Z",
     "start_time": "2018-01-06T04:34:01.685181Z"
    }
   },
   "outputs": [],
   "source": [
    "dfname_list = []"
   ]
  },
  {
   "cell_type": "code",
   "execution_count": 9,
   "metadata": {
    "ExecuteTime": {
     "end_time": "2018-01-06T04:34:03.843074Z",
     "start_time": "2018-01-06T04:34:01.692264Z"
    }
   },
   "outputs": [
    {
     "name": "stdout",
     "output_type": "stream",
     "text": [
      "Total polygon number: 26\n",
      "number of null and unique values in each column:\n",
      "OBJECTID: null 0, unique 26\n",
      "HD_NAME: null 0, unique 26\n",
      "SPA_NAME: null 0, unique 8\n",
      "Shape_area: null 0, unique 26\n",
      "Shape_len: null 0, unique 26\n",
      "HD_2012: null 0, unique 26\n",
      "SPA_2012: null 0, unique 8\n"
     ]
    },
    {
     "data": {
      "text/html": [
       "<div>\n",
       "<style scoped>\n",
       "    .dataframe tbody tr th:only-of-type {\n",
       "        vertical-align: middle;\n",
       "    }\n",
       "\n",
       "    .dataframe tbody tr th {\n",
       "        vertical-align: top;\n",
       "    }\n",
       "\n",
       "    .dataframe thead th {\n",
       "        text-align: right;\n",
       "    }\n",
       "</style>\n",
       "<table border=\"1\" class=\"dataframe\">\n",
       "  <thead>\n",
       "    <tr style=\"text-align: right;\">\n",
       "      <th></th>\n",
       "      <th>OBJECTID</th>\n",
       "      <th>HD_NAME</th>\n",
       "      <th>SPA_NAME</th>\n",
       "      <th>Shape_area</th>\n",
       "      <th>Shape_len</th>\n",
       "      <th>HD_2012</th>\n",
       "      <th>SPA_2012</th>\n",
       "      <th>geometry</th>\n",
       "    </tr>\n",
       "  </thead>\n",
       "  <tbody>\n",
       "    <tr>\n",
       "      <th>0</th>\n",
       "      <td>1</td>\n",
       "      <td>Alhambra</td>\n",
       "      <td>San Gabriel</td>\n",
       "      <td>1.089719e+09</td>\n",
       "      <td>2.018927e+05</td>\n",
       "      <td>3</td>\n",
       "      <td>3</td>\n",
       "      <td>POLYGON ((-118.0942930008 34.13524499950874, -...</td>\n",
       "    </tr>\n",
       "    <tr>\n",
       "      <th>1</th>\n",
       "      <td>2</td>\n",
       "      <td>Antelope Valley</td>\n",
       "      <td>Antelope Valley</td>\n",
       "      <td>3.859238e+10</td>\n",
       "      <td>1.484948e+06</td>\n",
       "      <td>5</td>\n",
       "      <td>1</td>\n",
       "      <td>POLYGON ((-117.6552358399884 34.39722196554607...</td>\n",
       "    </tr>\n",
       "    <tr>\n",
       "      <th>2</th>\n",
       "      <td>3</td>\n",
       "      <td>Bellflower</td>\n",
       "      <td>East</td>\n",
       "      <td>1.086595e+09</td>\n",
       "      <td>2.620187e+05</td>\n",
       "      <td>6</td>\n",
       "      <td>7</td>\n",
       "      <td>(POLYGON ((-118.0287288746297 33.8733158131870...</td>\n",
       "    </tr>\n",
       "  </tbody>\n",
       "</table>\n",
       "</div>"
      ],
      "text/plain": [
       "   OBJECTID          HD_NAME         SPA_NAME    Shape_area     Shape_len  \\\n",
       "0         1         Alhambra      San Gabriel  1.089719e+09  2.018927e+05   \n",
       "1         2  Antelope Valley  Antelope Valley  3.859238e+10  1.484948e+06   \n",
       "2         3       Bellflower             East  1.086595e+09  2.620187e+05   \n",
       "\n",
       "   HD_2012  SPA_2012                                           geometry  \n",
       "0        3         3  POLYGON ((-118.0942930008 34.13524499950874, -...  \n",
       "1        5         1  POLYGON ((-117.6552358399884 34.39722196554607...  \n",
       "2        6         7  (POLYGON ((-118.0287288746297 33.8733158131870...  "
      ]
     },
     "execution_count": 9,
     "metadata": {},
     "output_type": "execute_result"
    }
   ],
   "source": [
    "#Health Districts (HD) – 2012\n",
    "url = \"http://egis3.lacounty.gov/dataportal/wp-content/uploads/2012/\" \\\n",
    "      \"02/HD_20121.zip\"\n",
    "health_districts = download_egis3(url, 'HD_20121.zip', 'health_districts', 'Health_Districts_2012.shp')\n",
    "dfname_list.append('health_districts')\n",
    "\n",
    "checkdf(health_districts)"
   ]
  },
  {
   "cell_type": "code",
   "execution_count": 10,
   "metadata": {
    "ExecuteTime": {
     "end_time": "2018-01-06T04:34:03.937597Z",
     "start_time": "2018-01-06T04:34:03.845653Z"
    }
   },
   "outputs": [
    {
     "data": {
      "text/html": [
       "<div>\n",
       "<style scoped>\n",
       "    .dataframe tbody tr th:only-of-type {\n",
       "        vertical-align: middle;\n",
       "    }\n",
       "\n",
       "    .dataframe tbody tr th {\n",
       "        vertical-align: top;\n",
       "    }\n",
       "\n",
       "    .dataframe thead th {\n",
       "        text-align: right;\n",
       "    }\n",
       "</style>\n",
       "<table border=\"1\" class=\"dataframe\">\n",
       "  <thead>\n",
       "    <tr style=\"text-align: right;\">\n",
       "      <th></th>\n",
       "      <th>HD_NAME</th>\n",
       "      <th>HD_2012</th>\n",
       "      <th>geometry</th>\n",
       "    </tr>\n",
       "  </thead>\n",
       "  <tbody>\n",
       "    <tr>\n",
       "      <th>0</th>\n",
       "      <td>Alhambra</td>\n",
       "      <td>3</td>\n",
       "      <td>POLYGON ((-118.0942930008 34.13524499950874, -...</td>\n",
       "    </tr>\n",
       "    <tr>\n",
       "      <th>1</th>\n",
       "      <td>Antelope Valley</td>\n",
       "      <td>5</td>\n",
       "      <td>POLYGON ((-117.6552358399884 34.39722196554607...</td>\n",
       "    </tr>\n",
       "    <tr>\n",
       "      <th>2</th>\n",
       "      <td>Bellflower</td>\n",
       "      <td>6</td>\n",
       "      <td>(POLYGON ((-118.0287288746297 33.8733158131870...</td>\n",
       "    </tr>\n",
       "  </tbody>\n",
       "</table>\n",
       "</div>"
      ],
      "text/plain": [
       "           HD_NAME  HD_2012                                           geometry\n",
       "0         Alhambra        3  POLYGON ((-118.0942930008 34.13524499950874, -...\n",
       "1  Antelope Valley        5  POLYGON ((-117.6552358399884 34.39722196554607...\n",
       "2       Bellflower        6  (POLYGON ((-118.0287288746297 33.8733158131870..."
      ]
     },
     "execution_count": 10,
     "metadata": {},
     "output_type": "execute_result"
    }
   ],
   "source": [
    "droplist = ['SPA_NAME', 'SPA_2012']\n",
    "cleandf(health_districts, droplist)"
   ]
  },
  {
   "cell_type": "code",
   "execution_count": 11,
   "metadata": {
    "ExecuteTime": {
     "end_time": "2018-01-06T04:34:17.973558Z",
     "start_time": "2018-01-06T04:34:17.724930Z"
    }
   },
   "outputs": [
    {
     "data": {
      "text/plain": [
       "<matplotlib.axes._subplots.AxesSubplot at 0x10ac70b00>"
      ]
     },
     "execution_count": 11,
     "metadata": {},
     "output_type": "execute_result"
    },
    {
     "data": {
      "image/png": "[encoded data removed]",
      "text/plain": [
       "<matplotlib.figure.Figure at 0x10ac704e0>"
      ]
     },
     "metadata": {},
     "output_type": "display_data"
    }
   ],
   "source": [
    "health_districts.plot()"
   ]
  },
  {
   "cell_type": "code",
   "execution_count": 12,
   "metadata": {
    "ExecuteTime": {
     "end_time": "2018-01-06T04:34:34.233336Z",
     "start_time": "2018-01-06T04:34:27.469415Z"
    }
   },
   "outputs": [
    {
     "name": "stdout",
     "output_type": "stream",
     "text": [
      "Total polygon number: 5745\n",
      "number of null and unique values in each column:\n",
      "RD: null 0, unique 3667\n",
      "Name: null 0, unique 519\n",
      "Layer: null 0, unique 3\n"
     ]
    },
    {
     "data": {
      "text/html": [
       "<div>\n",
       "<style scoped>\n",
       "    .dataframe tbody tr th:only-of-type {\n",
       "        vertical-align: middle;\n",
       "    }\n",
       "\n",
       "    .dataframe tbody tr th {\n",
       "        vertical-align: top;\n",
       "    }\n",
       "\n",
       "    .dataframe thead th {\n",
       "        text-align: right;\n",
       "    }\n",
       "</style>\n",
       "<table border=\"1\" class=\"dataframe\">\n",
       "  <thead>\n",
       "    <tr style=\"text-align: right;\">\n",
       "      <th></th>\n",
       "      <th>RD</th>\n",
       "      <th>Name</th>\n",
       "      <th>Layer</th>\n",
       "      <th>geometry</th>\n",
       "    </tr>\n",
       "  </thead>\n",
       "  <tbody>\n",
       "    <tr>\n",
       "      <th>0</th>\n",
       "      <td>0230</td>\n",
       "      <td>Belvedere</td>\n",
       "      <td>Parks Bureau</td>\n",
       "      <td>POLYGON ((-118.1604325432619 34.03712079823092...</td>\n",
       "    </tr>\n",
       "    <tr>\n",
       "      <th>1</th>\n",
       "      <td>0231</td>\n",
       "      <td>Atlantic Avenue</td>\n",
       "      <td>Parks Bureau</td>\n",
       "      <td>POLYGON ((-118.1550797745909 34.0257529106941,...</td>\n",
       "    </tr>\n",
       "    <tr>\n",
       "      <th>2</th>\n",
       "      <td>0232</td>\n",
       "      <td>City Terrace</td>\n",
       "      <td>Parks Bureau</td>\n",
       "      <td>POLYGON ((-118.1784888821586 34.04781649689102...</td>\n",
       "    </tr>\n",
       "  </tbody>\n",
       "</table>\n",
       "</div>"
      ],
      "text/plain": [
       "     RD             Name         Layer  \\\n",
       "0  0230        Belvedere  Parks Bureau   \n",
       "1  0231  Atlantic Avenue  Parks Bureau   \n",
       "2  0232     City Terrace  Parks Bureau   \n",
       "\n",
       "                                            geometry  \n",
       "0  POLYGON ((-118.1604325432619 34.03712079823092...  \n",
       "1  POLYGON ((-118.1550797745909 34.0257529106941,...  \n",
       "2  POLYGON ((-118.1784888821586 34.04781649689102...  "
      ]
     },
     "execution_count": 12,
     "metadata": {},
     "output_type": "execute_result"
    }
   ],
   "source": [
    "#Law Enforcement Reporting Districts\n",
    "url = \"http://egis3.lacounty.gov/dataportal/wp-content/uploads/\" \\\n",
    "      \"ShapefilePackages/LACOUNTY_LAW_ENFORCEMENT_RDs.zip\"\n",
    "law_enforcement = download_egis3(url, 'LACOUNTY_LAW_ENFORCEMENT_RDs.zip', 'law_enforcement', 'LACOUNTY_LAW_ENFORCEMENT_RDs.shp')\n",
    "dfname_list.append('law_enforcement')\n",
    "checkdf(law_enforcement)"
   ]
  },
  {
   "cell_type": "code",
   "execution_count": 13,
   "metadata": {
    "ExecuteTime": {
     "end_time": "2018-01-06T04:34:45.674275Z",
     "start_time": "2018-01-06T04:34:45.659581Z"
    }
   },
   "outputs": [
    {
     "data": {
      "text/html": [
       "<div>\n",
       "<style scoped>\n",
       "    .dataframe tbody tr th:only-of-type {\n",
       "        vertical-align: middle;\n",
       "    }\n",
       "\n",
       "    .dataframe tbody tr th {\n",
       "        vertical-align: top;\n",
       "    }\n",
       "\n",
       "    .dataframe thead th {\n",
       "        text-align: right;\n",
       "    }\n",
       "</style>\n",
       "<table border=\"1\" class=\"dataframe\">\n",
       "  <thead>\n",
       "    <tr style=\"text-align: right;\">\n",
       "      <th></th>\n",
       "      <th>RD</th>\n",
       "      <th>Name</th>\n",
       "      <th>geometry</th>\n",
       "    </tr>\n",
       "  </thead>\n",
       "  <tbody>\n",
       "    <tr>\n",
       "      <th>0</th>\n",
       "      <td>0230</td>\n",
       "      <td>Belvedere</td>\n",
       "      <td>POLYGON ((-118.1604325432619 34.03712079823092...</td>\n",
       "    </tr>\n",
       "    <tr>\n",
       "      <th>1</th>\n",
       "      <td>0231</td>\n",
       "      <td>Atlantic Avenue</td>\n",
       "      <td>POLYGON ((-118.1550797745909 34.0257529106941,...</td>\n",
       "    </tr>\n",
       "    <tr>\n",
       "      <th>2</th>\n",
       "      <td>0232</td>\n",
       "      <td>City Terrace</td>\n",
       "      <td>POLYGON ((-118.1784888821586 34.04781649689102...</td>\n",
       "    </tr>\n",
       "  </tbody>\n",
       "</table>\n",
       "</div>"
      ],
      "text/plain": [
       "     RD             Name                                           geometry\n",
       "0  0230        Belvedere  POLYGON ((-118.1604325432619 34.03712079823092...\n",
       "1  0231  Atlantic Avenue  POLYGON ((-118.1550797745909 34.0257529106941,...\n",
       "2  0232     City Terrace  POLYGON ((-118.1784888821586 34.04781649689102..."
      ]
     },
     "execution_count": 13,
     "metadata": {},
     "output_type": "execute_result"
    }
   ],
   "source": [
    "droplist = ['Layer']\n",
    "cleandf(law_enforcement, droplist)"
   ]
  },
  {
   "cell_type": "code",
   "execution_count": 14,
   "metadata": {
    "ExecuteTime": {
     "end_time": "2018-01-06T04:34:56.037412Z",
     "start_time": "2018-01-06T04:34:53.604238Z"
    }
   },
   "outputs": [
    {
     "data": {
      "text/plain": [
       "<matplotlib.axes._subplots.AxesSubplot at 0x10b0e14a8>"
      ]
     },
     "execution_count": 14,
     "metadata": {},
     "output_type": "execute_result"
    },
    {
     "data": {
      "image/png": "[encoded data removed]",
      "text/plain": [
       "<matplotlib.figure.Figure at 0x10b0db748>"
      ]
     },
     "metadata": {},
     "output_type": "display_data"
    }
   ],
   "source": [
    "law_enforcement.plot()"
   ]
  },
  {
   "cell_type": "code",
   "execution_count": 15,
   "metadata": {
    "ExecuteTime": {
     "end_time": "2018-01-06T04:35:09.068966Z",
     "start_time": "2018-01-06T04:35:07.541513Z"
    }
   },
   "outputs": [
    {
     "name": "stdout",
     "output_type": "stream",
     "text": [
      "Total polygon number: 79\n",
      "number of null and unique values in each column:\n",
      "DISTRICT: null 0, unique 78\n",
      "UNIFIED: null 0, unique 49\n",
      "HIGH: null 0, unique 9\n",
      "ELEMENTARY: null 0, unique 31\n",
      "PH: null 0, unique 78\n",
      "ADDR: null 0, unique 78\n",
      "PH2: null 0, unique 20\n",
      "PH3: null 0, unique 6\n",
      "STU: null 0, unique 78\n",
      "HI_ADDR: null 0, unique 9\n",
      "HI_PH: null 0, unique 9\n",
      "HI_STU: null 0, unique 9\n",
      "LABEL: null 0, unique 78\n"
     ]
    },
    {
     "data": {
      "text/html": [
       "<div>\n",
       "<style scoped>\n",
       "    .dataframe tbody tr th:only-of-type {\n",
       "        vertical-align: middle;\n",
       "    }\n",
       "\n",
       "    .dataframe tbody tr th {\n",
       "        vertical-align: top;\n",
       "    }\n",
       "\n",
       "    .dataframe thead th {\n",
       "        text-align: right;\n",
       "    }\n",
       "</style>\n",
       "<table border=\"1\" class=\"dataframe\">\n",
       "  <thead>\n",
       "    <tr style=\"text-align: right;\">\n",
       "      <th></th>\n",
       "      <th>DISTRICT</th>\n",
       "      <th>UNIFIED</th>\n",
       "      <th>HIGH</th>\n",
       "      <th>ELEMENTARY</th>\n",
       "      <th>PH</th>\n",
       "      <th>ADDR</th>\n",
       "      <th>PH2</th>\n",
       "      <th>PH3</th>\n",
       "      <th>STU</th>\n",
       "      <th>HI_ADDR</th>\n",
       "      <th>HI_PH</th>\n",
       "      <th>HI_STU</th>\n",
       "      <th>LABEL</th>\n",
       "      <th>geometry</th>\n",
       "    </tr>\n",
       "  </thead>\n",
       "  <tbody>\n",
       "    <tr>\n",
       "      <th>0</th>\n",
       "      <td>HERMOSA BEACH CITY ELEMENTARY</td>\n",
       "      <td></td>\n",
       "      <td></td>\n",
       "      <td>HERMOSA BEACH CITY ELEMENTARY</td>\n",
       "      <td>310 937 5877</td>\n",
       "      <td>1645 VALLEY DR HERMOSA BCH 90254</td>\n",
       "      <td></td>\n",
       "      <td></td>\n",
       "      <td>950</td>\n",
       "      <td></td>\n",
       "      <td></td>\n",
       "      <td></td>\n",
       "      <td>HERMOSA BEACH CITY ELEM</td>\n",
       "      <td>POLYGON ((-118.4048577253546 33.87782346394338...</td>\n",
       "    </tr>\n",
       "    <tr>\n",
       "      <th>1</th>\n",
       "      <td>CENTINELA VALLEY UNION HIGH/HAWTHORNE ELEMENTARY</td>\n",
       "      <td></td>\n",
       "      <td>CENTINELA VALLEY UNION HIGH</td>\n",
       "      <td>HAWTHORNE ELEMENTARY</td>\n",
       "      <td>310 676 2276</td>\n",
       "      <td>14120 S HAWTHORNE BL HAWTHORNE 90250</td>\n",
       "      <td></td>\n",
       "      <td></td>\n",
       "      <td>8145</td>\n",
       "      <td>14901 S INGLEWOOD AV LAWNDALE 90260</td>\n",
       "      <td>310 263 3200</td>\n",
       "      <td>6220</td>\n",
       "      <td>CENTINELA VALLEY UNION HIGH\\nHAWTHORNE ELEMENTARY</td>\n",
       "      <td>POLYGON ((-118.3607054443706 33.93093449396304...</td>\n",
       "    </tr>\n",
       "    <tr>\n",
       "      <th>2</th>\n",
       "      <td>CENTINELA VALLEY UNION HIGH/LAWNDALE ELEMENTARY</td>\n",
       "      <td></td>\n",
       "      <td>CENTINELA VALLEY UNION HIGH</td>\n",
       "      <td>LAWNDALE ELEMENTARY</td>\n",
       "      <td>310 973 1300</td>\n",
       "      <td>4161 W 147TH ST LAWNDALE 90260</td>\n",
       "      <td></td>\n",
       "      <td></td>\n",
       "      <td>5510</td>\n",
       "      <td>14901 S INGLEWOOD AV LAWNDALE 90260</td>\n",
       "      <td>310 263 3200</td>\n",
       "      <td>6220</td>\n",
       "      <td>CENTINELA VALLEY UNION HIGH\\nLAWNDALE ELEMENTARY</td>\n",
       "      <td>POLYGON ((-118.367294562588 33.90558198783078,...</td>\n",
       "    </tr>\n",
       "  </tbody>\n",
       "</table>\n",
       "</div>"
      ],
      "text/plain": [
       "                                           DISTRICT UNIFIED  \\\n",
       "0                     HERMOSA BEACH CITY ELEMENTARY           \n",
       "1  CENTINELA VALLEY UNION HIGH/HAWTHORNE ELEMENTARY           \n",
       "2   CENTINELA VALLEY UNION HIGH/LAWNDALE ELEMENTARY           \n",
       "\n",
       "                          HIGH                     ELEMENTARY            PH  \\\n",
       "0                               HERMOSA BEACH CITY ELEMENTARY  310 937 5877   \n",
       "1  CENTINELA VALLEY UNION HIGH           HAWTHORNE ELEMENTARY  310 676 2276   \n",
       "2  CENTINELA VALLEY UNION HIGH            LAWNDALE ELEMENTARY  310 973 1300   \n",
       "\n",
       "                                   ADDR PH2 PH3   STU  \\\n",
       "0      1645 VALLEY DR HERMOSA BCH 90254           950   \n",
       "1  14120 S HAWTHORNE BL HAWTHORNE 90250          8145   \n",
       "2        4161 W 147TH ST LAWNDALE 90260          5510   \n",
       "\n",
       "                               HI_ADDR         HI_PH HI_STU  \\\n",
       "0                                                             \n",
       "1  14901 S INGLEWOOD AV LAWNDALE 90260  310 263 3200   6220   \n",
       "2  14901 S INGLEWOOD AV LAWNDALE 90260  310 263 3200   6220   \n",
       "\n",
       "                                               LABEL  \\\n",
       "0                            HERMOSA BEACH CITY ELEM   \n",
       "1  CENTINELA VALLEY UNION HIGH\\nHAWTHORNE ELEMENTARY   \n",
       "2   CENTINELA VALLEY UNION HIGH\\nLAWNDALE ELEMENTARY   \n",
       "\n",
       "                                            geometry  \n",
       "0  POLYGON ((-118.4048577253546 33.87782346394338...  \n",
       "1  POLYGON ((-118.3607054443706 33.93093449396304...  \n",
       "2  POLYGON ((-118.367294562588 33.90558198783078,...  "
      ]
     },
     "execution_count": 15,
     "metadata": {},
     "output_type": "execute_result"
    }
   ],
   "source": [
    "#School District Boundaries (2011)\n",
    "url = \"http://egis3.lacounty.gov/dataportal/wp-content/uploads/2012/01/\" \\\n",
    "      \"rrcc_school_districts1.zip\"\n",
    "school_districts = download_egis3(url, 'rrcc_school_districts1.zip', 'school_districts', 'rrcc_school_districts.shp')\n",
    "dfname_list.append('school_districts')\n",
    "checkdf(school_districts)"
   ]
  },
  {
   "cell_type": "code",
   "execution_count": 16,
   "metadata": {
    "ExecuteTime": {
     "end_time": "2018-01-06T04:35:21.874362Z",
     "start_time": "2018-01-06T04:35:21.830805Z"
    }
   },
   "outputs": [
    {
     "data": {
      "text/html": [
       "<div>\n",
       "<style scoped>\n",
       "    .dataframe tbody tr th:only-of-type {\n",
       "        vertical-align: middle;\n",
       "    }\n",
       "\n",
       "    .dataframe tbody tr th {\n",
       "        vertical-align: top;\n",
       "    }\n",
       "\n",
       "    .dataframe thead th {\n",
       "        text-align: right;\n",
       "    }\n",
       "</style>\n",
       "<table border=\"1\" class=\"dataframe\">\n",
       "  <thead>\n",
       "    <tr style=\"text-align: right;\">\n",
       "      <th></th>\n",
       "      <th>DISTRICT</th>\n",
       "      <th>geometry</th>\n",
       "    </tr>\n",
       "  </thead>\n",
       "  <tbody>\n",
       "    <tr>\n",
       "      <th>0</th>\n",
       "      <td>HERMOSA BEACH CITY ELEMENTARY</td>\n",
       "      <td>POLYGON ((-118.4048577253546 33.87782346394338...</td>\n",
       "    </tr>\n",
       "    <tr>\n",
       "      <th>1</th>\n",
       "      <td>CENTINELA VALLEY UNION HIGH/HAWTHORNE ELEMENTARY</td>\n",
       "      <td>POLYGON ((-118.3607054443706 33.93093449396304...</td>\n",
       "    </tr>\n",
       "    <tr>\n",
       "      <th>2</th>\n",
       "      <td>CENTINELA VALLEY UNION HIGH/LAWNDALE ELEMENTARY</td>\n",
       "      <td>POLYGON ((-118.367294562588 33.90558198783078,...</td>\n",
       "    </tr>\n",
       "  </tbody>\n",
       "</table>\n",
       "</div>"
      ],
      "text/plain": [
       "                                           DISTRICT  \\\n",
       "0                     HERMOSA BEACH CITY ELEMENTARY   \n",
       "1  CENTINELA VALLEY UNION HIGH/HAWTHORNE ELEMENTARY   \n",
       "2   CENTINELA VALLEY UNION HIGH/LAWNDALE ELEMENTARY   \n",
       "\n",
       "                                            geometry  \n",
       "0  POLYGON ((-118.4048577253546 33.87782346394338...  \n",
       "1  POLYGON ((-118.3607054443706 33.93093449396304...  \n",
       "2  POLYGON ((-118.367294562588 33.90558198783078,...  "
      ]
     },
     "execution_count": 16,
     "metadata": {},
     "output_type": "execute_result"
    }
   ],
   "source": [
    "droplist = ['UNIFIED', 'HIGH', 'ELEMENTARY', 'PH', 'ADDR', 'PH2', 'PH3',\n",
    "       'STU', 'HI_ADDR', 'HI_PH', 'HI_STU', 'LABEL']\n",
    "cleandf(school_districts, droplist)"
   ]
  },
  {
   "cell_type": "code",
   "execution_count": 17,
   "metadata": {
    "ExecuteTime": {
     "end_time": "2018-01-06T04:35:32.022371Z",
     "start_time": "2018-01-06T04:35:31.743184Z"
    }
   },
   "outputs": [
    {
     "data": {
      "text/plain": [
       "<matplotlib.axes._subplots.AxesSubplot at 0x10b0c33c8>"
      ]
     },
     "execution_count": 17,
     "metadata": {},
     "output_type": "execute_result"
    },
    {
     "data": {
      "image/png": "[encoded data removed]",
      "text/plain": [
       "<matplotlib.figure.Figure at 0x10ad0d860>"
      ]
     },
     "metadata": {},
     "output_type": "display_data"
    }
   ],
   "source": [
    "school_districts.plot()"
   ]
  },
  {
   "cell_type": "code",
   "execution_count": 18,
   "metadata": {
    "ExecuteTime": {
     "end_time": "2018-01-06T04:35:45.645681Z",
     "start_time": "2018-01-06T04:35:44.291074Z"
    }
   },
   "outputs": [
    {
     "name": "stdout",
     "output_type": "stream",
     "text": [
      "Total polygon number: 16\n",
      "number of null and unique values in each column:\n",
      "DISTRICT: null 0, unique 16\n",
      "NAME: null 0, unique 16\n",
      "LABEL: null 0, unique 16\n"
     ]
    },
    {
     "data": {
      "text/html": [
       "<div>\n",
       "<style scoped>\n",
       "    .dataframe tbody tr th:only-of-type {\n",
       "        vertical-align: middle;\n",
       "    }\n",
       "\n",
       "    .dataframe tbody tr th {\n",
       "        vertical-align: top;\n",
       "    }\n",
       "\n",
       "    .dataframe thead th {\n",
       "        text-align: right;\n",
       "    }\n",
       "</style>\n",
       "<table border=\"1\" class=\"dataframe\">\n",
       "  <thead>\n",
       "    <tr style=\"text-align: right;\">\n",
       "      <th></th>\n",
       "      <th>DISTRICT</th>\n",
       "      <th>NAME</th>\n",
       "      <th>LABEL</th>\n",
       "      <th>geometry</th>\n",
       "    </tr>\n",
       "  </thead>\n",
       "  <tbody>\n",
       "    <tr>\n",
       "      <th>0</th>\n",
       "      <td>16</td>\n",
       "      <td>TULKE</td>\n",
       "      <td>Disrict 16</td>\n",
       "      <td>POLYGON ((-117.6671490011134 34.75005899908675...</td>\n",
       "    </tr>\n",
       "    <tr>\n",
       "      <th>1</th>\n",
       "      <td>18</td>\n",
       "      <td>LASFE</td>\n",
       "      <td>Disrict 18</td>\n",
       "      <td>POLYGON ((-118.3611510010984 34.19465099908038...</td>\n",
       "    </tr>\n",
       "    <tr>\n",
       "      <th>2</th>\n",
       "      <td>20</td>\n",
       "      <td>POMSB</td>\n",
       "      <td>Disrict 20</td>\n",
       "      <td>POLYGON ((-117.7676900009356 34.02350599909427...</td>\n",
       "    </tr>\n",
       "  </tbody>\n",
       "</table>\n",
       "</div>"
      ],
      "text/plain": [
       "  DISTRICT   NAME       LABEL  \\\n",
       "0       16  TULKE  Disrict 16   \n",
       "1       18  LASFE  Disrict 18   \n",
       "2       20  POMSB  Disrict 20   \n",
       "\n",
       "                                            geometry  \n",
       "0  POLYGON ((-117.6671490011134 34.75005899908675...  \n",
       "1  POLYGON ((-118.3611510010984 34.19465099908038...  \n",
       "2  POLYGON ((-117.7676900009356 34.02350599909427...  "
      ]
     },
     "execution_count": 18,
     "metadata": {},
     "output_type": "execute_result"
    }
   ],
   "source": [
    "#California State Senate Districts (2011)\n",
    "url = \"http://egis3.lacounty.gov/dataportal/wp-content/uploads/2011/11/\" \\\n",
    "      \"state-senate-2011.zip\"\n",
    "state_senate = download_egis3(url, 'state-senate-2011.zip', 'state_senate', 'senate.shp')\n",
    "dfname_list.append('state_senate')\n",
    "checkdf(state_senate)"
   ]
  },
  {
   "cell_type": "code",
   "execution_count": 19,
   "metadata": {
    "ExecuteTime": {
     "end_time": "2018-01-06T04:35:56.763003Z",
     "start_time": "2018-01-06T04:35:56.727676Z"
    }
   },
   "outputs": [
    {
     "data": {
      "text/html": [
       "<div>\n",
       "<style scoped>\n",
       "    .dataframe tbody tr th:only-of-type {\n",
       "        vertical-align: middle;\n",
       "    }\n",
       "\n",
       "    .dataframe tbody tr th {\n",
       "        vertical-align: top;\n",
       "    }\n",
       "\n",
       "    .dataframe thead th {\n",
       "        text-align: right;\n",
       "    }\n",
       "</style>\n",
       "<table border=\"1\" class=\"dataframe\">\n",
       "  <thead>\n",
       "    <tr style=\"text-align: right;\">\n",
       "      <th></th>\n",
       "      <th>DISTRICT</th>\n",
       "      <th>NAME</th>\n",
       "      <th>geometry</th>\n",
       "    </tr>\n",
       "  </thead>\n",
       "  <tbody>\n",
       "    <tr>\n",
       "      <th>0</th>\n",
       "      <td>16</td>\n",
       "      <td>TULKE</td>\n",
       "      <td>POLYGON ((-117.6671490011134 34.75005899908675...</td>\n",
       "    </tr>\n",
       "    <tr>\n",
       "      <th>1</th>\n",
       "      <td>18</td>\n",
       "      <td>LASFE</td>\n",
       "      <td>POLYGON ((-118.3611510010984 34.19465099908038...</td>\n",
       "    </tr>\n",
       "    <tr>\n",
       "      <th>2</th>\n",
       "      <td>20</td>\n",
       "      <td>POMSB</td>\n",
       "      <td>POLYGON ((-117.7676900009356 34.02350599909427...</td>\n",
       "    </tr>\n",
       "  </tbody>\n",
       "</table>\n",
       "</div>"
      ],
      "text/plain": [
       "  DISTRICT   NAME                                           geometry\n",
       "0       16  TULKE  POLYGON ((-117.6671490011134 34.75005899908675...\n",
       "1       18  LASFE  POLYGON ((-118.3611510010984 34.19465099908038...\n",
       "2       20  POMSB  POLYGON ((-117.7676900009356 34.02350599909427..."
      ]
     },
     "execution_count": 19,
     "metadata": {},
     "output_type": "execute_result"
    }
   ],
   "source": [
    "droplist = ['LABEL']\n",
    "cleandf(state_senate, droplist)"
   ]
  },
  {
   "cell_type": "code",
   "execution_count": 20,
   "metadata": {
    "ExecuteTime": {
     "end_time": "2018-01-06T04:36:06.595640Z",
     "start_time": "2018-01-06T04:36:06.347558Z"
    }
   },
   "outputs": [
    {
     "data": {
      "text/plain": [
       "<matplotlib.axes._subplots.AxesSubplot at 0x10b143b00>"
      ]
     },
     "execution_count": 20,
     "metadata": {},
     "output_type": "execute_result"
    },
    {
     "data": {
      "image/png": "[encoded data removed]",
      "text/plain": [
       "<matplotlib.figure.Figure at 0x10b063128>"
      ]
     },
     "metadata": {},
     "output_type": "display_data"
    }
   ],
   "source": [
    "state_senate.plot()"
   ]
  },
  {
   "cell_type": "code",
   "execution_count": 21,
   "metadata": {
    "ExecuteTime": {
     "end_time": "2018-01-06T04:36:21.008053Z",
     "start_time": "2018-01-06T04:36:18.652128Z"
    }
   },
   "outputs": [
    {
     "name": "stdout",
     "output_type": "stream",
     "text": [
      "Total polygon number: 18\n",
      "number of null and unique values in each column:\n",
      "DIST_CONG: null 0, unique 18\n",
      "Shape_area: null 0, unique 18\n",
      "Shape_len: null 0, unique 18\n"
     ]
    },
    {
     "data": {
      "text/html": [
       "<div>\n",
       "<style scoped>\n",
       "    .dataframe tbody tr th:only-of-type {\n",
       "        vertical-align: middle;\n",
       "    }\n",
       "\n",
       "    .dataframe tbody tr th {\n",
       "        vertical-align: top;\n",
       "    }\n",
       "\n",
       "    .dataframe thead th {\n",
       "        text-align: right;\n",
       "    }\n",
       "</style>\n",
       "<table border=\"1\" class=\"dataframe\">\n",
       "  <thead>\n",
       "    <tr style=\"text-align: right;\">\n",
       "      <th></th>\n",
       "      <th>DIST_CONG</th>\n",
       "      <th>Shape_area</th>\n",
       "      <th>Shape_len</th>\n",
       "      <th>geometry</th>\n",
       "    </tr>\n",
       "  </thead>\n",
       "  <tbody>\n",
       "    <tr>\n",
       "      <th>0</th>\n",
       "      <td>23</td>\n",
       "      <td>5.447776e+09</td>\n",
       "      <td>4.986277e+05</td>\n",
       "      <td>POLYGON ((-117.7736888188639 34.82248828448963...</td>\n",
       "    </tr>\n",
       "    <tr>\n",
       "      <th>1</th>\n",
       "      <td>25</td>\n",
       "      <td>4.598790e+10</td>\n",
       "      <td>1.449675e+06</td>\n",
       "      <td>(POLYGON ((-117.7668535002114 34.8232750430814...</td>\n",
       "    </tr>\n",
       "    <tr>\n",
       "      <th>2</th>\n",
       "      <td>26</td>\n",
       "      <td>1.535730e+08</td>\n",
       "      <td>6.420494e+04</td>\n",
       "      <td>POLYGON ((-118.7888893009787 34.16821405941698...</td>\n",
       "    </tr>\n",
       "  </tbody>\n",
       "</table>\n",
       "</div>"
      ],
      "text/plain": [
       "   DIST_CONG    Shape_area     Shape_len  \\\n",
       "0         23  5.447776e+09  4.986277e+05   \n",
       "1         25  4.598790e+10  1.449675e+06   \n",
       "2         26  1.535730e+08  6.420494e+04   \n",
       "\n",
       "                                            geometry  \n",
       "0  POLYGON ((-117.7736888188639 34.82248828448963...  \n",
       "1  (POLYGON ((-117.7668535002114 34.8232750430814...  \n",
       "2  POLYGON ((-118.7888893009787 34.16821405941698...  "
      ]
     },
     "execution_count": 21,
     "metadata": {},
     "output_type": "execute_result"
    }
   ],
   "source": [
    "#US Congressional Districts\n",
    "url = \"http://egis3.lacounty.gov/dataportal/wp-content/uploads/\" \\\n",
    "      \"ShapefilePackages/RRCC_CONGRESSIONAL_DISTRICTS.zip\"\n",
    "congressional_districts = download_egis3(url, 'RRCC_CONGRESSIONAL_DISTRICTS.zip', 'congressional_districts', 'RRCC_CONGRESSIONAL_DISTRICTS.shp')\n",
    "dfname_list.append('congressional_districts')\n",
    "checkdf(congressional_districts)"
   ]
  },
  {
   "cell_type": "code",
   "execution_count": 22,
   "metadata": {
    "ExecuteTime": {
     "end_time": "2018-01-06T04:36:32.538838Z",
     "start_time": "2018-01-06T04:36:32.483618Z"
    }
   },
   "outputs": [
    {
     "data": {
      "text/html": [
       "<div>\n",
       "<style scoped>\n",
       "    .dataframe tbody tr th:only-of-type {\n",
       "        vertical-align: middle;\n",
       "    }\n",
       "\n",
       "    .dataframe tbody tr th {\n",
       "        vertical-align: top;\n",
       "    }\n",
       "\n",
       "    .dataframe thead th {\n",
       "        text-align: right;\n",
       "    }\n",
       "</style>\n",
       "<table border=\"1\" class=\"dataframe\">\n",
       "  <thead>\n",
       "    <tr style=\"text-align: right;\">\n",
       "      <th></th>\n",
       "      <th>DIST_CONG</th>\n",
       "      <th>geometry</th>\n",
       "    </tr>\n",
       "  </thead>\n",
       "  <tbody>\n",
       "    <tr>\n",
       "      <th>0</th>\n",
       "      <td>23</td>\n",
       "      <td>POLYGON ((-117.7736888188639 34.82248828448963...</td>\n",
       "    </tr>\n",
       "    <tr>\n",
       "      <th>1</th>\n",
       "      <td>25</td>\n",
       "      <td>(POLYGON ((-117.7668535002114 34.8232750430814...</td>\n",
       "    </tr>\n",
       "    <tr>\n",
       "      <th>2</th>\n",
       "      <td>26</td>\n",
       "      <td>POLYGON ((-118.7888893009787 34.16821405941698...</td>\n",
       "    </tr>\n",
       "  </tbody>\n",
       "</table>\n",
       "</div>"
      ],
      "text/plain": [
       "   DIST_CONG                                           geometry\n",
       "0         23  POLYGON ((-117.7736888188639 34.82248828448963...\n",
       "1         25  (POLYGON ((-117.7668535002114 34.8232750430814...\n",
       "2         26  POLYGON ((-118.7888893009787 34.16821405941698..."
      ]
     },
     "execution_count": 22,
     "metadata": {},
     "output_type": "execute_result"
    }
   ],
   "source": [
    "droplist = []\n",
    "cleandf(congressional_districts, droplist)"
   ]
  },
  {
   "cell_type": "code",
   "execution_count": 23,
   "metadata": {
    "ExecuteTime": {
     "end_time": "2018-01-06T04:36:44.601321Z",
     "start_time": "2018-01-06T04:36:44.390210Z"
    }
   },
   "outputs": [
    {
     "data": {
      "text/plain": [
       "<matplotlib.axes._subplots.AxesSubplot at 0x10b1ada20>"
      ]
     },
     "execution_count": 23,
     "metadata": {},
     "output_type": "execute_result"
    },
    {
     "data": {
      "image/png": "[encoded data removed]",
      "text/plain": [
       "<matplotlib.figure.Figure at 0x10b14c710>"
      ]
     },
     "metadata": {},
     "output_type": "display_data"
    }
   ],
   "source": [
    "congressional_districts.plot()"
   ]
  },
  {
   "cell_type": "code",
   "execution_count": 24,
   "metadata": {
    "ExecuteTime": {
     "end_time": "2018-01-06T04:37:04.036480Z",
     "start_time": "2018-01-06T04:36:58.583989Z"
    }
   },
   "outputs": [
    {
     "name": "stdout",
     "output_type": "stream",
     "text": [
      "Total polygon number: 311\n",
      "number of null and unique values in each column:\n",
      "OBJECTID: null 0, unique 311\n",
      "ZIPCODE: null 0, unique 311\n",
      "Shape_area: null 0, unique 311\n",
      "Shape_len: null 0, unique 311\n"
     ]
    },
    {
     "data": {
      "text/html": [
       "<div>\n",
       "<style scoped>\n",
       "    .dataframe tbody tr th:only-of-type {\n",
       "        vertical-align: middle;\n",
       "    }\n",
       "\n",
       "    .dataframe tbody tr th {\n",
       "        vertical-align: top;\n",
       "    }\n",
       "\n",
       "    .dataframe thead th {\n",
       "        text-align: right;\n",
       "    }\n",
       "</style>\n",
       "<table border=\"1\" class=\"dataframe\">\n",
       "  <thead>\n",
       "    <tr style=\"text-align: right;\">\n",
       "      <th></th>\n",
       "      <th>OBJECTID</th>\n",
       "      <th>ZIPCODE</th>\n",
       "      <th>Shape_area</th>\n",
       "      <th>Shape_len</th>\n",
       "      <th>geometry</th>\n",
       "    </tr>\n",
       "  </thead>\n",
       "  <tbody>\n",
       "    <tr>\n",
       "      <th>0</th>\n",
       "      <td>1</td>\n",
       "      <td>90001</td>\n",
       "      <td>9.556340e+07</td>\n",
       "      <td>48677.278478</td>\n",
       "      <td>POLYGON ((-118.2433683541707 33.98923126419061...</td>\n",
       "    </tr>\n",
       "    <tr>\n",
       "      <th>1</th>\n",
       "      <td>2</td>\n",
       "      <td>90002</td>\n",
       "      <td>8.275222e+07</td>\n",
       "      <td>44972.017035</td>\n",
       "      <td>POLYGON ((-118.2342946311994 33.9610050725129,...</td>\n",
       "    </tr>\n",
       "    <tr>\n",
       "      <th>2</th>\n",
       "      <td>3</td>\n",
       "      <td>90003</td>\n",
       "      <td>1.026431e+08</td>\n",
       "      <td>63303.481758</td>\n",
       "      <td>POLYGON ((-118.2828356317466 33.97596170409104...</td>\n",
       "    </tr>\n",
       "  </tbody>\n",
       "</table>\n",
       "</div>"
      ],
      "text/plain": [
       "   OBJECTID ZIPCODE    Shape_area     Shape_len  \\\n",
       "0         1   90001  9.556340e+07  48677.278478   \n",
       "1         2   90002  8.275222e+07  44972.017035   \n",
       "2         3   90003  1.026431e+08  63303.481758   \n",
       "\n",
       "                                            geometry  \n",
       "0  POLYGON ((-118.2433683541707 33.98923126419061...  \n",
       "1  POLYGON ((-118.2342946311994 33.9610050725129,...  \n",
       "2  POLYGON ((-118.2828356317466 33.97596170409104...  "
      ]
     },
     "execution_count": 24,
     "metadata": {},
     "output_type": "execute_result"
    }
   ],
   "source": [
    "#ZIP Code Boundaries\n",
    "url = \"http://egis3.lacounty.gov/dataportal/wp-content/uploads/2011/01/\" \\\n",
    "      \"CAMS_ZIPCODE_PARCEL_SPECIFIC.zip\"\n",
    "zip_code = download_egis3(url, 'CAMS_ZIPCODE_PARCEL_SPECIFIC.zip', 'zip_code', 'CAMS_ZIPCODE_PARCEL_SPECIFIC.shp')\n",
    "dfname_list.append('zip_code')\n",
    "checkdf(zip_code)"
   ]
  },
  {
   "cell_type": "code",
   "execution_count": 25,
   "metadata": {
    "ExecuteTime": {
     "end_time": "2018-01-06T04:37:10.883329Z",
     "start_time": "2018-01-06T04:37:10.852867Z"
    }
   },
   "outputs": [
    {
     "data": {
      "text/html": [
       "<div>\n",
       "<style scoped>\n",
       "    .dataframe tbody tr th:only-of-type {\n",
       "        vertical-align: middle;\n",
       "    }\n",
       "\n",
       "    .dataframe tbody tr th {\n",
       "        vertical-align: top;\n",
       "    }\n",
       "\n",
       "    .dataframe thead th {\n",
       "        text-align: right;\n",
       "    }\n",
       "</style>\n",
       "<table border=\"1\" class=\"dataframe\">\n",
       "  <thead>\n",
       "    <tr style=\"text-align: right;\">\n",
       "      <th></th>\n",
       "      <th>ZIPCODE</th>\n",
       "      <th>geometry</th>\n",
       "    </tr>\n",
       "  </thead>\n",
       "  <tbody>\n",
       "    <tr>\n",
       "      <th>0</th>\n",
       "      <td>90001</td>\n",
       "      <td>POLYGON ((-118.2433683541707 33.98923126419061...</td>\n",
       "    </tr>\n",
       "    <tr>\n",
       "      <th>1</th>\n",
       "      <td>90002</td>\n",
       "      <td>POLYGON ((-118.2342946311994 33.9610050725129,...</td>\n",
       "    </tr>\n",
       "    <tr>\n",
       "      <th>2</th>\n",
       "      <td>90003</td>\n",
       "      <td>POLYGON ((-118.2828356317466 33.97596170409104...</td>\n",
       "    </tr>\n",
       "  </tbody>\n",
       "</table>\n",
       "</div>"
      ],
      "text/plain": [
       "  ZIPCODE                                           geometry\n",
       "0   90001  POLYGON ((-118.2433683541707 33.98923126419061...\n",
       "1   90002  POLYGON ((-118.2342946311994 33.9610050725129,...\n",
       "2   90003  POLYGON ((-118.2828356317466 33.97596170409104..."
      ]
     },
     "execution_count": 25,
     "metadata": {},
     "output_type": "execute_result"
    }
   ],
   "source": [
    "droplist = []\n",
    "cleandf(zip_code, droplist)"
   ]
  },
  {
   "cell_type": "code",
   "execution_count": 26,
   "metadata": {
    "ExecuteTime": {
     "end_time": "2018-01-06T04:37:23.115425Z",
     "start_time": "2018-01-06T04:37:22.552382Z"
    }
   },
   "outputs": [
    {
     "data": {
      "text/plain": [
       "<matplotlib.axes._subplots.AxesSubplot at 0x10b0b8780>"
      ]
     },
     "execution_count": 26,
     "metadata": {},
     "output_type": "execute_result"
    },
    {
     "data": {
      "image/png": "[encoded data removed]",
      "text/plain": [
       "<matplotlib.figure.Figure at 0x10b0ae710>"
      ]
     },
     "metadata": {},
     "output_type": "display_data"
    }
   ],
   "source": [
    "zip_code.plot()"
   ]
  },
  {
   "cell_type": "code",
   "execution_count": 27,
   "metadata": {
    "ExecuteTime": {
     "end_time": "2018-01-06T04:37:40.418977Z",
     "start_time": "2018-01-06T04:37:32.190630Z"
    }
   },
   "outputs": [
    {
     "name": "stdout",
     "output_type": "stream",
     "text": [
      "URL transformed to HTTPS due to an HSTS policy\n",
      "--2018-01-05 23:37:32--  https://www2.census.gov/geo/tiger/GENZ2016/shp/cb_2016_06_puma10_500k.zip\n",
      "Resolving www2.census.gov... 2600:1408:24:599::208c, 2600:1408:24:5aa::208c, 104.121.83.95\n",
      "Connecting to www2.census.gov|2600:1408:24:599::208c|:443... connected.\n",
      "HTTP request sent, awaiting response... 200 OK\n",
      "Length: 742516 (725K) [application/zip]\n",
      "Saving to: 'cb_2016_06_puma10_500k.zip.2'\n",
      "\n",
      "cb_2016_06_puma10_5 100%[===================>] 725.11K  2.63MB/s    in 0.3s    \n",
      "\n",
      "2018-01-05 23:37:33 (2.63 MB/s) - 'cb_2016_06_puma10_500k.zip.2' saved [742516/742516]\n",
      "\n",
      "Total polygon number: 265\n",
      "number of null and unique values in each column:\n",
      "STATEFP10: null 0, unique 1\n",
      "PUMACE10: null 0, unique 265\n",
      "AFFGEOID10: null 0, unique 265\n",
      "GEOID10: null 0, unique 265\n",
      "NAME10: null 0, unique 265\n",
      "LSAD10: null 0, unique 1\n",
      "ALAND10: null 0, unique 265\n",
      "AWATER10: null 0, unique 254\n"
     ]
    },
    {
     "data": {
      "text/html": [
       "<div>\n",
       "<style scoped>\n",
       "    .dataframe tbody tr th:only-of-type {\n",
       "        vertical-align: middle;\n",
       "    }\n",
       "\n",
       "    .dataframe tbody tr th {\n",
       "        vertical-align: top;\n",
       "    }\n",
       "\n",
       "    .dataframe thead th {\n",
       "        text-align: right;\n",
       "    }\n",
       "</style>\n",
       "<table border=\"1\" class=\"dataframe\">\n",
       "  <thead>\n",
       "    <tr style=\"text-align: right;\">\n",
       "      <th></th>\n",
       "      <th>STATEFP10</th>\n",
       "      <th>PUMACE10</th>\n",
       "      <th>AFFGEOID10</th>\n",
       "      <th>GEOID10</th>\n",
       "      <th>NAME10</th>\n",
       "      <th>LSAD10</th>\n",
       "      <th>ALAND10</th>\n",
       "      <th>AWATER10</th>\n",
       "      <th>geometry</th>\n",
       "    </tr>\n",
       "  </thead>\n",
       "  <tbody>\n",
       "    <tr>\n",
       "      <th>0</th>\n",
       "      <td>06</td>\n",
       "      <td>01907</td>\n",
       "      <td>7950000US0601907</td>\n",
       "      <td>0601907</td>\n",
       "      <td>Fresno County (East)--Sanger, Reedley &amp; Parlie...</td>\n",
       "      <td>P0</td>\n",
       "      <td>7647644973</td>\n",
       "      <td>117294872</td>\n",
       "      <td>POLYGON ((-119.745652 36.938998, -119.743741 3...</td>\n",
       "    </tr>\n",
       "    <tr>\n",
       "      <th>1</th>\n",
       "      <td>06</td>\n",
       "      <td>00702</td>\n",
       "      <td>7950000US0600702</td>\n",
       "      <td>0600702</td>\n",
       "      <td>Butte County (Southeast)--Oroville City &amp; Para...</td>\n",
       "      <td>P0</td>\n",
       "      <td>2918880948</td>\n",
       "      <td>94035819</td>\n",
       "      <td>POLYGON ((-121.908697 39.30799, -121.907403 39...</td>\n",
       "    </tr>\n",
       "    <tr>\n",
       "      <th>2</th>\n",
       "      <td>06</td>\n",
       "      <td>07307</td>\n",
       "      <td>7950000US0607307</td>\n",
       "      <td>0607307</td>\n",
       "      <td>San Diego County (Central)--Lakeside, Winter G...</td>\n",
       "      <td>P0</td>\n",
       "      <td>632518078</td>\n",
       "      <td>8339612</td>\n",
       "      <td>POLYGON ((-116.993347 32.892625, -116.993058 3...</td>\n",
       "    </tr>\n",
       "  </tbody>\n",
       "</table>\n",
       "</div>"
      ],
      "text/plain": [
       "  STATEFP10 PUMACE10        AFFGEOID10  GEOID10  \\\n",
       "0        06    01907  7950000US0601907  0601907   \n",
       "1        06    00702  7950000US0600702  0600702   \n",
       "2        06    07307  7950000US0607307  0607307   \n",
       "\n",
       "                                              NAME10 LSAD10     ALAND10  \\\n",
       "0  Fresno County (East)--Sanger, Reedley & Parlie...     P0  7647644973   \n",
       "1  Butte County (Southeast)--Oroville City & Para...     P0  2918880948   \n",
       "2  San Diego County (Central)--Lakeside, Winter G...     P0   632518078   \n",
       "\n",
       "    AWATER10                                           geometry  \n",
       "0  117294872  POLYGON ((-119.745652 36.938998, -119.743741 3...  \n",
       "1   94035819  POLYGON ((-121.908697 39.30799, -121.907403 39...  \n",
       "2    8339612  POLYGON ((-116.993347 32.892625, -116.993058 3...  "
      ]
     },
     "execution_count": 27,
     "metadata": {},
     "output_type": "execute_result"
    }
   ],
   "source": [
    "#PUMA\n",
    "!wget http://www2.census.gov/geo/tiger/GENZ2016/shp/cb_2016_06_puma10_500k.zip\n",
    "puma = read_census('cb_2016_06_puma10_500k.zip', 'puma', 'cb_2016_06_puma10_500k.shp')\n",
    "dfname_list.append('puma')\n",
    "checkdf(puma)"
   ]
  },
  {
   "cell_type": "code",
   "execution_count": 28,
   "metadata": {
    "ExecuteTime": {
     "end_time": "2018-01-06T04:37:55.541925Z",
     "start_time": "2018-01-06T04:37:55.467820Z"
    }
   },
   "outputs": [
    {
     "data": {
      "text/html": [
       "<div>\n",
       "<style scoped>\n",
       "    .dataframe tbody tr th:only-of-type {\n",
       "        vertical-align: middle;\n",
       "    }\n",
       "\n",
       "    .dataframe tbody tr th {\n",
       "        vertical-align: top;\n",
       "    }\n",
       "\n",
       "    .dataframe thead th {\n",
       "        text-align: right;\n",
       "    }\n",
       "</style>\n",
       "<table border=\"1\" class=\"dataframe\">\n",
       "  <thead>\n",
       "    <tr style=\"text-align: right;\">\n",
       "      <th></th>\n",
       "      <th>PUMACE10</th>\n",
       "      <th>NAME10</th>\n",
       "      <th>geometry</th>\n",
       "    </tr>\n",
       "  </thead>\n",
       "  <tbody>\n",
       "    <tr>\n",
       "      <th>0</th>\n",
       "      <td>01907</td>\n",
       "      <td>Fresno County (East)--Sanger, Reedley &amp; Parlie...</td>\n",
       "      <td>POLYGON ((-119.745652 36.938998, -119.743741 3...</td>\n",
       "    </tr>\n",
       "    <tr>\n",
       "      <th>1</th>\n",
       "      <td>00702</td>\n",
       "      <td>Butte County (Southeast)--Oroville City &amp; Para...</td>\n",
       "      <td>POLYGON ((-121.908697 39.30799, -121.907403 39...</td>\n",
       "    </tr>\n",
       "    <tr>\n",
       "      <th>2</th>\n",
       "      <td>07307</td>\n",
       "      <td>San Diego County (Central)--Lakeside, Winter G...</td>\n",
       "      <td>POLYGON ((-116.993347 32.892625, -116.993058 3...</td>\n",
       "    </tr>\n",
       "  </tbody>\n",
       "</table>\n",
       "</div>"
      ],
      "text/plain": [
       "  PUMACE10                                             NAME10  \\\n",
       "0    01907  Fresno County (East)--Sanger, Reedley & Parlie...   \n",
       "1    00702  Butte County (Southeast)--Oroville City & Para...   \n",
       "2    07307  San Diego County (Central)--Lakeside, Winter G...   \n",
       "\n",
       "                                            geometry  \n",
       "0  POLYGON ((-119.745652 36.938998, -119.743741 3...  \n",
       "1  POLYGON ((-121.908697 39.30799, -121.907403 39...  \n",
       "2  POLYGON ((-116.993347 32.892625, -116.993058 3...  "
      ]
     },
     "execution_count": 28,
     "metadata": {},
     "output_type": "execute_result"
    }
   ],
   "source": [
    "droplist = ['STATEFP10', 'AFFGEOID10', 'GEOID10', 'LSAD10',\n",
    "       'ALAND10', 'AWATER10']\n",
    "cleandf(puma, droplist)"
   ]
  },
  {
   "cell_type": "code",
   "execution_count": 29,
   "metadata": {
    "ExecuteTime": {
     "end_time": "2018-01-06T04:38:08.937828Z",
     "start_time": "2018-01-06T04:38:08.513531Z"
    }
   },
   "outputs": [
    {
     "data": {
      "text/plain": [
       "<matplotlib.axes._subplots.AxesSubplot at 0x10b13d518>"
      ]
     },
     "execution_count": 29,
     "metadata": {},
     "output_type": "execute_result"
    },
    {
     "data": {
      "image/png": "[encoded data removed]",
      "text/plain": [
       "<matplotlib.figure.Figure at 0x10b131908>"
      ]
     },
     "metadata": {},
     "output_type": "display_data"
    }
   ],
   "source": [
    "puma.plot()"
   ]
  },
  {
   "cell_type": "code",
   "execution_count": 30,
   "metadata": {
    "ExecuteTime": {
     "end_time": "2018-01-06T04:38:22.691872Z",
     "start_time": "2018-01-06T04:38:18.932886Z"
    }
   },
   "outputs": [
    {
     "name": "stdout",
     "output_type": "stream",
     "text": [
      "Total polygon number: 353\n",
      "number of null and unique values in each column:\n",
      "COMMTYPE: null 0, unique 3\n",
      "NAME: null 0, unique 206\n",
      "COLOR: null 0, unique 7\n",
      "PO_NAME: null 0, unique 177\n",
      "STATNAME: null 0, unique 193\n",
      "X_CENTER: null 0, unique 353\n",
      "Y_CENTER: null 0, unique 353\n",
      "ST_NAME: null 0, unique 88\n",
      "LABEL_CITY: null 0, unique 89\n",
      "LABEL_COMM: null 0, unique 143\n",
      "AREA_SQMI: null 0, unique 322\n",
      "Shape_area: null 0, unique 353\n",
      "Shape_len: null 0, unique 353\n"
     ]
    },
    {
     "data": {
      "text/html": [
       "<div>\n",
       "<style scoped>\n",
       "    .dataframe tbody tr th:only-of-type {\n",
       "        vertical-align: middle;\n",
       "    }\n",
       "\n",
       "    .dataframe tbody tr th {\n",
       "        vertical-align: top;\n",
       "    }\n",
       "\n",
       "    .dataframe thead th {\n",
       "        text-align: right;\n",
       "    }\n",
       "</style>\n",
       "<table border=\"1\" class=\"dataframe\">\n",
       "  <thead>\n",
       "    <tr style=\"text-align: right;\">\n",
       "      <th></th>\n",
       "      <th>COMMTYPE</th>\n",
       "      <th>NAME</th>\n",
       "      <th>COLOR</th>\n",
       "      <th>PO_NAME</th>\n",
       "      <th>STATNAME</th>\n",
       "      <th>X_CENTER</th>\n",
       "      <th>Y_CENTER</th>\n",
       "      <th>ST_NAME</th>\n",
       "      <th>LABEL_CITY</th>\n",
       "      <th>LABEL_COMM</th>\n",
       "      <th>AREA_SQMI</th>\n",
       "      <th>Shape_area</th>\n",
       "      <th>Shape_len</th>\n",
       "      <th>geometry</th>\n",
       "    </tr>\n",
       "  </thead>\n",
       "  <tbody>\n",
       "    <tr>\n",
       "      <th>0</th>\n",
       "      <td>Unincorporated</td>\n",
       "      <td>Edwards</td>\n",
       "      <td>Yellow</td>\n",
       "      <td>Edwards</td>\n",
       "      <td>East Antelope Valley</td>\n",
       "      <td>6590507</td>\n",
       "      <td>2111007</td>\n",
       "      <td>Lancaster</td>\n",
       "      <td>Unincorporated</td>\n",
       "      <td>Edwards</td>\n",
       "      <td>93.961</td>\n",
       "      <td>2.619470e+09</td>\n",
       "      <td>337914.985138</td>\n",
       "      <td>POLYGON ((-118.1407088589749 34.81827748625132...</td>\n",
       "    </tr>\n",
       "    <tr>\n",
       "      <th>1</th>\n",
       "      <td>Unincorporated</td>\n",
       "      <td>Gorman</td>\n",
       "      <td>Yellow</td>\n",
       "      <td>West Antelope Valley</td>\n",
       "      <td>West Antelope Valley</td>\n",
       "      <td>6357449</td>\n",
       "      <td>2089258</td>\n",
       "      <td>Santa Clarita Valley</td>\n",
       "      <td>Unincorporated</td>\n",
       "      <td>Gorman</td>\n",
       "      <td>173.752</td>\n",
       "      <td>4.843936e+09</td>\n",
       "      <td>442757.717076</td>\n",
       "      <td>POLYGON ((-118.4662754936974 34.81837563424517...</td>\n",
       "    </tr>\n",
       "    <tr>\n",
       "      <th>2</th>\n",
       "      <td>Unincorporated</td>\n",
       "      <td>Del Sur</td>\n",
       "      <td>Yellow</td>\n",
       "      <td>Lancaster</td>\n",
       "      <td>Quartz Hill</td>\n",
       "      <td>6469031</td>\n",
       "      <td>2091460</td>\n",
       "      <td>Lancaster</td>\n",
       "      <td>Unincorporated</td>\n",
       "      <td>Del Sur</td>\n",
       "      <td>135.398</td>\n",
       "      <td>3.774671e+09</td>\n",
       "      <td>423904.059503</td>\n",
       "      <td>POLYGON ((-118.4662754936974 34.81837563424517...</td>\n",
       "    </tr>\n",
       "  </tbody>\n",
       "</table>\n",
       "</div>"
      ],
      "text/plain": [
       "         COMMTYPE     NAME   COLOR               PO_NAME  \\\n",
       "0  Unincorporated  Edwards  Yellow               Edwards   \n",
       "1  Unincorporated   Gorman  Yellow  West Antelope Valley   \n",
       "2  Unincorporated  Del Sur  Yellow             Lancaster   \n",
       "\n",
       "               STATNAME  X_CENTER  Y_CENTER               ST_NAME  \\\n",
       "0  East Antelope Valley   6590507   2111007             Lancaster   \n",
       "1  West Antelope Valley   6357449   2089258  Santa Clarita Valley   \n",
       "2           Quartz Hill   6469031   2091460             Lancaster   \n",
       "\n",
       "       LABEL_CITY LABEL_COMM  AREA_SQMI    Shape_area      Shape_len  \\\n",
       "0  Unincorporated    Edwards     93.961  2.619470e+09  337914.985138   \n",
       "1  Unincorporated     Gorman    173.752  4.843936e+09  442757.717076   \n",
       "2  Unincorporated    Del Sur    135.398  3.774671e+09  423904.059503   \n",
       "\n",
       "                                            geometry  \n",
       "0  POLYGON ((-118.1407088589749 34.81827748625132...  \n",
       "1  POLYGON ((-118.4662754936974 34.81837563424517...  \n",
       "2  POLYGON ((-118.4662754936974 34.81837563424517...  "
      ]
     },
     "execution_count": 30,
     "metadata": {},
     "output_type": "execute_result"
    }
   ],
   "source": [
    "# LAcounty_COMMUNITIES\n",
    "url = \"http://egis3.lacounty.gov/dataportal/wp-content/uploads/2010/10/\" \\\n",
    "      \"Communities1.zip\"\n",
    "county_communities = download_egis3(url, 'Communities1.zip', 'county_communities', 'Communities.shp')\n",
    "dfname_list.append('county_communities')\n",
    "checkdf(county_communities)"
   ]
  },
  {
   "cell_type": "code",
   "execution_count": 31,
   "metadata": {
    "ExecuteTime": {
     "end_time": "2018-01-06T04:38:34.537133Z",
     "start_time": "2018-01-06T04:38:34.503600Z"
    }
   },
   "outputs": [
    {
     "data": {
      "text/html": [
       "<div>\n",
       "<style scoped>\n",
       "    .dataframe tbody tr th:only-of-type {\n",
       "        vertical-align: middle;\n",
       "    }\n",
       "\n",
       "    .dataframe tbody tr th {\n",
       "        vertical-align: top;\n",
       "    }\n",
       "\n",
       "    .dataframe thead th {\n",
       "        text-align: right;\n",
       "    }\n",
       "</style>\n",
       "<table border=\"1\" class=\"dataframe\">\n",
       "  <thead>\n",
       "    <tr style=\"text-align: right;\">\n",
       "      <th></th>\n",
       "      <th>NAME</th>\n",
       "      <th>geometry</th>\n",
       "    </tr>\n",
       "  </thead>\n",
       "  <tbody>\n",
       "    <tr>\n",
       "      <th>0</th>\n",
       "      <td>Edwards</td>\n",
       "      <td>POLYGON ((-118.1407088589749 34.81827748625132...</td>\n",
       "    </tr>\n",
       "    <tr>\n",
       "      <th>1</th>\n",
       "      <td>Gorman</td>\n",
       "      <td>POLYGON ((-118.4662754936974 34.81837563424517...</td>\n",
       "    </tr>\n",
       "    <tr>\n",
       "      <th>2</th>\n",
       "      <td>Del Sur</td>\n",
       "      <td>POLYGON ((-118.4662754936974 34.81837563424517...</td>\n",
       "    </tr>\n",
       "  </tbody>\n",
       "</table>\n",
       "</div>"
      ],
      "text/plain": [
       "      NAME                                           geometry\n",
       "0  Edwards  POLYGON ((-118.1407088589749 34.81827748625132...\n",
       "1   Gorman  POLYGON ((-118.4662754936974 34.81837563424517...\n",
       "2  Del Sur  POLYGON ((-118.4662754936974 34.81837563424517..."
      ]
     },
     "execution_count": 31,
     "metadata": {},
     "output_type": "execute_result"
    }
   ],
   "source": [
    "droplist = ['COMMTYPE', 'COLOR', 'PO_NAME', 'STATNAME', 'X_CENTER',\n",
    "       'Y_CENTER', 'ST_NAME', 'LABEL_CITY', 'LABEL_COMM', 'AREA_SQMI']\n",
    "cleandf(county_communities, droplist)"
   ]
  },
  {
   "cell_type": "code",
   "execution_count": 32,
   "metadata": {
    "ExecuteTime": {
     "end_time": "2018-01-06T04:38:49.510339Z",
     "start_time": "2018-01-06T04:38:49.071778Z"
    }
   },
   "outputs": [
    {
     "data": {
      "text/plain": [
       "<matplotlib.axes._subplots.AxesSubplot at 0x10b46d7f0>"
      ]
     },
     "execution_count": 32,
     "metadata": {},
     "output_type": "execute_result"
    },
    {
     "data": {
      "image/png": "[encoded data removed]",
      "text/plain": [
       "<matplotlib.figure.Figure at 0x10b52cc18>"
      ]
     },
     "metadata": {},
     "output_type": "display_data"
    }
   ],
   "source": [
    "county_communities.plot()"
   ]
  },
  {
   "cell_type": "code",
   "execution_count": 33,
   "metadata": {
    "ExecuteTime": {
     "end_time": "2018-01-06T04:39:10.849041Z",
     "start_time": "2018-01-06T04:39:01.383494Z"
    }
   },
   "outputs": [
    {
     "name": "stdout",
     "output_type": "stream",
     "text": [
      "Total polygon number: 7137\n",
      "number of null and unique values in each column:\n",
      "OBJECTID: null 0, unique 7137\n",
      "BG10: null 0, unique 6422\n",
      "CT10: null 0, unique 2344\n",
      "FIP10: null 0, unique 89\n",
      "FIP11: null 0, unique 89\n",
      "FIP12: null 0, unique 89\n",
      "FIP13: null 0, unique 89\n",
      "FIP14: null 0, unique 89\n",
      "FIP15: null 0, unique 89\n",
      "FIP16: null 0, unique 89\n",
      "CITY_TYPE: null 0, unique 2\n",
      "LCITY: null 0, unique 89\n",
      "BASA: null 0, unique 257\n",
      "LABEL: null 0, unique 348\n",
      "SOURCE: null 0, unique 2\n",
      "BG10FIP10: null 0, unique 6882\n",
      "BG10FIP11: null 0, unique 6882\n",
      "BG10FIP12: null 0, unique 6881\n",
      "BG10FIP13: null 0, unique 6871\n",
      "BG10FIP14: null 0, unique 6870\n",
      "BG10FIP15: null 0, unique 6874\n",
      "BG10FIP16: null 0, unique 6874\n",
      "CT10FIP10: null 0, unique 2696\n",
      "CT10FIP11: null 0, unique 2696\n",
      "CT10FIP12: null 0, unique 2696\n",
      "CT10FIP13: null 0, unique 2690\n",
      "CT10FIP14: null 0, unique 2689\n",
      "CT10FIP15: null 0, unique 2693\n",
      "CT10FIP16: null 0, unique 2693\n",
      "DISTRICT: null 0, unique 5\n",
      "NOTES: null 0, unique 10\n",
      "PART: null 0, unique 6\n",
      "PARTS: null 0, unique 6\n",
      "BASA_ID: null 0, unique 6908\n",
      "MERGED: null 0, unique 2\n",
      "FIP17: null 0, unique 89\n",
      "BG10FIP17: null 0, unique 6874\n",
      "CT10FIP17: null 0, unique 2693\n",
      "Shape_STAr: null 0, unique 7137\n",
      "Shape_STLe: null 0, unique 7137\n"
     ]
    },
    {
     "data": {
      "text/html": [
       "<div>\n",
       "<style scoped>\n",
       "    .dataframe tbody tr th:only-of-type {\n",
       "        vertical-align: middle;\n",
       "    }\n",
       "\n",
       "    .dataframe tbody tr th {\n",
       "        vertical-align: top;\n",
       "    }\n",
       "\n",
       "    .dataframe thead th {\n",
       "        text-align: right;\n",
       "    }\n",
       "</style>\n",
       "<table border=\"1\" class=\"dataframe\">\n",
       "  <thead>\n",
       "    <tr style=\"text-align: right;\">\n",
       "      <th></th>\n",
       "      <th>OBJECTID</th>\n",
       "      <th>BG10</th>\n",
       "      <th>CT10</th>\n",
       "      <th>FIP10</th>\n",
       "      <th>FIP11</th>\n",
       "      <th>FIP12</th>\n",
       "      <th>FIP13</th>\n",
       "      <th>FIP14</th>\n",
       "      <th>FIP15</th>\n",
       "      <th>FIP16</th>\n",
       "      <th>...</th>\n",
       "      <th>PART</th>\n",
       "      <th>PARTS</th>\n",
       "      <th>BASA_ID</th>\n",
       "      <th>MERGED</th>\n",
       "      <th>FIP17</th>\n",
       "      <th>BG10FIP17</th>\n",
       "      <th>CT10FIP17</th>\n",
       "      <th>Shape_STAr</th>\n",
       "      <th>Shape_STLe</th>\n",
       "      <th>geometry</th>\n",
       "    </tr>\n",
       "  </thead>\n",
       "  <tbody>\n",
       "    <tr>\n",
       "      <th>0</th>\n",
       "      <td>1</td>\n",
       "      <td>9001021</td>\n",
       "      <td>900102</td>\n",
       "      <td>99037</td>\n",
       "      <td>99037</td>\n",
       "      <td>99037</td>\n",
       "      <td>99037</td>\n",
       "      <td>99037</td>\n",
       "      <td>99037</td>\n",
       "      <td>99037</td>\n",
       "      <td>...</td>\n",
       "      <td>1</td>\n",
       "      <td>1</td>\n",
       "      <td>9001021_99037_1</td>\n",
       "      <td></td>\n",
       "      <td>99037</td>\n",
       "      <td>900102199037</td>\n",
       "      <td>90010299037</td>\n",
       "      <td>4.743159e+09</td>\n",
       "      <td>321202.859065</td>\n",
       "      <td>POLYGON ((-117.8806128314039 34.76361625108276...</td>\n",
       "    </tr>\n",
       "    <tr>\n",
       "      <th>1</th>\n",
       "      <td>2</td>\n",
       "      <td>9800031</td>\n",
       "      <td>980003</td>\n",
       "      <td>99037</td>\n",
       "      <td>99037</td>\n",
       "      <td>99037</td>\n",
       "      <td>99037</td>\n",
       "      <td>99037</td>\n",
       "      <td>99037</td>\n",
       "      <td>99037</td>\n",
       "      <td>...</td>\n",
       "      <td>1</td>\n",
       "      <td>1</td>\n",
       "      <td>9800031_99037_1</td>\n",
       "      <td></td>\n",
       "      <td>99037</td>\n",
       "      <td>980003199037</td>\n",
       "      <td>98000399037</td>\n",
       "      <td>2.079120e+09</td>\n",
       "      <td>273106.909554</td>\n",
       "      <td>POLYGON ((-118.1400751750954 34.82085077349104...</td>\n",
       "    </tr>\n",
       "    <tr>\n",
       "      <th>2</th>\n",
       "      <td>3</td>\n",
       "      <td>9012091</td>\n",
       "      <td>901209</td>\n",
       "      <td>99037</td>\n",
       "      <td>99037</td>\n",
       "      <td>99037</td>\n",
       "      <td>99037</td>\n",
       "      <td>99037</td>\n",
       "      <td>99037</td>\n",
       "      <td>99037</td>\n",
       "      <td>...</td>\n",
       "      <td>1</td>\n",
       "      <td>1</td>\n",
       "      <td>9012091_99037_1</td>\n",
       "      <td></td>\n",
       "      <td>99037</td>\n",
       "      <td>901209199037</td>\n",
       "      <td>90120999037</td>\n",
       "      <td>6.420949e+09</td>\n",
       "      <td>567539.493446</td>\n",
       "      <td>POLYGON ((-118.3250820264543 34.75189784834308...</td>\n",
       "    </tr>\n",
       "  </tbody>\n",
       "</table>\n",
       "<p>3 rows × 41 columns</p>\n",
       "</div>"
      ],
      "text/plain": [
       "   OBJECTID     BG10    CT10  FIP10  FIP11  FIP12  FIP13  FIP14  FIP15  FIP16  \\\n",
       "0         1  9001021  900102  99037  99037  99037  99037  99037  99037  99037   \n",
       "1         2  9800031  980003  99037  99037  99037  99037  99037  99037  99037   \n",
       "2         3  9012091  901209  99037  99037  99037  99037  99037  99037  99037   \n",
       "\n",
       "                         ...                         PART PARTS  \\\n",
       "0                        ...                            1     1   \n",
       "1                        ...                            1     1   \n",
       "2                        ...                            1     1   \n",
       "\n",
       "           BASA_ID MERGED  FIP17     BG10FIP17    CT10FIP17    Shape_STAr  \\\n",
       "0  9001021_99037_1         99037  900102199037  90010299037  4.743159e+09   \n",
       "1  9800031_99037_1         99037  980003199037  98000399037  2.079120e+09   \n",
       "2  9012091_99037_1         99037  901209199037  90120999037  6.420949e+09   \n",
       "\n",
       "      Shape_STLe                                           geometry  \n",
       "0  321202.859065  POLYGON ((-117.8806128314039 34.76361625108276...  \n",
       "1  273106.909554  POLYGON ((-118.1400751750954 34.82085077349104...  \n",
       "2  567539.493446  POLYGON ((-118.3250820264543 34.75189784834308...  \n",
       "\n",
       "[3 rows x 41 columns]"
      ]
     },
     "execution_count": 33,
     "metadata": {},
     "output_type": "execute_result"
    }
   ],
   "source": [
    "#Split 2010 Block Group/City – Community Statistical Area (formerly BASA)\n",
    "url = \"http://egis3.lacounty.gov/dataportal/wp-content/uploads/2015/12/\" \\\n",
    "      \"EGIS_BG10FIPxx_CSA_20170118.zip\"\n",
    "community_stat_area = download_egis3(url, 'EGIS_BG10FIPxx_CSA_20170118.zip', 'community_stat_area', 'EGIS_BG10FIPxx_CSA_20170118.shp')\n",
    "dfname_list.append('community_stat_area')\n",
    "checkdf(community_stat_area)"
   ]
  },
  {
   "cell_type": "code",
   "execution_count": 34,
   "metadata": {
    "ExecuteTime": {
     "end_time": "2018-01-06T04:39:21.515614Z",
     "start_time": "2018-01-06T04:39:21.218373Z"
    }
   },
   "outputs": [
    {
     "data": {
      "text/html": [
       "<div>\n",
       "<style scoped>\n",
       "    .dataframe tbody tr th:only-of-type {\n",
       "        vertical-align: middle;\n",
       "    }\n",
       "\n",
       "    .dataframe tbody tr th {\n",
       "        vertical-align: top;\n",
       "    }\n",
       "\n",
       "    .dataframe thead th {\n",
       "        text-align: right;\n",
       "    }\n",
       "</style>\n",
       "<table border=\"1\" class=\"dataframe\">\n",
       "  <thead>\n",
       "    <tr style=\"text-align: right;\">\n",
       "      <th></th>\n",
       "      <th>BASA</th>\n",
       "      <th>BASA_ID</th>\n",
       "      <th>geometry</th>\n",
       "    </tr>\n",
       "  </thead>\n",
       "  <tbody>\n",
       "    <tr>\n",
       "      <th>0</th>\n",
       "      <td>Hi Vista</td>\n",
       "      <td>9001021_99037_1</td>\n",
       "      <td>POLYGON ((-117.8806128314039 34.76361625108276...</td>\n",
       "    </tr>\n",
       "    <tr>\n",
       "      <th>1</th>\n",
       "      <td>South Edwards</td>\n",
       "      <td>9800031_99037_1</td>\n",
       "      <td>POLYGON ((-118.1400751750954 34.82085077349104...</td>\n",
       "    </tr>\n",
       "    <tr>\n",
       "      <th>2</th>\n",
       "      <td>West Antelope Valley</td>\n",
       "      <td>9012091_99037_1</td>\n",
       "      <td>POLYGON ((-118.3250820264543 34.75189784834308...</td>\n",
       "    </tr>\n",
       "  </tbody>\n",
       "</table>\n",
       "</div>"
      ],
      "text/plain": [
       "                   BASA          BASA_ID  \\\n",
       "0              Hi Vista  9001021_99037_1   \n",
       "1         South Edwards  9800031_99037_1   \n",
       "2  West Antelope Valley  9012091_99037_1   \n",
       "\n",
       "                                            geometry  \n",
       "0  POLYGON ((-117.8806128314039 34.76361625108276...  \n",
       "1  POLYGON ((-118.1400751750954 34.82085077349104...  \n",
       "2  POLYGON ((-118.3250820264543 34.75189784834308...  "
      ]
     },
     "execution_count": 34,
     "metadata": {},
     "output_type": "execute_result"
    }
   ],
   "source": [
    "droplist = ['BG10', 'CT10', 'FIP10', 'FIP11', 'FIP12', 'FIP13', 'FIP14',\n",
    "       'FIP15', 'FIP16', 'CITY_TYPE', 'LCITY', 'LABEL', 'SOURCE', 'CT10FIP17',\n",
    "            'DISTRICT', 'NOTES', 'PART', 'PARTS', 'MERGED', 'FIP17',\n",
    "       'BG10FIP10', 'BG10FIP11', 'BG10FIP12', 'BG10FIP13', 'BG10FIP14',\n",
    "       'BG10FIP15', 'BG10FIP16', 'CT10FIP10', 'CT10FIP11', 'CT10FIP12',\n",
    "       'CT10FIP13', 'CT10FIP14', 'CT10FIP15', 'CT10FIP16', 'BG10FIP17', \n",
    "       'Shape_STAr', 'Shape_STLe']\n",
    "cleandf(community_stat_area, droplist)"
   ]
  },
  {
   "cell_type": "code",
   "execution_count": 35,
   "metadata": {
    "ExecuteTime": {
     "end_time": "2018-01-06T04:39:36.328201Z",
     "start_time": "2018-01-06T04:39:33.230908Z"
    }
   },
   "outputs": [
    {
     "data": {
      "text/plain": [
       "<matplotlib.axes._subplots.AxesSubplot at 0x10db5ecc0>"
      ]
     },
     "execution_count": 35,
     "metadata": {},
     "output_type": "execute_result"
    },
    {
     "data": {
      "image/png": "[encoded data removed]",
      "text/plain": [
       "<matplotlib.figure.Figure at 0x10dc256d8>"
      ]
     },
     "metadata": {},
     "output_type": "display_data"
    }
   ],
   "source": [
    "community_stat_area.plot()"
   ]
  },
  {
   "cell_type": "code",
   "execution_count": 36,
   "metadata": {
    "ExecuteTime": {
     "end_time": "2018-01-06T04:39:46.219570Z",
     "start_time": "2018-01-06T04:39:44.463583Z"
    }
   },
   "outputs": [
    {
     "name": "stdout",
     "output_type": "stream",
     "text": [
      "Total polygon number: 25\n",
      "number of null and unique values in each column:\n",
      "OBJECTID: null 0, unique 25\n",
      "Id: null 0, unique 1\n",
      "SupDist: null 0, unique 5\n",
      "CertDate: null 25, unique 1\n",
      "NAME: null 0, unique 21\n",
      "SUB_REGION: null 0, unique 6\n",
      "TYPE: null 0, unique 1\n",
      "DRP_NOTES: null 0, unique 16\n",
      "Shape_STAr: null 0, unique 25\n",
      "Shape_STLe: null 0, unique 25\n"
     ]
    },
    {
     "data": {
      "text/html": [
       "<div>\n",
       "<style scoped>\n",
       "    .dataframe tbody tr th:only-of-type {\n",
       "        vertical-align: middle;\n",
       "    }\n",
       "\n",
       "    .dataframe tbody tr th {\n",
       "        vertical-align: top;\n",
       "    }\n",
       "\n",
       "    .dataframe thead th {\n",
       "        text-align: right;\n",
       "    }\n",
       "</style>\n",
       "<table border=\"1\" class=\"dataframe\">\n",
       "  <thead>\n",
       "    <tr style=\"text-align: right;\">\n",
       "      <th></th>\n",
       "      <th>OBJECTID</th>\n",
       "      <th>Id</th>\n",
       "      <th>SupDist</th>\n",
       "      <th>CertDate</th>\n",
       "      <th>NAME</th>\n",
       "      <th>SUB_REGION</th>\n",
       "      <th>TYPE</th>\n",
       "      <th>DRP_NOTES</th>\n",
       "      <th>Shape_STAr</th>\n",
       "      <th>Shape_STLe</th>\n",
       "      <th>geometry</th>\n",
       "    </tr>\n",
       "  </thead>\n",
       "  <tbody>\n",
       "    <tr>\n",
       "      <th>0</th>\n",
       "      <td>1</td>\n",
       "      <td>0</td>\n",
       "      <td>5</td>\n",
       "      <td>None</td>\n",
       "      <td>Juniper Hills Town Council</td>\n",
       "      <td></td>\n",
       "      <td></td>\n",
       "      <td>done</td>\n",
       "      <td>1.412556e+09</td>\n",
       "      <td>162222.345363</td>\n",
       "      <td>POLYGON ((-117.9228713428042 34.48373342444793...</td>\n",
       "    </tr>\n",
       "    <tr>\n",
       "      <th>1</th>\n",
       "      <td>2</td>\n",
       "      <td>0</td>\n",
       "      <td>5</td>\n",
       "      <td>None</td>\n",
       "      <td>Leona Valley Town Council</td>\n",
       "      <td></td>\n",
       "      <td></td>\n",
       "      <td>CSD referenced in bylaws</td>\n",
       "      <td>4.161558e+08</td>\n",
       "      <td>159039.502427</td>\n",
       "      <td>POLYGON ((-118.3237207085177 34.63380740048827...</td>\n",
       "    </tr>\n",
       "    <tr>\n",
       "      <th>2</th>\n",
       "      <td>3</td>\n",
       "      <td>0</td>\n",
       "      <td>5</td>\n",
       "      <td>None</td>\n",
       "      <td>Acton Town Council</td>\n",
       "      <td></td>\n",
       "      <td></td>\n",
       "      <td>CSD</td>\n",
       "      <td>3.104176e+09</td>\n",
       "      <td>302459.764141</td>\n",
       "      <td>POLYGON ((-118.2066130257172 34.53937158856911...</td>\n",
       "    </tr>\n",
       "  </tbody>\n",
       "</table>\n",
       "</div>"
      ],
      "text/plain": [
       "   OBJECTID  Id  SupDist CertDate                        NAME SUB_REGION TYPE  \\\n",
       "0         1   0        5     None  Juniper Hills Town Council                   \n",
       "1         2   0        5     None   Leona Valley Town Council                   \n",
       "2         3   0        5     None          Acton Town Council                   \n",
       "\n",
       "                  DRP_NOTES    Shape_STAr     Shape_STLe  \\\n",
       "0                      done  1.412556e+09  162222.345363   \n",
       "1  CSD referenced in bylaws  4.161558e+08  159039.502427   \n",
       "2                       CSD  3.104176e+09  302459.764141   \n",
       "\n",
       "                                            geometry  \n",
       "0  POLYGON ((-117.9228713428042 34.48373342444793...  \n",
       "1  POLYGON ((-118.3237207085177 34.63380740048827...  \n",
       "2  POLYGON ((-118.2066130257172 34.53937158856911...  "
      ]
     },
     "execution_count": 36,
     "metadata": {},
     "output_type": "execute_result"
    }
   ],
   "source": [
    "#LA County TOWN_COUNCILS\n",
    "url = \"http://egis3.lacounty.gov/dataportal/wp-content/uploads/2014/12/\" \\\n",
    "      \"DRP_TOWN_COUNCIL_AREAS.zip\"\n",
    "town_councils = download_egis3(url, 'DRP_TOWN_COUNCIL_AREAS.zip', 'town_councils', 'DRP_TOWN_COUNCIL_AREAS.shp')\n",
    "dfname_list.append('town_councils')\n",
    "checkdf(town_councils)"
   ]
  },
  {
   "cell_type": "code",
   "execution_count": 37,
   "metadata": {
    "ExecuteTime": {
     "end_time": "2018-01-06T04:39:58.626943Z",
     "start_time": "2018-01-06T04:39:58.572058Z"
    }
   },
   "outputs": [
    {
     "data": {
      "text/html": [
       "<div>\n",
       "<style scoped>\n",
       "    .dataframe tbody tr th:only-of-type {\n",
       "        vertical-align: middle;\n",
       "    }\n",
       "\n",
       "    .dataframe tbody tr th {\n",
       "        vertical-align: top;\n",
       "    }\n",
       "\n",
       "    .dataframe thead th {\n",
       "        text-align: right;\n",
       "    }\n",
       "</style>\n",
       "<table border=\"1\" class=\"dataframe\">\n",
       "  <thead>\n",
       "    <tr style=\"text-align: right;\">\n",
       "      <th></th>\n",
       "      <th>NAME</th>\n",
       "      <th>geometry</th>\n",
       "    </tr>\n",
       "  </thead>\n",
       "  <tbody>\n",
       "    <tr>\n",
       "      <th>0</th>\n",
       "      <td>Juniper Hills Town Council</td>\n",
       "      <td>POLYGON ((-117.9228713428042 34.48373342444793...</td>\n",
       "    </tr>\n",
       "    <tr>\n",
       "      <th>1</th>\n",
       "      <td>Leona Valley Town Council</td>\n",
       "      <td>POLYGON ((-118.3237207085177 34.63380740048827...</td>\n",
       "    </tr>\n",
       "    <tr>\n",
       "      <th>2</th>\n",
       "      <td>Acton Town Council</td>\n",
       "      <td>POLYGON ((-118.2066130257172 34.53937158856911...</td>\n",
       "    </tr>\n",
       "  </tbody>\n",
       "</table>\n",
       "</div>"
      ],
      "text/plain": [
       "                         NAME  \\\n",
       "0  Juniper Hills Town Council   \n",
       "1   Leona Valley Town Council   \n",
       "2          Acton Town Council   \n",
       "\n",
       "                                            geometry  \n",
       "0  POLYGON ((-117.9228713428042 34.48373342444793...  \n",
       "1  POLYGON ((-118.3237207085177 34.63380740048827...  \n",
       "2  POLYGON ((-118.2066130257172 34.53937158856911...  "
      ]
     },
     "execution_count": 37,
     "metadata": {},
     "output_type": "execute_result"
    }
   ],
   "source": [
    "droplist = ['Id', 'SupDist', 'CertDate', 'SUB_REGION', 'TYPE',\n",
    "       'DRP_NOTES', 'Shape_STAr', 'Shape_STLe']\n",
    "cleandf(town_councils, droplist)"
   ]
  },
  {
   "cell_type": "code",
   "execution_count": 38,
   "metadata": {
    "ExecuteTime": {
     "end_time": "2018-01-06T04:40:10.939842Z",
     "start_time": "2018-01-06T04:40:10.653105Z"
    }
   },
   "outputs": [
    {
     "data": {
      "text/plain": [
       "<matplotlib.axes._subplots.AxesSubplot at 0x10ddcbb70>"
      ]
     },
     "execution_count": 38,
     "metadata": {},
     "output_type": "execute_result"
    },
    {
     "data": {
      "image/png": "[encoded data removed]",
      "text/plain": [
       "<matplotlib.figure.Figure at 0x10ddc4470>"
      ]
     },
     "metadata": {},
     "output_type": "display_data"
    }
   ],
   "source": [
    "town_councils.plot()"
   ]
  },
  {
   "cell_type": "code",
   "execution_count": 39,
   "metadata": {
    "ExecuteTime": {
     "end_time": "2018-01-06T04:40:29.339067Z",
     "start_time": "2018-01-06T04:40:28.052375Z"
    }
   },
   "outputs": [
    {
     "name": "stdout",
     "output_type": "stream",
     "text": [
      "Total polygon number: 9\n",
      "number of null and unique values in each column:\n",
      "OBJECTID: null 0, unique 9\n",
      "DIV: null 0, unique 9\n",
      "Shape_Leng: null 0, unique 9\n",
      "Shape_STAr: null 0, unique 9\n",
      "Shape_STLe: null 0, unique 9\n"
     ]
    },
    {
     "data": {
      "text/html": [
       "<div>\n",
       "<style scoped>\n",
       "    .dataframe tbody tr th:only-of-type {\n",
       "        vertical-align: middle;\n",
       "    }\n",
       "\n",
       "    .dataframe tbody tr th {\n",
       "        vertical-align: top;\n",
       "    }\n",
       "\n",
       "    .dataframe thead th {\n",
       "        text-align: right;\n",
       "    }\n",
       "</style>\n",
       "<table border=\"1\" class=\"dataframe\">\n",
       "  <thead>\n",
       "    <tr style=\"text-align: right;\">\n",
       "      <th></th>\n",
       "      <th>OBJECTID</th>\n",
       "      <th>DIV</th>\n",
       "      <th>Shape_Leng</th>\n",
       "      <th>Shape_STAr</th>\n",
       "      <th>Shape_STLe</th>\n",
       "      <th>geometry</th>\n",
       "    </tr>\n",
       "  </thead>\n",
       "  <tbody>\n",
       "    <tr>\n",
       "      <th>0</th>\n",
       "      <td>1</td>\n",
       "      <td>I</td>\n",
       "      <td>8.334326e+05</td>\n",
       "      <td>4.066853e+09</td>\n",
       "      <td>8.334326e+05</td>\n",
       "      <td>(POLYGON ((-118.6060576865897 33.4791081369531...</td>\n",
       "    </tr>\n",
       "    <tr>\n",
       "      <th>1</th>\n",
       "      <td>2</td>\n",
       "      <td>II</td>\n",
       "      <td>6.055937e+05</td>\n",
       "      <td>8.351965e+09</td>\n",
       "      <td>6.055937e+05</td>\n",
       "      <td>POLYGON ((-117.7457043664994 34.33837148403114...</td>\n",
       "    </tr>\n",
       "    <tr>\n",
       "      <th>2</th>\n",
       "      <td>3</td>\n",
       "      <td>III</td>\n",
       "      <td>1.470782e+06</td>\n",
       "      <td>2.491402e+10</td>\n",
       "      <td>1.470782e+06</td>\n",
       "      <td>(POLYGON ((-118.8804273943463 34.8178403050801...</td>\n",
       "    </tr>\n",
       "  </tbody>\n",
       "</table>\n",
       "</div>"
      ],
      "text/plain": [
       "   OBJECTID  DIV    Shape_Leng    Shape_STAr    Shape_STLe  \\\n",
       "0         1    I  8.334326e+05  4.066853e+09  8.334326e+05   \n",
       "1         2   II  6.055937e+05  8.351965e+09  6.055937e+05   \n",
       "2         3  III  1.470782e+06  2.491402e+10  1.470782e+06   \n",
       "\n",
       "                                            geometry  \n",
       "0  (POLYGON ((-118.6060576865897 33.4791081369531...  \n",
       "1  POLYGON ((-117.7457043664994 34.33837148403114...  \n",
       "2  (POLYGON ((-118.8804273943463 34.8178403050801...  "
      ]
     },
     "execution_count": 39,
     "metadata": {},
     "output_type": "execute_result"
    }
   ],
   "source": [
    "#FIRE_DIVISION_BOUNDARIES\n",
    "url = \"http://egis3.lacounty.gov/dataportal/wp-content/uploads/\" \\\n",
    "      \"ShapefilePackages/FIRE_DIVISION_BOUNDARIES.zip\"\n",
    "fire_division = download_egis3(url, 'FIRE_DIVISION_BOUNDARIES.zip', 'fire_division', 'FIRE_DIVISION_BOUNDARIES.shp')\n",
    "dfname_list.append('fire_division')\n",
    "checkdf(fire_division)"
   ]
  },
  {
   "cell_type": "code",
   "execution_count": 40,
   "metadata": {
    "ExecuteTime": {
     "end_time": "2018-01-06T04:40:41.098883Z",
     "start_time": "2018-01-06T04:40:40.994963Z"
    }
   },
   "outputs": [
    {
     "data": {
      "text/html": [
       "<div>\n",
       "<style scoped>\n",
       "    .dataframe tbody tr th:only-of-type {\n",
       "        vertical-align: middle;\n",
       "    }\n",
       "\n",
       "    .dataframe tbody tr th {\n",
       "        vertical-align: top;\n",
       "    }\n",
       "\n",
       "    .dataframe thead th {\n",
       "        text-align: right;\n",
       "    }\n",
       "</style>\n",
       "<table border=\"1\" class=\"dataframe\">\n",
       "  <thead>\n",
       "    <tr style=\"text-align: right;\">\n",
       "      <th></th>\n",
       "      <th>DIV</th>\n",
       "      <th>geometry</th>\n",
       "    </tr>\n",
       "  </thead>\n",
       "  <tbody>\n",
       "    <tr>\n",
       "      <th>0</th>\n",
       "      <td>I</td>\n",
       "      <td>(POLYGON ((-118.6060576865897 33.4791081369531...</td>\n",
       "    </tr>\n",
       "    <tr>\n",
       "      <th>1</th>\n",
       "      <td>II</td>\n",
       "      <td>POLYGON ((-117.7457043664994 34.33837148403114...</td>\n",
       "    </tr>\n",
       "    <tr>\n",
       "      <th>2</th>\n",
       "      <td>III</td>\n",
       "      <td>(POLYGON ((-118.8804273943463 34.8178403050801...</td>\n",
       "    </tr>\n",
       "  </tbody>\n",
       "</table>\n",
       "</div>"
      ],
      "text/plain": [
       "   DIV                                           geometry\n",
       "0    I  (POLYGON ((-118.6060576865897 33.4791081369531...\n",
       "1   II  POLYGON ((-117.7457043664994 34.33837148403114...\n",
       "2  III  (POLYGON ((-118.8804273943463 34.8178403050801..."
      ]
     },
     "execution_count": 40,
     "metadata": {},
     "output_type": "execute_result"
    }
   ],
   "source": [
    "droplist = ['Shape_Leng', 'Shape_STAr', 'Shape_STLe']\n",
    "cleandf(fire_division, droplist)"
   ]
  },
  {
   "cell_type": "code",
   "execution_count": 41,
   "metadata": {
    "ExecuteTime": {
     "end_time": "2018-01-06T04:40:50.797504Z",
     "start_time": "2018-01-06T04:40:50.592591Z"
    }
   },
   "outputs": [
    {
     "data": {
      "text/plain": [
       "<matplotlib.axes._subplots.AxesSubplot at 0x10dd93400>"
      ]
     },
     "execution_count": 41,
     "metadata": {},
     "output_type": "execute_result"
    },
    {
     "data": {
      "image/png": "[encoded data removed]",
      "text/plain": [
       "<matplotlib.figure.Figure at 0x10ddb0b00>"
      ]
     },
     "metadata": {},
     "output_type": "display_data"
    }
   ],
   "source": [
    "fire_division.plot()"
   ]
  },
  {
   "cell_type": "code",
   "execution_count": 42,
   "metadata": {
    "ExecuteTime": {
     "end_time": "2018-01-06T04:41:03.017995Z",
     "start_time": "2018-01-06T04:41:01.808962Z"
    }
   },
   "outputs": [
    {
     "name": "stdout",
     "output_type": "stream",
     "text": [
      "Total polygon number: 22\n",
      "number of null and unique values in each column:\n",
      "OBJECTID: null 0, unique 22\n",
      "BATTID: null 0, unique 22\n",
      "Shape_Leng: null 0, unique 22\n",
      "Shape_STAr: null 0, unique 22\n",
      "Shape_STLe: null 0, unique 22\n"
     ]
    },
    {
     "data": {
      "text/html": [
       "<div>\n",
       "<style scoped>\n",
       "    .dataframe tbody tr th:only-of-type {\n",
       "        vertical-align: middle;\n",
       "    }\n",
       "\n",
       "    .dataframe tbody tr th {\n",
       "        vertical-align: top;\n",
       "    }\n",
       "\n",
       "    .dataframe thead th {\n",
       "        text-align: right;\n",
       "    }\n",
       "</style>\n",
       "<table border=\"1\" class=\"dataframe\">\n",
       "  <thead>\n",
       "    <tr style=\"text-align: right;\">\n",
       "      <th></th>\n",
       "      <th>OBJECTID</th>\n",
       "      <th>BATTID</th>\n",
       "      <th>Shape_Leng</th>\n",
       "      <th>Shape_STAr</th>\n",
       "      <th>Shape_STLe</th>\n",
       "      <th>geometry</th>\n",
       "    </tr>\n",
       "  </thead>\n",
       "  <tbody>\n",
       "    <tr>\n",
       "      <th>0</th>\n",
       "      <td>1</td>\n",
       "      <td>1</td>\n",
       "      <td>225880.985263</td>\n",
       "      <td>2.742210e+08</td>\n",
       "      <td>225880.985263</td>\n",
       "      <td>(POLYGON ((-118.3626353408748 34.0063866246520...</td>\n",
       "    </tr>\n",
       "    <tr>\n",
       "      <th>1</th>\n",
       "      <td>2</td>\n",
       "      <td>2</td>\n",
       "      <td>453772.402871</td>\n",
       "      <td>3.146341e+09</td>\n",
       "      <td>453772.402871</td>\n",
       "      <td>POLYGON ((-117.6587123201178 34.24037857785586...</td>\n",
       "    </tr>\n",
       "    <tr>\n",
       "      <th>2</th>\n",
       "      <td>3</td>\n",
       "      <td>3</td>\n",
       "      <td>158516.064622</td>\n",
       "      <td>5.869450e+08</td>\n",
       "      <td>158516.064622</td>\n",
       "      <td>(POLYGON ((-118.1777734260421 34.0622946700525...</td>\n",
       "    </tr>\n",
       "  </tbody>\n",
       "</table>\n",
       "</div>"
      ],
      "text/plain": [
       "   OBJECTID  BATTID     Shape_Leng    Shape_STAr     Shape_STLe  \\\n",
       "0         1       1  225880.985263  2.742210e+08  225880.985263   \n",
       "1         2       2  453772.402871  3.146341e+09  453772.402871   \n",
       "2         3       3  158516.064622  5.869450e+08  158516.064622   \n",
       "\n",
       "                                            geometry  \n",
       "0  (POLYGON ((-118.3626353408748 34.0063866246520...  \n",
       "1  POLYGON ((-117.6587123201178 34.24037857785586...  \n",
       "2  (POLYGON ((-118.1777734260421 34.0622946700525...  "
      ]
     },
     "execution_count": 42,
     "metadata": {},
     "output_type": "execute_result"
    }
   ],
   "source": [
    "#Los Angeles County Fire Department Battalion Boundaries\n",
    "url = \"http://egis3.lacounty.gov/dataportal/wp-content/uploads/\" \\\n",
    "      \"ShapefilePackages/FIRE_BATTALION_BOUNDARIES.zip\"\n",
    "fire_battalion = download_egis3(url, 'FIRE_BATTALION_BOUNDARIES.zip', 'fire_battalion', 'FIRE_BATTALION_BOUNDARIES.shp')\n",
    "dfname_list.append('fire_battalion')\n",
    "checkdf(fire_battalion)"
   ]
  },
  {
   "cell_type": "code",
   "execution_count": 43,
   "metadata": {
    "ExecuteTime": {
     "end_time": "2018-01-06T04:41:19.506549Z",
     "start_time": "2018-01-06T04:41:19.453461Z"
    }
   },
   "outputs": [
    {
     "data": {
      "text/html": [
       "<div>\n",
       "<style scoped>\n",
       "    .dataframe tbody tr th:only-of-type {\n",
       "        vertical-align: middle;\n",
       "    }\n",
       "\n",
       "    .dataframe tbody tr th {\n",
       "        vertical-align: top;\n",
       "    }\n",
       "\n",
       "    .dataframe thead th {\n",
       "        text-align: right;\n",
       "    }\n",
       "</style>\n",
       "<table border=\"1\" class=\"dataframe\">\n",
       "  <thead>\n",
       "    <tr style=\"text-align: right;\">\n",
       "      <th></th>\n",
       "      <th>BATTID</th>\n",
       "      <th>geometry</th>\n",
       "    </tr>\n",
       "  </thead>\n",
       "  <tbody>\n",
       "    <tr>\n",
       "      <th>0</th>\n",
       "      <td>1</td>\n",
       "      <td>(POLYGON ((-118.3626353408748 34.0063866246520...</td>\n",
       "    </tr>\n",
       "    <tr>\n",
       "      <th>1</th>\n",
       "      <td>2</td>\n",
       "      <td>POLYGON ((-117.6587123201178 34.24037857785586...</td>\n",
       "    </tr>\n",
       "    <tr>\n",
       "      <th>2</th>\n",
       "      <td>3</td>\n",
       "      <td>(POLYGON ((-118.1777734260421 34.0622946700525...</td>\n",
       "    </tr>\n",
       "  </tbody>\n",
       "</table>\n",
       "</div>"
      ],
      "text/plain": [
       "   BATTID                                           geometry\n",
       "0       1  (POLYGON ((-118.3626353408748 34.0063866246520...\n",
       "1       2  POLYGON ((-117.6587123201178 34.24037857785586...\n",
       "2       3  (POLYGON ((-118.1777734260421 34.0622946700525..."
      ]
     },
     "execution_count": 43,
     "metadata": {},
     "output_type": "execute_result"
    }
   ],
   "source": [
    "droplist = ['Shape_Leng', 'Shape_STAr', 'Shape_STLe']\n",
    "cleandf(fire_battalion, droplist)"
   ]
  },
  {
   "cell_type": "code",
   "execution_count": 44,
   "metadata": {
    "ExecuteTime": {
     "end_time": "2018-01-06T04:41:28.580610Z",
     "start_time": "2018-01-06T04:41:28.362318Z"
    }
   },
   "outputs": [
    {
     "data": {
      "text/plain": [
       "<matplotlib.axes._subplots.AxesSubplot at 0x10e149c50>"
      ]
     },
     "execution_count": 44,
     "metadata": {},
     "output_type": "execute_result"
    },
    {
     "data": {
      "image/png": "[encoded data removed]",
      "text/plain": [
       "<matplotlib.figure.Figure at 0x10de6aef0>"
      ]
     },
     "metadata": {},
     "output_type": "display_data"
    }
   ],
   "source": [
    "fire_battalion.plot()"
   ]
  },
  {
   "cell_type": "code",
   "execution_count": 45,
   "metadata": {
    "ExecuteTime": {
     "end_time": "2018-01-06T04:41:50.368506Z",
     "start_time": "2018-01-06T04:41:49.607452Z"
    }
   },
   "outputs": [
    {
     "name": "stdout",
     "output_type": "stream",
     "text": [
      "Total polygon number: 5\n",
      "number of null and unique values in each column:\n",
      "OBJECTID: null 0, unique 5\n",
      "SUP_DIST_N: null 0, unique 5\n",
      "SYMBOL: null 0, unique 1\n",
      "PERIMETER: null 0, unique 1\n",
      "AREA_SQ_MI: null 0, unique 5\n",
      "SHAPE_AREA: null 0, unique 5\n",
      "SHAPE_LEN: null 0, unique 5\n"
     ]
    },
    {
     "data": {
      "text/html": [
       "<div>\n",
       "<style scoped>\n",
       "    .dataframe tbody tr th:only-of-type {\n",
       "        vertical-align: middle;\n",
       "    }\n",
       "\n",
       "    .dataframe tbody tr th {\n",
       "        vertical-align: top;\n",
       "    }\n",
       "\n",
       "    .dataframe thead th {\n",
       "        text-align: right;\n",
       "    }\n",
       "</style>\n",
       "<table border=\"1\" class=\"dataframe\">\n",
       "  <thead>\n",
       "    <tr style=\"text-align: right;\">\n",
       "      <th></th>\n",
       "      <th>OBJECTID</th>\n",
       "      <th>SUP_DIST_N</th>\n",
       "      <th>SYMBOL</th>\n",
       "      <th>PERIMETER</th>\n",
       "      <th>AREA_SQ_MI</th>\n",
       "      <th>SHAPE_AREA</th>\n",
       "      <th>SHAPE_LEN</th>\n",
       "      <th>geometry</th>\n",
       "    </tr>\n",
       "  </thead>\n",
       "  <tbody>\n",
       "    <tr>\n",
       "      <th>0</th>\n",
       "      <td>1601</td>\n",
       "      <td>1</td>\n",
       "      <td>0</td>\n",
       "      <td>0.0</td>\n",
       "      <td>246.202</td>\n",
       "      <td>6.863264e+09</td>\n",
       "      <td>946818.102008</td>\n",
       "      <td>POLYGON ((-118.2845039326605 34.08665464600393...</td>\n",
       "    </tr>\n",
       "    <tr>\n",
       "      <th>1</th>\n",
       "      <td>1602</td>\n",
       "      <td>2</td>\n",
       "      <td>0</td>\n",
       "      <td>0.0</td>\n",
       "      <td>161.825</td>\n",
       "      <td>4.511450e+09</td>\n",
       "      <td>477092.243642</td>\n",
       "      <td>POLYGON ((-118.3063679014772 34.09079201094933...</td>\n",
       "    </tr>\n",
       "    <tr>\n",
       "      <th>2</th>\n",
       "      <td>1603</td>\n",
       "      <td>3</td>\n",
       "      <td>0</td>\n",
       "      <td>0.0</td>\n",
       "      <td>431.197</td>\n",
       "      <td>1.202126e+10</td>\n",
       "      <td>759927.656095</td>\n",
       "      <td>POLYGON ((-118.506688035281 34.33409190867378,...</td>\n",
       "    </tr>\n",
       "  </tbody>\n",
       "</table>\n",
       "</div>"
      ],
      "text/plain": [
       "   OBJECTID SUP_DIST_N  SYMBOL  PERIMETER  AREA_SQ_MI    SHAPE_AREA  \\\n",
       "0      1601          1       0        0.0     246.202  6.863264e+09   \n",
       "1      1602          2       0        0.0     161.825  4.511450e+09   \n",
       "2      1603          3       0        0.0     431.197  1.202126e+10   \n",
       "\n",
       "       SHAPE_LEN                                           geometry  \n",
       "0  946818.102008  POLYGON ((-118.2845039326605 34.08665464600393...  \n",
       "1  477092.243642  POLYGON ((-118.3063679014772 34.09079201094933...  \n",
       "2  759927.656095  POLYGON ((-118.506688035281 34.33409190867378,...  "
      ]
     },
     "execution_count": 45,
     "metadata": {},
     "output_type": "execute_result"
    }
   ],
   "source": [
    "#2011 Supervisorial District Boundaries (Official)\n",
    "url = \"http://egis3.lacounty.gov/dataportal/wp-content/uploads/2011/12/\" \\\n",
    "      \"DPW-Supervisorial-District.zip\"\n",
    "supervisorial_district = download_egis3(url, 'DPW-Supervisorial-District.zip', 'supervisorial_district', 'sup_dist_2011.shp')\n",
    "dfname_list.append('supervisorial_district')\n",
    "checkdf(supervisorial_district)"
   ]
  },
  {
   "cell_type": "code",
   "execution_count": 46,
   "metadata": {
    "ExecuteTime": {
     "end_time": "2018-01-06T04:42:07.516668Z",
     "start_time": "2018-01-06T04:42:07.469897Z"
    }
   },
   "outputs": [
    {
     "data": {
      "text/html": [
       "<div>\n",
       "<style scoped>\n",
       "    .dataframe tbody tr th:only-of-type {\n",
       "        vertical-align: middle;\n",
       "    }\n",
       "\n",
       "    .dataframe tbody tr th {\n",
       "        vertical-align: top;\n",
       "    }\n",
       "\n",
       "    .dataframe thead th {\n",
       "        text-align: right;\n",
       "    }\n",
       "</style>\n",
       "<table border=\"1\" class=\"dataframe\">\n",
       "  <thead>\n",
       "    <tr style=\"text-align: right;\">\n",
       "      <th></th>\n",
       "      <th>SUP_DIST_N</th>\n",
       "      <th>geometry</th>\n",
       "    </tr>\n",
       "  </thead>\n",
       "  <tbody>\n",
       "    <tr>\n",
       "      <th>0</th>\n",
       "      <td>1</td>\n",
       "      <td>POLYGON ((-118.2845039326605 34.08665464600393...</td>\n",
       "    </tr>\n",
       "    <tr>\n",
       "      <th>1</th>\n",
       "      <td>2</td>\n",
       "      <td>POLYGON ((-118.3063679014772 34.09079201094933...</td>\n",
       "    </tr>\n",
       "    <tr>\n",
       "      <th>2</th>\n",
       "      <td>3</td>\n",
       "      <td>POLYGON ((-118.506688035281 34.33409190867378,...</td>\n",
       "    </tr>\n",
       "  </tbody>\n",
       "</table>\n",
       "</div>"
      ],
      "text/plain": [
       "  SUP_DIST_N                                           geometry\n",
       "0          1  POLYGON ((-118.2845039326605 34.08665464600393...\n",
       "1          2  POLYGON ((-118.3063679014772 34.09079201094933...\n",
       "2          3  POLYGON ((-118.506688035281 34.33409190867378,..."
      ]
     },
     "execution_count": 46,
     "metadata": {},
     "output_type": "execute_result"
    }
   ],
   "source": [
    "droplist = ['SYMBOL', 'PERIMETER', 'AREA_SQ_MI', 'SHAPE_AREA', 'SHAPE_LEN']\n",
    "cleandf(supervisorial_district, droplist)"
   ]
  },
  {
   "cell_type": "code",
   "execution_count": 47,
   "metadata": {
    "ExecuteTime": {
     "end_time": "2018-01-06T04:42:19.895412Z",
     "start_time": "2018-01-06T04:42:19.731463Z"
    }
   },
   "outputs": [
    {
     "data": {
      "text/plain": [
       "<matplotlib.axes._subplots.AxesSubplot at 0x1115c6160>"
      ]
     },
     "execution_count": 47,
     "metadata": {},
     "output_type": "execute_result"
    },
    {
     "data": {
      "image/png": "[encoded data removed]",
      "text/plain": [
       "<matplotlib.figure.Figure at 0x10b195c18>"
      ]
     },
     "metadata": {},
     "output_type": "display_data"
    }
   ],
   "source": [
    "supervisorial_district.plot()"
   ]
  },
  {
   "cell_type": "code",
   "execution_count": 48,
   "metadata": {
    "ExecuteTime": {
     "end_time": "2018-01-06T04:42:34.815593Z",
     "start_time": "2018-01-06T04:42:33.791388Z"
    }
   },
   "outputs": [
    {
     "name": "stdout",
     "output_type": "stream",
     "text": [
      "Total polygon number: 15\n",
      "number of null and unique values in each column:\n",
      "AREA: null 0, unique 15\n",
      "PERIMETER: null 0, unique 15\n",
      "CDMEMBER: null 0, unique 15\n",
      "DISTRICT: null 0, unique 15\n",
      "SQ_MI: null 0, unique 15\n",
      "SHADESYM: null 0, unique 1\n",
      "Revised: null 0, unique 1\n",
      "Comments: null 0, unique 1\n",
      "SHAPE_Leng: null 0, unique 15\n",
      "SHAPE_Area: null 0, unique 15\n"
     ]
    },
    {
     "data": {
      "text/html": [
       "<div>\n",
       "<style scoped>\n",
       "    .dataframe tbody tr th:only-of-type {\n",
       "        vertical-align: middle;\n",
       "    }\n",
       "\n",
       "    .dataframe tbody tr th {\n",
       "        vertical-align: top;\n",
       "    }\n",
       "\n",
       "    .dataframe thead th {\n",
       "        text-align: right;\n",
       "    }\n",
       "</style>\n",
       "<table border=\"1\" class=\"dataframe\">\n",
       "  <thead>\n",
       "    <tr style=\"text-align: right;\">\n",
       "      <th></th>\n",
       "      <th>AREA</th>\n",
       "      <th>PERIMETER</th>\n",
       "      <th>CDMEMBER</th>\n",
       "      <th>DISTRICT</th>\n",
       "      <th>SQ_MI</th>\n",
       "      <th>SHADESYM</th>\n",
       "      <th>Revised</th>\n",
       "      <th>Comments</th>\n",
       "      <th>SHAPE_Leng</th>\n",
       "      <th>SHAPE_Area</th>\n",
       "      <th>geometry</th>\n",
       "    </tr>\n",
       "  </thead>\n",
       "  <tbody>\n",
       "    <tr>\n",
       "      <th>0</th>\n",
       "      <td>1.508806e+09</td>\n",
       "      <td>345479.674422</td>\n",
       "      <td>Felipe Fuentes</td>\n",
       "      <td>7</td>\n",
       "      <td>54.12</td>\n",
       "      <td>10</td>\n",
       "      <td>07/02/2012</td>\n",
       "      <td>ORD 182168</td>\n",
       "      <td>345539.115290</td>\n",
       "      <td>1.508899e+09</td>\n",
       "      <td>POLYGON ((-118.5084667256651 34.33379445567272...</td>\n",
       "    </tr>\n",
       "    <tr>\n",
       "      <th>1</th>\n",
       "      <td>1.637593e+09</td>\n",
       "      <td>254031.923325</td>\n",
       "      <td>Mitchell Englander</td>\n",
       "      <td>12</td>\n",
       "      <td>58.74</td>\n",
       "      <td>10</td>\n",
       "      <td>07/02/2012</td>\n",
       "      <td>ORD 182168</td>\n",
       "      <td>253975.218622</td>\n",
       "      <td>1.637537e+09</td>\n",
       "      <td>POLYGON ((-118.5084667256651 34.33379445567272...</td>\n",
       "    </tr>\n",
       "    <tr>\n",
       "      <th>2</th>\n",
       "      <td>7.579624e+08</td>\n",
       "      <td>191215.747144</td>\n",
       "      <td>Nury Martinez</td>\n",
       "      <td>6</td>\n",
       "      <td>27.19</td>\n",
       "      <td>10</td>\n",
       "      <td>07/02/2012</td>\n",
       "      <td>ORD 182168</td>\n",
       "      <td>191215.747039</td>\n",
       "      <td>7.579624e+08</td>\n",
       "      <td>POLYGON ((-118.4729681280253 34.23192967092903...</td>\n",
       "    </tr>\n",
       "  </tbody>\n",
       "</table>\n",
       "</div>"
      ],
      "text/plain": [
       "           AREA      PERIMETER            CDMEMBER DISTRICT  SQ_MI  SHADESYM  \\\n",
       "0  1.508806e+09  345479.674422      Felipe Fuentes        7  54.12        10   \n",
       "1  1.637593e+09  254031.923325  Mitchell Englander       12  58.74        10   \n",
       "2  7.579624e+08  191215.747144       Nury Martinez        6  27.19        10   \n",
       "\n",
       "      Revised    Comments     SHAPE_Leng    SHAPE_Area  \\\n",
       "0  07/02/2012  ORD 182168  345539.115290  1.508899e+09   \n",
       "1  07/02/2012  ORD 182168  253975.218622  1.637537e+09   \n",
       "2  07/02/2012  ORD 182168  191215.747039  7.579624e+08   \n",
       "\n",
       "                                            geometry  \n",
       "0  POLYGON ((-118.5084667256651 34.33379445567272...  \n",
       "1  POLYGON ((-118.5084667256651 34.33379445567272...  \n",
       "2  POLYGON ((-118.4729681280253 34.23192967092903...  "
      ]
     },
     "execution_count": 48,
     "metadata": {},
     "output_type": "execute_result"
    }
   ],
   "source": [
    "#LA City Council Districts (2012)\n",
    "url = \"http://egis3.lacounty.gov/dataportal/wp-content/uploads/2012/08/\" \\\n",
    "      \"CnclDist_July2012.zip\"\n",
    "LAcity_council_dist = download_egis3(url, 'CnclDist_July2012.zip', 'LAcity_council_dist', 'CnclDist_July2012.shp')\n",
    "dfname_list.append('LAcity_council_dist')\n",
    "checkdf(LAcity_council_dist)"
   ]
  },
  {
   "cell_type": "code",
   "execution_count": 49,
   "metadata": {
    "ExecuteTime": {
     "end_time": "2018-01-06T04:42:51.212637Z",
     "start_time": "2018-01-06T04:42:51.183921Z"
    }
   },
   "outputs": [
    {
     "data": {
      "text/html": [
       "<div>\n",
       "<style scoped>\n",
       "    .dataframe tbody tr th:only-of-type {\n",
       "        vertical-align: middle;\n",
       "    }\n",
       "\n",
       "    .dataframe tbody tr th {\n",
       "        vertical-align: top;\n",
       "    }\n",
       "\n",
       "    .dataframe thead th {\n",
       "        text-align: right;\n",
       "    }\n",
       "</style>\n",
       "<table border=\"1\" class=\"dataframe\">\n",
       "  <thead>\n",
       "    <tr style=\"text-align: right;\">\n",
       "      <th></th>\n",
       "      <th>DISTRICT</th>\n",
       "      <th>geometry</th>\n",
       "    </tr>\n",
       "  </thead>\n",
       "  <tbody>\n",
       "    <tr>\n",
       "      <th>0</th>\n",
       "      <td>7</td>\n",
       "      <td>POLYGON ((-118.5084667256651 34.33379445567272...</td>\n",
       "    </tr>\n",
       "    <tr>\n",
       "      <th>1</th>\n",
       "      <td>12</td>\n",
       "      <td>POLYGON ((-118.5084667256651 34.33379445567272...</td>\n",
       "    </tr>\n",
       "    <tr>\n",
       "      <th>2</th>\n",
       "      <td>6</td>\n",
       "      <td>POLYGON ((-118.4729681280253 34.23192967092903...</td>\n",
       "    </tr>\n",
       "  </tbody>\n",
       "</table>\n",
       "</div>"
      ],
      "text/plain": [
       "  DISTRICT                                           geometry\n",
       "0        7  POLYGON ((-118.5084667256651 34.33379445567272...\n",
       "1       12  POLYGON ((-118.5084667256651 34.33379445567272...\n",
       "2        6  POLYGON ((-118.4729681280253 34.23192967092903..."
      ]
     },
     "execution_count": 49,
     "metadata": {},
     "output_type": "execute_result"
    }
   ],
   "source": [
    "droplist = ['AREA', 'PERIMETER', 'CDMEMBER', 'SQ_MI', 'SHADESYM',\n",
    "       'Revised', 'Comments', 'SHAPE_Leng', 'SHAPE_Area']\n",
    "cleandf(LAcity_council_dist, droplist)"
   ]
  },
  {
   "cell_type": "code",
   "execution_count": 50,
   "metadata": {
    "ExecuteTime": {
     "end_time": "2018-01-06T04:43:04.278315Z",
     "start_time": "2018-01-06T04:43:04.008313Z"
    }
   },
   "outputs": [
    {
     "data": {
      "text/plain": [
       "<matplotlib.axes._subplots.AxesSubplot at 0x10e6a5be0>"
      ]
     },
     "execution_count": 50,
     "metadata": {},
     "output_type": "execute_result"
    },
    {
     "data": {
      "image/png": "[encoded data removed]",
      "text/plain": [
       "<matplotlib.figure.Figure at 0x10e694b70>"
      ]
     },
     "metadata": {},
     "output_type": "display_data"
    }
   ],
   "source": [
    "LAcity_council_dist.plot()"
   ]
  },
  {
   "cell_type": "code",
   "execution_count": 51,
   "metadata": {
    "ExecuteTime": {
     "end_time": "2018-01-06T04:43:22.929183Z",
     "start_time": "2018-01-06T04:43:20.913109Z"
    }
   },
   "outputs": [
    {
     "name": "stdout",
     "output_type": "stream",
     "text": [
      "--2018-01-05 23:43:20--  https://www2.census.gov/geo/tiger/GENZ2016/shp/cb_2016_06_sldl_500k.zip\n",
      "Resolving www2.census.gov... 2600:1408:24:5aa::208c, 2600:1408:24:599::208c, 104.121.83.95\n",
      "Connecting to www2.census.gov|2600:1408:24:5aa::208c|:443... connected.\n",
      "HTTP request sent, awaiting response... 200 OK\n",
      "Length: 612466 (598K) [application/zip]\n",
      "Saving to: 'cb_2016_06_sldl_500k.zip.3'\n",
      "\n",
      "cb_2016_06_sldl_500 100%[===================>] 598.11K  1.60MB/s    in 0.4s    \n",
      "\n",
      "2018-01-05 23:43:21 (1.60 MB/s) - 'cb_2016_06_sldl_500k.zip.3' saved [612466/612466]\n",
      "\n",
      "Total polygon number: 80\n",
      "number of null and unique values in each column:\n",
      "STATEFP: null 0, unique 1\n",
      "SLDLST: null 0, unique 80\n",
      "AFFGEOID: null 0, unique 80\n",
      "GEOID: null 0, unique 80\n",
      "NAME: null 0, unique 80\n",
      "LSAD: null 0, unique 1\n",
      "LSY: null 0, unique 1\n",
      "ALAND: null 0, unique 80\n",
      "AWATER: null 0, unique 80\n"
     ]
    },
    {
     "data": {
      "text/html": [
       "<div>\n",
       "<style scoped>\n",
       "    .dataframe tbody tr th:only-of-type {\n",
       "        vertical-align: middle;\n",
       "    }\n",
       "\n",
       "    .dataframe tbody tr th {\n",
       "        vertical-align: top;\n",
       "    }\n",
       "\n",
       "    .dataframe thead th {\n",
       "        text-align: right;\n",
       "    }\n",
       "</style>\n",
       "<table border=\"1\" class=\"dataframe\">\n",
       "  <thead>\n",
       "    <tr style=\"text-align: right;\">\n",
       "      <th></th>\n",
       "      <th>STATEFP</th>\n",
       "      <th>SLDLST</th>\n",
       "      <th>AFFGEOID</th>\n",
       "      <th>GEOID</th>\n",
       "      <th>NAME</th>\n",
       "      <th>LSAD</th>\n",
       "      <th>LSY</th>\n",
       "      <th>ALAND</th>\n",
       "      <th>AWATER</th>\n",
       "      <th>geometry</th>\n",
       "    </tr>\n",
       "  </thead>\n",
       "  <tbody>\n",
       "    <tr>\n",
       "      <th>0</th>\n",
       "      <td>06</td>\n",
       "      <td>036</td>\n",
       "      <td>620L500US06036</td>\n",
       "      <td>06036</td>\n",
       "      <td>36</td>\n",
       "      <td>L3</td>\n",
       "      <td>2016</td>\n",
       "      <td>7179257039</td>\n",
       "      <td>28222885</td>\n",
       "      <td>POLYGON ((-118.894474 34.817972, -118.884388 3...</td>\n",
       "    </tr>\n",
       "    <tr>\n",
       "      <th>1</th>\n",
       "      <td>06</td>\n",
       "      <td>057</td>\n",
       "      <td>620L500US06057</td>\n",
       "      <td>06057</td>\n",
       "      <td>57</td>\n",
       "      <td>L3</td>\n",
       "      <td>2016</td>\n",
       "      <td>237746318</td>\n",
       "      <td>2222703</td>\n",
       "      <td>POLYGON ((-118.099942 33.904934, -118.099517 3...</td>\n",
       "    </tr>\n",
       "    <tr>\n",
       "      <th>2</th>\n",
       "      <td>06</td>\n",
       "      <td>055</td>\n",
       "      <td>620L500US06055</td>\n",
       "      <td>06055</td>\n",
       "      <td>55</td>\n",
       "      <td>L3</td>\n",
       "      <td>2016</td>\n",
       "      <td>410765132</td>\n",
       "      <td>1985765</td>\n",
       "      <td>POLYGON ((-117.976692 33.910614, -117.976571 3...</td>\n",
       "    </tr>\n",
       "  </tbody>\n",
       "</table>\n",
       "</div>"
      ],
      "text/plain": [
       "  STATEFP SLDLST        AFFGEOID  GEOID NAME LSAD   LSY       ALAND    AWATER  \\\n",
       "0      06    036  620L500US06036  06036   36   L3  2016  7179257039  28222885   \n",
       "1      06    057  620L500US06057  06057   57   L3  2016   237746318   2222703   \n",
       "2      06    055  620L500US06055  06055   55   L3  2016   410765132   1985765   \n",
       "\n",
       "                                            geometry  \n",
       "0  POLYGON ((-118.894474 34.817972, -118.884388 3...  \n",
       "1  POLYGON ((-118.099942 33.904934, -118.099517 3...  \n",
       "2  POLYGON ((-117.976692 33.910614, -117.976571 3...  "
      ]
     },
     "execution_count": 51,
     "metadata": {},
     "output_type": "execute_result"
    }
   ],
   "source": [
    "#State Assembly Districts (State Legislative District – Lower Chamber)\n",
    "!wget https://www2.census.gov/geo/tiger/GENZ2016/shp/cb_2016_06_sldl_500k.zip\n",
    "legislative_lower = read_census('cb_2016_06_sldl_500k.zip', 'legislative_lower', 'cb_2016_06_sldl_500k.shp')\n",
    "dfname_list.append('legislative_lower')\n",
    "checkdf(legislative_lower)"
   ]
  },
  {
   "cell_type": "code",
   "execution_count": 52,
   "metadata": {
    "ExecuteTime": {
     "end_time": "2018-01-06T04:43:37.875212Z",
     "start_time": "2018-01-06T04:43:37.777661Z"
    }
   },
   "outputs": [
    {
     "data": {
      "text/html": [
       "<div>\n",
       "<style scoped>\n",
       "    .dataframe tbody tr th:only-of-type {\n",
       "        vertical-align: middle;\n",
       "    }\n",
       "\n",
       "    .dataframe tbody tr th {\n",
       "        vertical-align: top;\n",
       "    }\n",
       "\n",
       "    .dataframe thead th {\n",
       "        text-align: right;\n",
       "    }\n",
       "</style>\n",
       "<table border=\"1\" class=\"dataframe\">\n",
       "  <thead>\n",
       "    <tr style=\"text-align: right;\">\n",
       "      <th></th>\n",
       "      <th>NAME</th>\n",
       "      <th>geometry</th>\n",
       "    </tr>\n",
       "  </thead>\n",
       "  <tbody>\n",
       "    <tr>\n",
       "      <th>0</th>\n",
       "      <td>36</td>\n",
       "      <td>POLYGON ((-118.894474 34.817972, -118.884388 3...</td>\n",
       "    </tr>\n",
       "    <tr>\n",
       "      <th>1</th>\n",
       "      <td>57</td>\n",
       "      <td>POLYGON ((-118.099942 33.904934, -118.099517 3...</td>\n",
       "    </tr>\n",
       "    <tr>\n",
       "      <th>2</th>\n",
       "      <td>55</td>\n",
       "      <td>POLYGON ((-117.976692 33.910614, -117.976571 3...</td>\n",
       "    </tr>\n",
       "  </tbody>\n",
       "</table>\n",
       "</div>"
      ],
      "text/plain": [
       "  NAME                                           geometry\n",
       "0   36  POLYGON ((-118.894474 34.817972, -118.884388 3...\n",
       "1   57  POLYGON ((-118.099942 33.904934, -118.099517 3...\n",
       "2   55  POLYGON ((-117.976692 33.910614, -117.976571 3..."
      ]
     },
     "execution_count": 52,
     "metadata": {},
     "output_type": "execute_result"
    }
   ],
   "source": [
    "droplist = ['STATEFP', 'SLDLST', 'AFFGEOID', 'GEOID', 'LSAD', 'LSY',\n",
    "       'ALAND', 'AWATER']\n",
    "cleandf(legislative_lower, droplist)"
   ]
  },
  {
   "cell_type": "code",
   "execution_count": 53,
   "metadata": {
    "ExecuteTime": {
     "end_time": "2018-01-06T04:43:51.872567Z",
     "start_time": "2018-01-06T04:43:51.658222Z"
    }
   },
   "outputs": [
    {
     "data": {
      "text/plain": [
       "<matplotlib.axes._subplots.AxesSubplot at 0x10dd4dbe0>"
      ]
     },
     "execution_count": 53,
     "metadata": {},
     "output_type": "execute_result"
    },
    {
     "data": {
      "image/png": "[encoded data removed]",
      "text/plain": [
       "<matplotlib.figure.Figure at 0x10e4672e8>"
      ]
     },
     "metadata": {},
     "output_type": "display_data"
    }
   ],
   "source": [
    "legislative_lower.plot()"
   ]
  },
  {
   "cell_type": "code",
   "execution_count": 54,
   "metadata": {
    "ExecuteTime": {
     "end_time": "2018-01-06T04:45:00.935367Z",
     "start_time": "2018-01-06T04:44:04.311186Z"
    }
   },
   "outputs": [
    {
     "name": "stdout",
     "output_type": "stream",
     "text": [
      "Total polygon number: 33601\n",
      "number of null and unique values in each column:\n",
      "PRECINCT: null 0, unique 33601\n",
      "CITY_EST: null 0, unique 7992\n",
      "SUBCODE: null 0, unique 26\n",
      "MAP1: null 0, unique 1\n",
      "DIST_RES: null 0, unique 1\n",
      "DIST_CONG: null 0, unique 18\n",
      "DIST_STSEN: null 0, unique 15\n",
      "DIST_STASS: null 0, unique 24\n",
      "DIST_SUP: null 0, unique 5\n",
      "DIST_MCRT: null 0, unique 1\n",
      "DIST_BEQ: null 0, unique 2\n",
      "DST_CITY: null 0, unique 89\n",
      "DIV_CITY: null 0, unique 95\n",
      "DST_RES2: null 0, unique 1\n",
      "DIV_RES2: null 0, unique 1\n",
      "DST_JRC: null 0, unique 15\n",
      "DIV_JRC: null 0, unique 8\n",
      "DST_USD: null 0, unique 50\n",
      "DIV_USD: null 0, unique 8\n",
      "DST_HSD: null 0, unique 8\n",
      "DIV_HSD: null 0, unique 6\n",
      "DST_ESD: null 0, unique 30\n",
      "DIV_ESD: null 0, unique 6\n",
      "DST_HOSP: null 0, unique 3\n",
      "DIV_HOSP: null 0, unique 1\n",
      "DST_PARK: null 0, unique 5\n",
      "DIV_PARK: null 0, unique 3\n",
      "DST_WA: null 0, unique 2\n",
      "DIV_WA: null 0, unique 1\n",
      "DST_MWD: null 0, unique 9\n",
      "DIV_MWD: null 0, unique 8\n",
      "DST_WR: null 0, unique 2\n",
      "DIV_WR: null 0, unique 6\n",
      "DST_WAG: null 0, unique 3\n",
      "DIV_WAG: null 0, unique 8\n",
      "DST_CW: null 0, unique 14\n",
      "DIV_CW: null 0, unique 6\n",
      "DST_IRR: null 0, unique 7\n",
      "DIV_IRR: null 0, unique 6\n",
      "DST_CS: null 0, unique 1\n",
      "DIV_CS: null 0, unique 1\n",
      "DST_LIB: null 0, unique 5\n",
      "DIV_LIB: null 0, unique 1\n",
      "DST_RC: null 0, unique 4\n",
      "DIV_RC: null 0, unique 1\n",
      "DST_CAW: null 0, unique 2\n",
      "DIV_CAW: null 0, unique 6\n",
      "DST_CEM: null 0, unique 1\n",
      "DIV_CEM: null 0, unique 1\n",
      "DST_MOS: null 0, unique 6\n",
      "DIV_MOS: null 0, unique 1\n",
      "DST_SAN: null 0, unique 2\n",
      "DIV_SAN: null 0, unique 1\n",
      "DST_TRN: null 0, unique 1\n",
      "DIV_TRN: null 0, unique 1\n",
      "DST_RES3: null 0, unique 1\n",
      "DIV_RES3: null 0, unique 1\n",
      "DST_FIR: null 0, unique 2\n",
      "DIV_FIR: null 0, unique 1\n",
      "DST_FLD: null 0, unique 2\n",
      "DIV_FLD: null 0, unique 1\n",
      "DST_GARB: null 0, unique 8\n",
      "DIV_GARB: null 0, unique 1\n",
      "DIST_OLDC: null 0, unique 18\n",
      "DIST_OLDS: null 0, unique 14\n",
      "DIST_OLDA: null 0, unique 26\n",
      "DST_CL: null 0, unique 1\n",
      "DIV_CL: null 0, unique 1\n",
      "DST_SM: null 0, unique 1\n",
      "DIV_SM: null 0, unique 1\n",
      "DST_RD: null 0, unique 1\n",
      "DIV_RD: null 0, unique 1\n",
      "DST_MISC1: null 0, unique 7\n",
      "DIV_MISC1: null 0, unique 1\n",
      "DST_MISC2: null 0, unique 1\n",
      "DIV_MISC2: null 0, unique 1\n",
      "DST_MISC3: null 0, unique 4\n",
      "DIV_MISC3: null 0, unique 1\n",
      "DST_MISC4: null 0, unique 1\n",
      "DIV_MISC4: null 0, unique 1\n",
      "DST_MISC5: null 0, unique 5\n",
      "DIV_MISC5: null 0, unique 1\n",
      "DST_MISC6: null 0, unique 3\n",
      "DIV_MISC6: null 0, unique 1\n",
      "DST_ANX1: null 0, unique 1\n",
      "DIV_ANX1: null 0, unique 1\n",
      "DST_ANX2: null 0, unique 1\n",
      "DIV_ANX2: null 0, unique 1\n",
      "DST_ANX3: null 0, unique 1\n",
      "DIV_ANX3: null 0, unique 1\n",
      "DST_ANX4: null 0, unique 1\n",
      "DIV_ANX4: null 0, unique 1\n",
      "DST_ANX5: null 0, unique 1\n",
      "DIV_ANX5: null 0, unique 1\n",
      "CT_YEAR1: null 0, unique 1\n",
      "CT_YEAR2: null 0, unique 1\n",
      "CTRACT1: null 0, unique 2343\n",
      "CTRACT2: null 0, unique 2054\n",
      "COMM_CODE: null 0, unique 170\n",
      "COMM_NAME: null 0, unique 170\n",
      "AREA_CODE: null 0, unique 36\n",
      "AREA_NAME: null 0, unique 36\n",
      "PRC_NAME: null 0, unique 170\n",
      "CITY: null 0, unique 170\n",
      "ESTAB: null 0, unique 3100\n",
      "Shape_STAr: null 0, unique 33601\n",
      "Shape_STLe: null 0, unique 33601\n"
     ]
    },
    {
     "data": {
      "text/html": [
       "<div>\n",
       "<style scoped>\n",
       "    .dataframe tbody tr th:only-of-type {\n",
       "        vertical-align: middle;\n",
       "    }\n",
       "\n",
       "    .dataframe tbody tr th {\n",
       "        vertical-align: top;\n",
       "    }\n",
       "\n",
       "    .dataframe thead th {\n",
       "        text-align: right;\n",
       "    }\n",
       "</style>\n",
       "<table border=\"1\" class=\"dataframe\">\n",
       "  <thead>\n",
       "    <tr style=\"text-align: right;\">\n",
       "      <th></th>\n",
       "      <th>PRECINCT</th>\n",
       "      <th>CITY_EST</th>\n",
       "      <th>SUBCODE</th>\n",
       "      <th>MAP1</th>\n",
       "      <th>DIST_RES</th>\n",
       "      <th>DIST_CONG</th>\n",
       "      <th>DIST_STSEN</th>\n",
       "      <th>DIST_STASS</th>\n",
       "      <th>DIST_SUP</th>\n",
       "      <th>DIST_MCRT</th>\n",
       "      <th>...</th>\n",
       "      <th>COMM_CODE</th>\n",
       "      <th>COMM_NAME</th>\n",
       "      <th>AREA_CODE</th>\n",
       "      <th>AREA_NAME</th>\n",
       "      <th>PRC_NAME</th>\n",
       "      <th>CITY</th>\n",
       "      <th>ESTAB</th>\n",
       "      <th>Shape_STAr</th>\n",
       "      <th>Shape_STLe</th>\n",
       "      <th>geometry</th>\n",
       "    </tr>\n",
       "  </thead>\n",
       "  <tbody>\n",
       "    <tr>\n",
       "      <th>0</th>\n",
       "      <td>9001742B</td>\n",
       "      <td>9001742</td>\n",
       "      <td>B</td>\n",
       "      <td>0.0</td>\n",
       "      <td></td>\n",
       "      <td>34.0</td>\n",
       "      <td>24.0</td>\n",
       "      <td>53.0</td>\n",
       "      <td>1.0</td>\n",
       "      <td></td>\n",
       "      <td>...</td>\n",
       "      <td>900.0</td>\n",
       "      <td>LOS ANGELES</td>\n",
       "      <td>809.0</td>\n",
       "      <td>CENTRAL AREA</td>\n",
       "      <td>LOS ANGELES</td>\n",
       "      <td>900</td>\n",
       "      <td>1742</td>\n",
       "      <td>453984.737305</td>\n",
       "      <td>2713.125981</td>\n",
       "      <td>POLYGON ((-118.2776159595675 34.05073225085379...</td>\n",
       "    </tr>\n",
       "    <tr>\n",
       "      <th>1</th>\n",
       "      <td>9001742C</td>\n",
       "      <td>9001742</td>\n",
       "      <td>C</td>\n",
       "      <td>0.0</td>\n",
       "      <td></td>\n",
       "      <td>34.0</td>\n",
       "      <td>24.0</td>\n",
       "      <td>53.0</td>\n",
       "      <td>1.0</td>\n",
       "      <td></td>\n",
       "      <td>...</td>\n",
       "      <td>900.0</td>\n",
       "      <td>LOS ANGELES</td>\n",
       "      <td>809.0</td>\n",
       "      <td>CENTRAL AREA</td>\n",
       "      <td>LOS ANGELES</td>\n",
       "      <td>900</td>\n",
       "      <td>1742</td>\n",
       "      <td>766784.173828</td>\n",
       "      <td>3820.588904</td>\n",
       "      <td>POLYGON ((-118.2828304354189 34.04931735342003...</td>\n",
       "    </tr>\n",
       "    <tr>\n",
       "      <th>2</th>\n",
       "      <td>9001742E</td>\n",
       "      <td>9001742</td>\n",
       "      <td>E</td>\n",
       "      <td>0.0</td>\n",
       "      <td></td>\n",
       "      <td>34.0</td>\n",
       "      <td>24.0</td>\n",
       "      <td>53.0</td>\n",
       "      <td>1.0</td>\n",
       "      <td></td>\n",
       "      <td>...</td>\n",
       "      <td>900.0</td>\n",
       "      <td>LOS ANGELES</td>\n",
       "      <td>809.0</td>\n",
       "      <td>CENTRAL AREA</td>\n",
       "      <td>LOS ANGELES</td>\n",
       "      <td>900</td>\n",
       "      <td>1742</td>\n",
       "      <td>566946.030273</td>\n",
       "      <td>3362.362112</td>\n",
       "      <td>POLYGON ((-118.2835241269783 34.05237068362484...</td>\n",
       "    </tr>\n",
       "  </tbody>\n",
       "</table>\n",
       "<p>3 rows × 108 columns</p>\n",
       "</div>"
      ],
      "text/plain": [
       "   PRECINCT CITY_EST SUBCODE  MAP1 DIST_RES  DIST_CONG  DIST_STSEN  \\\n",
       "0  9001742B  9001742       B   0.0                34.0        24.0   \n",
       "1  9001742C  9001742       C   0.0                34.0        24.0   \n",
       "2  9001742E  9001742       E   0.0                34.0        24.0   \n",
       "\n",
       "   DIST_STASS  DIST_SUP DIST_MCRT  \\\n",
       "0        53.0       1.0             \n",
       "1        53.0       1.0             \n",
       "2        53.0       1.0             \n",
       "\n",
       "                         ...                          COMM_CODE    COMM_NAME  \\\n",
       "0                        ...                              900.0  LOS ANGELES   \n",
       "1                        ...                              900.0  LOS ANGELES   \n",
       "2                        ...                              900.0  LOS ANGELES   \n",
       "\n",
       "   AREA_CODE     AREA_NAME     PRC_NAME  CITY  ESTAB     Shape_STAr  \\\n",
       "0      809.0  CENTRAL AREA  LOS ANGELES   900   1742  453984.737305   \n",
       "1      809.0  CENTRAL AREA  LOS ANGELES   900   1742  766784.173828   \n",
       "2      809.0  CENTRAL AREA  LOS ANGELES   900   1742  566946.030273   \n",
       "\n",
       "    Shape_STLe                                           geometry  \n",
       "0  2713.125981  POLYGON ((-118.2776159595675 34.05073225085379...  \n",
       "1  3820.588904  POLYGON ((-118.2828304354189 34.04931735342003...  \n",
       "2  3362.362112  POLYGON ((-118.2835241269783 34.05237068362484...  \n",
       "\n",
       "[3 rows x 108 columns]"
      ]
     },
     "execution_count": 54,
     "metadata": {},
     "output_type": "execute_result"
    }
   ],
   "source": [
    "#Registrar Recorder Precincts\n",
    "url = \"http://egis3.lacounty.gov/dataportal/wp-content/uploads/\" \\\n",
    "      \"ShapefilePackages/RRCC_PRECINCTS.zip\"\n",
    "election_precinct = download_egis3(url, 'RRCC_PRECINCTS.zip', 'election_precinct', 'RRCC_PRECINCTS.shp')\n",
    "dfname_list.append('election_precinct')\n",
    "checkdf(election_precinct)"
   ]
  },
  {
   "cell_type": "markdown",
   "metadata": {},
   "source": [
    "This shapefile itself is a geocrosswalk! But the metadata is not in perfect quality, so some columns' meaning are unknown."
   ]
  },
  {
   "cell_type": "code",
   "execution_count": 55,
   "metadata": {
    "ExecuteTime": {
     "end_time": "2018-01-06T04:45:36.034719Z",
     "start_time": "2018-01-06T04:45:32.765713Z"
    }
   },
   "outputs": [
    {
     "data": {
      "text/html": [
       "<div>\n",
       "<style scoped>\n",
       "    .dataframe tbody tr th:only-of-type {\n",
       "        vertical-align: middle;\n",
       "    }\n",
       "\n",
       "    .dataframe tbody tr th {\n",
       "        vertical-align: top;\n",
       "    }\n",
       "\n",
       "    .dataframe thead th {\n",
       "        text-align: right;\n",
       "    }\n",
       "</style>\n",
       "<table border=\"1\" class=\"dataframe\">\n",
       "  <thead>\n",
       "    <tr style=\"text-align: right;\">\n",
       "      <th></th>\n",
       "      <th>PRECINCT</th>\n",
       "      <th>DIST_CONG</th>\n",
       "      <th>DIST_STSEN</th>\n",
       "      <th>DIST_STASS</th>\n",
       "      <th>DIST_SUP</th>\n",
       "      <th>COMM_CODE</th>\n",
       "      <th>COMM_NAME</th>\n",
       "      <th>AREA_CODE</th>\n",
       "      <th>AREA_NAME</th>\n",
       "      <th>PRC_NAME</th>\n",
       "      <th>CITY</th>\n",
       "      <th>geometry</th>\n",
       "    </tr>\n",
       "  </thead>\n",
       "  <tbody>\n",
       "    <tr>\n",
       "      <th>0</th>\n",
       "      <td>9001742B</td>\n",
       "      <td>34.0</td>\n",
       "      <td>24.0</td>\n",
       "      <td>53.0</td>\n",
       "      <td>1.0</td>\n",
       "      <td>900.0</td>\n",
       "      <td>LOS ANGELES</td>\n",
       "      <td>809.0</td>\n",
       "      <td>CENTRAL AREA</td>\n",
       "      <td>LOS ANGELES</td>\n",
       "      <td>900</td>\n",
       "      <td>POLYGON ((-118.2776159595675 34.05073225085379...</td>\n",
       "    </tr>\n",
       "    <tr>\n",
       "      <th>1</th>\n",
       "      <td>9001742C</td>\n",
       "      <td>34.0</td>\n",
       "      <td>24.0</td>\n",
       "      <td>53.0</td>\n",
       "      <td>1.0</td>\n",
       "      <td>900.0</td>\n",
       "      <td>LOS ANGELES</td>\n",
       "      <td>809.0</td>\n",
       "      <td>CENTRAL AREA</td>\n",
       "      <td>LOS ANGELES</td>\n",
       "      <td>900</td>\n",
       "      <td>POLYGON ((-118.2828304354189 34.04931735342003...</td>\n",
       "    </tr>\n",
       "    <tr>\n",
       "      <th>2</th>\n",
       "      <td>9001742E</td>\n",
       "      <td>34.0</td>\n",
       "      <td>24.0</td>\n",
       "      <td>53.0</td>\n",
       "      <td>1.0</td>\n",
       "      <td>900.0</td>\n",
       "      <td>LOS ANGELES</td>\n",
       "      <td>809.0</td>\n",
       "      <td>CENTRAL AREA</td>\n",
       "      <td>LOS ANGELES</td>\n",
       "      <td>900</td>\n",
       "      <td>POLYGON ((-118.2835241269783 34.05237068362484...</td>\n",
       "    </tr>\n",
       "  </tbody>\n",
       "</table>\n",
       "</div>"
      ],
      "text/plain": [
       "   PRECINCT  DIST_CONG  DIST_STSEN  DIST_STASS  DIST_SUP  COMM_CODE  \\\n",
       "0  9001742B       34.0        24.0        53.0       1.0      900.0   \n",
       "1  9001742C       34.0        24.0        53.0       1.0      900.0   \n",
       "2  9001742E       34.0        24.0        53.0       1.0      900.0   \n",
       "\n",
       "     COMM_NAME  AREA_CODE     AREA_NAME     PRC_NAME CITY  \\\n",
       "0  LOS ANGELES      809.0  CENTRAL AREA  LOS ANGELES  900   \n",
       "1  LOS ANGELES      809.0  CENTRAL AREA  LOS ANGELES  900   \n",
       "2  LOS ANGELES      809.0  CENTRAL AREA  LOS ANGELES  900   \n",
       "\n",
       "                                            geometry  \n",
       "0  POLYGON ((-118.2776159595675 34.05073225085379...  \n",
       "1  POLYGON ((-118.2828304354189 34.04931735342003...  \n",
       "2  POLYGON ((-118.2835241269783 34.05237068362484...  "
      ]
     },
     "execution_count": 55,
     "metadata": {},
     "output_type": "execute_result"
    }
   ],
   "source": [
    "droplist = [ 'CITY_EST', 'SUBCODE', 'MAP1',\n",
    " 'DIST_RES', 'DIST_MCRT', 'DIST_BEQ',\n",
    " 'DST_CITY', 'DIV_CITY', 'DST_RES2', 'DIV_RES2',\n",
    " 'DST_JRC', 'DIV_JRC', 'DST_USD', 'DIV_USD',\n",
    " 'DST_HSD', 'DIV_HSD', 'DST_ESD', 'DIV_ESD',\n",
    " 'DST_HOSP', 'DIV_HOSP', 'DST_PARK', 'DIV_PARK',\n",
    " 'DST_WA', 'DIV_WA', 'DST_MWD', 'DIV_MWD',\n",
    " 'DST_WR', 'DIV_WR', 'DST_WAG', 'DIV_WAG',\n",
    " 'DST_CW', 'DIV_CW', 'DST_IRR', 'DIV_IRR',\n",
    " 'DST_CS', 'DIV_CS', 'DST_LIB', 'DIV_LIB',\n",
    " 'DST_RC', 'DIV_RC', 'DST_CAW', 'DIV_CAW',\n",
    " 'DST_CEM', 'DIV_CEM', 'DST_MOS', 'DIV_MOS',\n",
    " 'DST_SAN', 'DIV_SAN', 'DST_TRN', 'DIV_TRN',\n",
    " 'DST_RES3', 'DIV_RES3', 'DST_FIR', 'DIV_FIR',\n",
    " 'DST_FLD', 'DIV_FLD', 'DST_GARB', 'DIV_GARB',\n",
    " 'DIST_OLDC', 'DIST_OLDS', 'DIST_OLDA', 'DST_CL', 'DIV_CL',\n",
    " 'DST_SM', 'DIV_SM', 'DST_RD', 'DIV_RD',\n",
    " 'DST_MISC1', 'DIV_MISC1', 'DST_MISC2', 'DIV_MISC2',\n",
    " 'DST_MISC3', 'DIV_MISC3', 'DST_MISC4', 'DIV_MISC4',\n",
    " 'DST_MISC5', 'DIV_MISC5', 'DST_MISC6', 'DIV_MISC6',\n",
    " 'DST_ANX1', 'DIV_ANX1', 'DST_ANX2', 'DIV_ANX2',\n",
    " 'DST_ANX3', 'DIV_ANX3', 'DST_ANX4', 'DIV_ANX4',\n",
    " 'DST_ANX5', 'DIV_ANX5', 'CT_YEAR1', 'CT_YEAR2', 'CTRACT1',\n",
    " 'CTRACT2', 'ESTAB', 'Shape_STAr', 'Shape_STLe']\n",
    "cleandf(election_precinct, droplist)"
   ]
  },
  {
   "cell_type": "code",
   "execution_count": 56,
   "metadata": {
    "ExecuteTime": {
     "end_time": "2018-01-06T04:46:04.145387Z",
     "start_time": "2018-01-06T04:45:49.992363Z"
    }
   },
   "outputs": [
    {
     "data": {
      "text/plain": [
       "<matplotlib.axes._subplots.AxesSubplot at 0x111588128>"
      ]
     },
     "execution_count": 56,
     "metadata": {},
     "output_type": "execute_result"
    },
    {
     "data": {
      "image/png": "[encoded data removed]",
      "text/plain": [
       "<matplotlib.figure.Figure at 0x1117b96d8>"
      ]
     },
     "metadata": {},
     "output_type": "display_data"
    }
   ],
   "source": [
    "election_precinct.plot()"
   ]
  },
  {
   "cell_type": "code",
   "execution_count": 57,
   "metadata": {
    "ExecuteTime": {
     "end_time": "2018-01-06T04:46:09.428727Z",
     "start_time": "2018-01-06T04:46:07.607495Z"
    }
   },
   "outputs": [
    {
     "name": "stdout",
     "output_type": "stream",
     "text": [
      "Total polygon number: 39\n",
      "number of null and unique values in each column:\n",
      "OBJECTID: null 0, unique 39\n",
      "CPA_NUM: null 0, unique 37\n",
      "NAME_ALF: null 0, unique 37\n",
      "CPA: null 0, unique 37\n",
      "Shape_STAr: null 0, unique 39\n",
      "Shape_STLe: null 0, unique 39\n"
     ]
    },
    {
     "data": {
      "text/html": [
       "<div>\n",
       "<style scoped>\n",
       "    .dataframe tbody tr th:only-of-type {\n",
       "        vertical-align: middle;\n",
       "    }\n",
       "\n",
       "    .dataframe tbody tr th {\n",
       "        vertical-align: top;\n",
       "    }\n",
       "\n",
       "    .dataframe thead th {\n",
       "        text-align: right;\n",
       "    }\n",
       "</style>\n",
       "<table border=\"1\" class=\"dataframe\">\n",
       "  <thead>\n",
       "    <tr style=\"text-align: right;\">\n",
       "      <th></th>\n",
       "      <th>OBJECTID</th>\n",
       "      <th>CPA_NUM</th>\n",
       "      <th>NAME_ALF</th>\n",
       "      <th>CPA</th>\n",
       "      <th>Shape_STAr</th>\n",
       "      <th>Shape_STLe</th>\n",
       "      <th>geometry</th>\n",
       "    </tr>\n",
       "  </thead>\n",
       "  <tbody>\n",
       "    <tr>\n",
       "      <th>0</th>\n",
       "      <td>7</td>\n",
       "      <td>2120</td>\n",
       "      <td>Sherman Oaks - Studio City - Toluca Lake - Cah...</td>\n",
       "      <td>SHR</td>\n",
       "      <td>3.826169e+08</td>\n",
       "      <td>142873.185393</td>\n",
       "      <td>POLYGON ((-118.4429925272998 34.15515304395149...</td>\n",
       "    </tr>\n",
       "    <tr>\n",
       "      <th>1</th>\n",
       "      <td>8</td>\n",
       "      <td>3310</td>\n",
       "      <td>Brentwood - Pacific Palisades</td>\n",
       "      <td>BTW</td>\n",
       "      <td>1.060862e+09</td>\n",
       "      <td>167625.600787</td>\n",
       "      <td>POLYGON ((-118.5992042036877 34.07433663548211...</td>\n",
       "    </tr>\n",
       "    <tr>\n",
       "      <th>2</th>\n",
       "      <td>13</td>\n",
       "      <td>1010</td>\n",
       "      <td>Northeast Los Angeles</td>\n",
       "      <td>NLA</td>\n",
       "      <td>6.829526e+08</td>\n",
       "      <td>167982.025214</td>\n",
       "      <td>POLYGON ((-118.2261196221428 34.06217740937344...</td>\n",
       "    </tr>\n",
       "  </tbody>\n",
       "</table>\n",
       "</div>"
      ],
      "text/plain": [
       "   OBJECTID  CPA_NUM                                           NAME_ALF  CPA  \\\n",
       "0         7     2120  Sherman Oaks - Studio City - Toluca Lake - Cah...  SHR   \n",
       "1         8     3310                      Brentwood - Pacific Palisades  BTW   \n",
       "2        13     1010                              Northeast Los Angeles  NLA   \n",
       "\n",
       "     Shape_STAr     Shape_STLe  \\\n",
       "0  3.826169e+08  142873.185393   \n",
       "1  1.060862e+09  167625.600787   \n",
       "2  6.829526e+08  167982.025214   \n",
       "\n",
       "                                            geometry  \n",
       "0  POLYGON ((-118.4429925272998 34.15515304395149...  \n",
       "1  POLYGON ((-118.5992042036877 34.07433663548211...  \n",
       "2  POLYGON ((-118.2261196221428 34.06217740937344...  "
      ]
     },
     "execution_count": 57,
     "metadata": {},
     "output_type": "execute_result"
    }
   ],
   "source": [
    "#Comunity Plan Areas\n",
    "url = \"http://egis3.lacounty.gov/dataportal/wp-content/uploads/2015/09/\" \\\n",
    "      \"LACITY_COMMUNITY_PLAN_AREAS.zip\"\n",
    "comunity_plan_area = download_egis3(url, 'LACITY_COMMUNITY_PLAN_AREAS.zip', 'comunity_plan_area', 'LACITY_COMMUNITY_PLAN_AREAS.shp')\n",
    "dfname_list.append('comunity_plan_area')\n",
    "checkdf(comunity_plan_area)"
   ]
  },
  {
   "cell_type": "code",
   "execution_count": 58,
   "metadata": {
    "ExecuteTime": {
     "end_time": "2018-01-06T04:46:22.374225Z",
     "start_time": "2018-01-06T04:46:22.259816Z"
    }
   },
   "outputs": [
    {
     "data": {
      "text/html": [
       "<div>\n",
       "<style scoped>\n",
       "    .dataframe tbody tr th:only-of-type {\n",
       "        vertical-align: middle;\n",
       "    }\n",
       "\n",
       "    .dataframe tbody tr th {\n",
       "        vertical-align: top;\n",
       "    }\n",
       "\n",
       "    .dataframe thead th {\n",
       "        text-align: right;\n",
       "    }\n",
       "</style>\n",
       "<table border=\"1\" class=\"dataframe\">\n",
       "  <thead>\n",
       "    <tr style=\"text-align: right;\">\n",
       "      <th></th>\n",
       "      <th>CPA_NUM</th>\n",
       "      <th>NAME_ALF</th>\n",
       "      <th>geometry</th>\n",
       "    </tr>\n",
       "  </thead>\n",
       "  <tbody>\n",
       "    <tr>\n",
       "      <th>0</th>\n",
       "      <td>2120</td>\n",
       "      <td>Sherman Oaks - Studio City - Toluca Lake - Cah...</td>\n",
       "      <td>POLYGON ((-118.4429925272998 34.15515304395149...</td>\n",
       "    </tr>\n",
       "    <tr>\n",
       "      <th>1</th>\n",
       "      <td>3310</td>\n",
       "      <td>Brentwood - Pacific Palisades</td>\n",
       "      <td>POLYGON ((-118.5992042036877 34.07433663548211...</td>\n",
       "    </tr>\n",
       "    <tr>\n",
       "      <th>2</th>\n",
       "      <td>1010</td>\n",
       "      <td>Northeast Los Angeles</td>\n",
       "      <td>POLYGON ((-118.2261196221428 34.06217740937344...</td>\n",
       "    </tr>\n",
       "  </tbody>\n",
       "</table>\n",
       "</div>"
      ],
      "text/plain": [
       "   CPA_NUM                                           NAME_ALF  \\\n",
       "0     2120  Sherman Oaks - Studio City - Toluca Lake - Cah...   \n",
       "1     3310                      Brentwood - Pacific Palisades   \n",
       "2     1010                              Northeast Los Angeles   \n",
       "\n",
       "                                            geometry  \n",
       "0  POLYGON ((-118.4429925272998 34.15515304395149...  \n",
       "1  POLYGON ((-118.5992042036877 34.07433663548211...  \n",
       "2  POLYGON ((-118.2261196221428 34.06217740937344...  "
      ]
     },
     "execution_count": 58,
     "metadata": {},
     "output_type": "execute_result"
    }
   ],
   "source": [
    "droplist = ['CPA', 'Shape_STAr', 'Shape_STLe']\n",
    "cleandf(comunity_plan_area, droplist)"
   ]
  },
  {
   "cell_type": "code",
   "execution_count": 59,
   "metadata": {
    "ExecuteTime": {
     "end_time": "2018-01-06T04:46:33.171600Z",
     "start_time": "2018-01-06T04:46:32.981825Z"
    }
   },
   "outputs": [
    {
     "data": {
      "text/plain": [
       "<matplotlib.axes._subplots.AxesSubplot at 0x1115e3320>"
      ]
     },
     "execution_count": 59,
     "metadata": {},
     "output_type": "execute_result"
    },
    {
     "data": {
      "image/png": "[encoded data removed]",
      "text/plain": [
       "<matplotlib.figure.Figure at 0x111846d30>"
      ]
     },
     "metadata": {},
     "output_type": "display_data"
    }
   ],
   "source": [
    "comunity_plan_area.plot()"
   ]
  },
  {
   "cell_type": "code",
   "execution_count": 60,
   "metadata": {
    "ExecuteTime": {
     "end_time": "2018-01-06T04:46:46.158298Z",
     "start_time": "2018-01-06T04:46:45.422141Z"
    }
   },
   "outputs": [
    {
     "name": "stdout",
     "output_type": "stream",
     "text": [
      "Total polygon number: 15\n",
      "number of null and unique values in each column:\n",
      "Program: null 0, unique 14\n",
      "Division: null 0, unique 1\n",
      "Type: null 0, unique 4\n",
      "Active: null 0, unique 1\n",
      "Label: null 0, unique 15\n",
      "Shape_STAr: null 0, unique 15\n",
      "Shape_STLe: null 0, unique 15\n"
     ]
    },
    {
     "data": {
      "text/html": [
       "<div>\n",
       "<style scoped>\n",
       "    .dataframe tbody tr th:only-of-type {\n",
       "        vertical-align: middle;\n",
       "    }\n",
       "\n",
       "    .dataframe tbody tr th {\n",
       "        vertical-align: top;\n",
       "    }\n",
       "\n",
       "    .dataframe thead th {\n",
       "        text-align: right;\n",
       "    }\n",
       "</style>\n",
       "<table border=\"1\" class=\"dataframe\">\n",
       "  <thead>\n",
       "    <tr style=\"text-align: right;\">\n",
       "      <th></th>\n",
       "      <th>Program</th>\n",
       "      <th>Division</th>\n",
       "      <th>Type</th>\n",
       "      <th>Active</th>\n",
       "      <th>Label</th>\n",
       "      <th>Shape_STAr</th>\n",
       "      <th>Shape_STLe</th>\n",
       "      <th>geometry</th>\n",
       "    </tr>\n",
       "  </thead>\n",
       "  <tbody>\n",
       "    <tr>\n",
       "      <th>0</th>\n",
       "      <td>Willowbrook Community Community Business Revit...</td>\n",
       "      <td>EHD</td>\n",
       "      <td>community business revitalization program</td>\n",
       "      <td>1</td>\n",
       "      <td>Willowbrook CRPA</td>\n",
       "      <td>1.578942e+07</td>\n",
       "      <td>17490.190856</td>\n",
       "      <td>POLYGON ((-118.2379532338418 33.92932791407109...</td>\n",
       "    </tr>\n",
       "    <tr>\n",
       "      <th>1</th>\n",
       "      <td>Maravilla Community Business Revitalization Area</td>\n",
       "      <td>EHD</td>\n",
       "      <td>community business revitalization program</td>\n",
       "      <td>1</td>\n",
       "      <td>Maravilla CBRA</td>\n",
       "      <td>9.146995e+06</td>\n",
       "      <td>13347.617242</td>\n",
       "      <td>POLYGON ((-118.1695150200878 34.04420325573447...</td>\n",
       "    </tr>\n",
       "    <tr>\n",
       "      <th>2</th>\n",
       "      <td>East Rancho Dominguez Community Business Revit...</td>\n",
       "      <td>EHD</td>\n",
       "      <td>community business revitalization program</td>\n",
       "      <td>1</td>\n",
       "      <td>East Rancho Dominguez CBRA</td>\n",
       "      <td>2.375246e+06</td>\n",
       "      <td>12758.329334</td>\n",
       "      <td>POLYGON ((-118.1983083929402 33.89555436587284...</td>\n",
       "    </tr>\n",
       "  </tbody>\n",
       "</table>\n",
       "</div>"
      ],
      "text/plain": [
       "                                             Program Division  \\\n",
       "0  Willowbrook Community Community Business Revit...      EHD   \n",
       "1   Maravilla Community Business Revitalization Area      EHD   \n",
       "2  East Rancho Dominguez Community Business Revit...      EHD   \n",
       "\n",
       "                                        Type  Active  \\\n",
       "0  community business revitalization program       1   \n",
       "1  community business revitalization program       1   \n",
       "2  community business revitalization program       1   \n",
       "\n",
       "                        Label    Shape_STAr    Shape_STLe  \\\n",
       "0            Willowbrook CRPA  1.578942e+07  17490.190856   \n",
       "1              Maravilla CBRA  9.146995e+06  13347.617242   \n",
       "2  East Rancho Dominguez CBRA  2.375246e+06  12758.329334   \n",
       "\n",
       "                                            geometry  \n",
       "0  POLYGON ((-118.2379532338418 33.92932791407109...  \n",
       "1  POLYGON ((-118.1695150200878 34.04420325573447...  \n",
       "2  POLYGON ((-118.1983083929402 33.89555436587284...  "
      ]
     },
     "execution_count": 60,
     "metadata": {},
     "output_type": "execute_result"
    }
   ],
   "source": [
    "#CDC Project Areas\n",
    "url = \"http://egis3.lacounty.gov/dataportal/wp-content/uploads/\" \\\n",
    "      \"ShapefilePackages/CDC_PROJECT_AREAS.zip\"\n",
    "cdc_project = download_egis3(url, 'CDC_PROJECT_AREAS.zip', 'cdc_project', 'CDC_PROJECT_AREAS.shp')\n",
    "dfname_list.append('cdc_project')\n",
    "checkdf(cdc_project)"
   ]
  },
  {
   "cell_type": "code",
   "execution_count": 61,
   "metadata": {
    "ExecuteTime": {
     "end_time": "2018-01-06T04:46:59.528964Z",
     "start_time": "2018-01-06T04:46:59.503570Z"
    }
   },
   "outputs": [
    {
     "data": {
      "text/html": [
       "<div>\n",
       "<style scoped>\n",
       "    .dataframe tbody tr th:only-of-type {\n",
       "        vertical-align: middle;\n",
       "    }\n",
       "\n",
       "    .dataframe tbody tr th {\n",
       "        vertical-align: top;\n",
       "    }\n",
       "\n",
       "    .dataframe thead th {\n",
       "        text-align: right;\n",
       "    }\n",
       "</style>\n",
       "<table border=\"1\" class=\"dataframe\">\n",
       "  <thead>\n",
       "    <tr style=\"text-align: right;\">\n",
       "      <th></th>\n",
       "      <th>Program</th>\n",
       "      <th>geometry</th>\n",
       "    </tr>\n",
       "  </thead>\n",
       "  <tbody>\n",
       "    <tr>\n",
       "      <th>0</th>\n",
       "      <td>Willowbrook Community Community Business Revit...</td>\n",
       "      <td>POLYGON ((-118.2379532338418 33.92932791407109...</td>\n",
       "    </tr>\n",
       "    <tr>\n",
       "      <th>1</th>\n",
       "      <td>Maravilla Community Business Revitalization Area</td>\n",
       "      <td>POLYGON ((-118.1695150200878 34.04420325573447...</td>\n",
       "    </tr>\n",
       "    <tr>\n",
       "      <th>2</th>\n",
       "      <td>East Rancho Dominguez Community Business Revit...</td>\n",
       "      <td>POLYGON ((-118.1983083929402 33.89555436587284...</td>\n",
       "    </tr>\n",
       "  </tbody>\n",
       "</table>\n",
       "</div>"
      ],
      "text/plain": [
       "                                             Program  \\\n",
       "0  Willowbrook Community Community Business Revit...   \n",
       "1   Maravilla Community Business Revitalization Area   \n",
       "2  East Rancho Dominguez Community Business Revit...   \n",
       "\n",
       "                                            geometry  \n",
       "0  POLYGON ((-118.2379532338418 33.92932791407109...  \n",
       "1  POLYGON ((-118.1695150200878 34.04420325573447...  \n",
       "2  POLYGON ((-118.1983083929402 33.89555436587284...  "
      ]
     },
     "execution_count": 61,
     "metadata": {},
     "output_type": "execute_result"
    }
   ],
   "source": [
    "droplist = ['Division', 'Type', 'Active', 'Label', 'Shape_STAr', 'Shape_STLe']\n",
    "cleandf(cdc_project, droplist)"
   ]
  },
  {
   "cell_type": "code",
   "execution_count": 62,
   "metadata": {
    "ExecuteTime": {
     "end_time": "2018-01-06T04:47:11.890094Z",
     "start_time": "2018-01-06T04:47:11.719638Z"
    }
   },
   "outputs": [
    {
     "data": {
      "text/plain": [
       "<matplotlib.axes._subplots.AxesSubplot at 0x111a61a58>"
      ]
     },
     "execution_count": 62,
     "metadata": {},
     "output_type": "execute_result"
    },
    {
     "data": {
      "image/png": "[encoded data removed]",
      "text/plain": [
       "<matplotlib.figure.Figure at 0x11897e3c8>"
      ]
     },
     "metadata": {},
     "output_type": "display_data"
    }
   ],
   "source": [
    "cdc_project.plot()"
   ]
  },
  {
   "cell_type": "code",
   "execution_count": 63,
   "metadata": {
    "ExecuteTime": {
     "end_time": "2018-01-06T04:47:27.580723Z",
     "start_time": "2018-01-06T04:47:23.016443Z"
    }
   },
   "outputs": [
    {
     "name": "stdout",
     "output_type": "stream",
     "text": [
      "Total polygon number: 2344\n",
      "number of null and unique values in each column:\n",
      "GEOID10: null 0, unique 2344\n",
      "CT10: null 0, unique 2344\n",
      "LABEL: null 0, unique 2344\n",
      "X_Center: null 0, unique 2330\n",
      "Y_Center: null 0, unique 2327\n",
      "Shape_STAr: null 0, unique 2344\n",
      "Shape_STLe: null 0, unique 2344\n"
     ]
    },
    {
     "data": {
      "text/html": [
       "<div>\n",
       "<style scoped>\n",
       "    .dataframe tbody tr th:only-of-type {\n",
       "        vertical-align: middle;\n",
       "    }\n",
       "\n",
       "    .dataframe tbody tr th {\n",
       "        vertical-align: top;\n",
       "    }\n",
       "\n",
       "    .dataframe thead th {\n",
       "        text-align: right;\n",
       "    }\n",
       "</style>\n",
       "<table border=\"1\" class=\"dataframe\">\n",
       "  <thead>\n",
       "    <tr style=\"text-align: right;\">\n",
       "      <th></th>\n",
       "      <th>GEOID10</th>\n",
       "      <th>CT10</th>\n",
       "      <th>LABEL</th>\n",
       "      <th>X_Center</th>\n",
       "      <th>Y_Center</th>\n",
       "      <th>Shape_STAr</th>\n",
       "      <th>Shape_STLe</th>\n",
       "      <th>geometry</th>\n",
       "    </tr>\n",
       "  </thead>\n",
       "  <tbody>\n",
       "    <tr>\n",
       "      <th>0</th>\n",
       "      <td>06037911001</td>\n",
       "      <td>911001</td>\n",
       "      <td>9110.01</td>\n",
       "      <td>6620403.0</td>\n",
       "      <td>1998891.0</td>\n",
       "      <td>4.025736e+09</td>\n",
       "      <td>353933.808192</td>\n",
       "      <td>POLYGON ((-117.6671211145405 34.55800813746517...</td>\n",
       "    </tr>\n",
       "    <tr>\n",
       "      <th>1</th>\n",
       "      <td>06037980003</td>\n",
       "      <td>980003</td>\n",
       "      <td>9800.03</td>\n",
       "      <td>6575300.0</td>\n",
       "      <td>2112006.0</td>\n",
       "      <td>2.078690e+09</td>\n",
       "      <td>273188.863210</td>\n",
       "      <td>POLYGON ((-117.8806120015536 34.76361599875383...</td>\n",
       "    </tr>\n",
       "    <tr>\n",
       "      <th>2</th>\n",
       "      <td>06037930301</td>\n",
       "      <td>930301</td>\n",
       "      <td>9303.01</td>\n",
       "      <td>6603027.0</td>\n",
       "      <td>1932124.0</td>\n",
       "      <td>1.111802e+10</td>\n",
       "      <td>628603.531323</td>\n",
       "      <td>POLYGON ((-117.655235839948 34.39722196554438,...</td>\n",
       "    </tr>\n",
       "  </tbody>\n",
       "</table>\n",
       "</div>"
      ],
      "text/plain": [
       "       GEOID10    CT10    LABEL   X_Center   Y_Center    Shape_STAr  \\\n",
       "0  06037911001  911001  9110.01  6620403.0  1998891.0  4.025736e+09   \n",
       "1  06037980003  980003  9800.03  6575300.0  2112006.0  2.078690e+09   \n",
       "2  06037930301  930301  9303.01  6603027.0  1932124.0  1.111802e+10   \n",
       "\n",
       "      Shape_STLe                                           geometry  \n",
       "0  353933.808192  POLYGON ((-117.6671211145405 34.55800813746517...  \n",
       "1  273188.863210  POLYGON ((-117.8806120015536 34.76361599875383...  \n",
       "2  628603.531323  POLYGON ((-117.655235839948 34.39722196554438,...  "
      ]
     },
     "execution_count": 63,
     "metadata": {},
     "output_type": "execute_result"
    }
   ],
   "source": [
    "#Census Tract\n",
    "url = \"http://egis3.lacounty.gov/dataportal/wp-content/uploads/\" \\\n",
    "      \"ShapefilePackages/CENSUS_TRACTS_2010.zip\"\n",
    "census_tract = download_egis3(url, 'CENSUS_TRACTS_2010.zip', 'census_tract', 'CENSUS_TRACTS_2010.shp')\n",
    "dfname_list.append('census_tract')\n",
    "checkdf(census_tract)"
   ]
  },
  {
   "cell_type": "code",
   "execution_count": 64,
   "metadata": {
    "ExecuteTime": {
     "end_time": "2018-01-06T04:47:39.331922Z",
     "start_time": "2018-01-06T04:47:39.265275Z"
    }
   },
   "outputs": [
    {
     "data": {
      "text/html": [
       "<div>\n",
       "<style scoped>\n",
       "    .dataframe tbody tr th:only-of-type {\n",
       "        vertical-align: middle;\n",
       "    }\n",
       "\n",
       "    .dataframe tbody tr th {\n",
       "        vertical-align: top;\n",
       "    }\n",
       "\n",
       "    .dataframe thead th {\n",
       "        text-align: right;\n",
       "    }\n",
       "</style>\n",
       "<table border=\"1\" class=\"dataframe\">\n",
       "  <thead>\n",
       "    <tr style=\"text-align: right;\">\n",
       "      <th></th>\n",
       "      <th>GEOID10</th>\n",
       "      <th>CT10</th>\n",
       "      <th>geometry</th>\n",
       "    </tr>\n",
       "  </thead>\n",
       "  <tbody>\n",
       "    <tr>\n",
       "      <th>0</th>\n",
       "      <td>06037911001</td>\n",
       "      <td>911001</td>\n",
       "      <td>POLYGON ((-117.6671211145405 34.55800813746517...</td>\n",
       "    </tr>\n",
       "    <tr>\n",
       "      <th>1</th>\n",
       "      <td>06037980003</td>\n",
       "      <td>980003</td>\n",
       "      <td>POLYGON ((-117.8806120015536 34.76361599875383...</td>\n",
       "    </tr>\n",
       "    <tr>\n",
       "      <th>2</th>\n",
       "      <td>06037930301</td>\n",
       "      <td>930301</td>\n",
       "      <td>POLYGON ((-117.655235839948 34.39722196554438,...</td>\n",
       "    </tr>\n",
       "  </tbody>\n",
       "</table>\n",
       "</div>"
      ],
      "text/plain": [
       "       GEOID10    CT10                                           geometry\n",
       "0  06037911001  911001  POLYGON ((-117.6671211145405 34.55800813746517...\n",
       "1  06037980003  980003  POLYGON ((-117.8806120015536 34.76361599875383...\n",
       "2  06037930301  930301  POLYGON ((-117.655235839948 34.39722196554438,..."
      ]
     },
     "execution_count": 64,
     "metadata": {},
     "output_type": "execute_result"
    }
   ],
   "source": [
    "droplist = ['LABEL', 'X_Center', 'Y_Center', 'Shape_STAr', 'Shape_STLe']\n",
    "cleandf(census_tract, droplist)"
   ]
  },
  {
   "cell_type": "code",
   "execution_count": 65,
   "metadata": {
    "ExecuteTime": {
     "end_time": "2018-01-06T04:47:50.674159Z",
     "start_time": "2018-01-06T04:47:49.393832Z"
    }
   },
   "outputs": [
    {
     "data": {
      "text/plain": [
       "<matplotlib.axes._subplots.AxesSubplot at 0x1189aa198>"
      ]
     },
     "execution_count": 65,
     "metadata": {},
     "output_type": "execute_result"
    },
    {
     "data": {
      "image/png": "[encoded data removed]",
      "text/plain": [
       "<matplotlib.figure.Figure at 0x111a36fd0>"
      ]
     },
     "metadata": {},
     "output_type": "display_data"
    }
   ],
   "source": [
    "census_tract.plot()"
   ]
  },
  {
   "cell_type": "code",
   "execution_count": 66,
   "metadata": {
    "ExecuteTime": {
     "end_time": "2018-01-06T04:49:21.430828Z",
     "start_time": "2018-01-06T04:48:02.760879Z"
    }
   },
   "outputs": [
    {
     "name": "stdout",
     "output_type": "stream",
     "text": [
      "Total polygon number: 109279\n",
      "number of null and unique values in each column:\n",
      "CT10: null 0, unique 2344\n",
      "BG10: null 0, unique 6422\n",
      "CB10: null 0, unique 1975\n",
      "CTCB10: null 0, unique 109279\n",
      "BG10FIP10: null 0, unique 6972\n",
      "CEN_FIP13: null 0, unique 142\n",
      "LA_FIP10: null 0, unique 89\n",
      "CITY: null 0, unique 89\n",
      "COMM: null 0, unique 232\n",
      "CITYCOM: null 0, unique 257\n",
      "ZCTA10: null 0, unique 301\n",
      "PUMA10: null 0, unique 70\n",
      "HD_2012: null 0, unique 26\n",
      "HD_NAME: null 0, unique 26\n",
      "SPA_2012: null 0, unique 8\n",
      "SPA_NAME: null 0, unique 8\n",
      "SUP_DIST: null 0, unique 5\n",
      "SUP_LABEL: null 0, unique 5\n",
      "HOUSING10: null 0, unique 639\n",
      "POP_2010: null 0, unique 1270\n",
      "CT12: null 0, unique 2345\n",
      "BG12: null 0, unique 6423\n",
      "Shape_STAr: null 0, unique 109259\n",
      "Shape_STLe: null 0, unique 109279\n"
     ]
    },
    {
     "data": {
      "text/html": [
       "<div>\n",
       "<style scoped>\n",
       "    .dataframe tbody tr th:only-of-type {\n",
       "        vertical-align: middle;\n",
       "    }\n",
       "\n",
       "    .dataframe tbody tr th {\n",
       "        vertical-align: top;\n",
       "    }\n",
       "\n",
       "    .dataframe thead th {\n",
       "        text-align: right;\n",
       "    }\n",
       "</style>\n",
       "<table border=\"1\" class=\"dataframe\">\n",
       "  <thead>\n",
       "    <tr style=\"text-align: right;\">\n",
       "      <th></th>\n",
       "      <th>CT10</th>\n",
       "      <th>BG10</th>\n",
       "      <th>CB10</th>\n",
       "      <th>CTCB10</th>\n",
       "      <th>BG10FIP10</th>\n",
       "      <th>CEN_FIP13</th>\n",
       "      <th>LA_FIP10</th>\n",
       "      <th>CITY</th>\n",
       "      <th>COMM</th>\n",
       "      <th>CITYCOM</th>\n",
       "      <th>...</th>\n",
       "      <th>SPA_NAME</th>\n",
       "      <th>SUP_DIST</th>\n",
       "      <th>SUP_LABEL</th>\n",
       "      <th>HOUSING10</th>\n",
       "      <th>POP_2010</th>\n",
       "      <th>CT12</th>\n",
       "      <th>BG12</th>\n",
       "      <th>Shape_STAr</th>\n",
       "      <th>Shape_STLe</th>\n",
       "      <th>geometry</th>\n",
       "    </tr>\n",
       "  </thead>\n",
       "  <tbody>\n",
       "    <tr>\n",
       "      <th>0</th>\n",
       "      <td>650001</td>\n",
       "      <td>6500012</td>\n",
       "      <td>2004</td>\n",
       "      <td>6500012004</td>\n",
       "      <td>650001280000</td>\n",
       "      <td>80000</td>\n",
       "      <td>80000</td>\n",
       "      <td>Torrance</td>\n",
       "      <td>Torrance</td>\n",
       "      <td>City of Torrance</td>\n",
       "      <td>...</td>\n",
       "      <td>South Bay</td>\n",
       "      <td>4</td>\n",
       "      <td>District 4</td>\n",
       "      <td>13</td>\n",
       "      <td>39</td>\n",
       "      <td>650001</td>\n",
       "      <td>6500012</td>\n",
       "      <td>122799.112305</td>\n",
       "      <td>1811.062718</td>\n",
       "      <td>POLYGON ((-118.3196050007964 33.88240599913712...</td>\n",
       "    </tr>\n",
       "    <tr>\n",
       "      <th>1</th>\n",
       "      <td>650902</td>\n",
       "      <td>6509021</td>\n",
       "      <td>1045</td>\n",
       "      <td>6509021045</td>\n",
       "      <td>650902180000</td>\n",
       "      <td>80000</td>\n",
       "      <td>80000</td>\n",
       "      <td>Torrance</td>\n",
       "      <td>Torrance</td>\n",
       "      <td>City of Torrance</td>\n",
       "      <td>...</td>\n",
       "      <td>South Bay</td>\n",
       "      <td>4</td>\n",
       "      <td>District 4</td>\n",
       "      <td>0</td>\n",
       "      <td>0</td>\n",
       "      <td>650902</td>\n",
       "      <td>6509021</td>\n",
       "      <td>19197.034180</td>\n",
       "      <td>845.026552</td>\n",
       "      <td>POLYGON ((-118.3154650016074 33.82442799911141...</td>\n",
       "    </tr>\n",
       "    <tr>\n",
       "      <th>2</th>\n",
       "      <td>670407</td>\n",
       "      <td>6704071</td>\n",
       "      <td>1015</td>\n",
       "      <td>6704071015</td>\n",
       "      <td>670407159514</td>\n",
       "      <td>59514</td>\n",
       "      <td>59514</td>\n",
       "      <td>Rancho Palos Verdes</td>\n",
       "      <td>Rancho Palos Verdes</td>\n",
       "      <td>City of Rancho Palos Verdes</td>\n",
       "      <td>...</td>\n",
       "      <td>South Bay</td>\n",
       "      <td>4</td>\n",
       "      <td>District 4</td>\n",
       "      <td>1</td>\n",
       "      <td>5</td>\n",
       "      <td>670407</td>\n",
       "      <td>6704071</td>\n",
       "      <td>4159.323242</td>\n",
       "      <td>317.758051</td>\n",
       "      <td>POLYGON ((-118.3899240008091 33.77733799949572...</td>\n",
       "    </tr>\n",
       "  </tbody>\n",
       "</table>\n",
       "<p>3 rows × 25 columns</p>\n",
       "</div>"
      ],
      "text/plain": [
       "     CT10     BG10  CB10      CTCB10     BG10FIP10 CEN_FIP13 LA_FIP10  \\\n",
       "0  650001  6500012  2004  6500012004  650001280000     80000    80000   \n",
       "1  650902  6509021  1045  6509021045  650902180000     80000    80000   \n",
       "2  670407  6704071  1015  6704071015  670407159514     59514    59514   \n",
       "\n",
       "                  CITY                 COMM                      CITYCOM  \\\n",
       "0             Torrance             Torrance             City of Torrance   \n",
       "1             Torrance             Torrance             City of Torrance   \n",
       "2  Rancho Palos Verdes  Rancho Palos Verdes  City of Rancho Palos Verdes   \n",
       "\n",
       "                         ...                           SPA_NAME SUP_DIST  \\\n",
       "0                        ...                          South Bay        4   \n",
       "1                        ...                          South Bay        4   \n",
       "2                        ...                          South Bay        4   \n",
       "\n",
       "    SUP_LABEL HOUSING10  POP_2010    CT12     BG12     Shape_STAr  \\\n",
       "0  District 4        13        39  650001  6500012  122799.112305   \n",
       "1  District 4         0         0  650902  6509021   19197.034180   \n",
       "2  District 4         1         5  670407  6704071    4159.323242   \n",
       "\n",
       "    Shape_STLe                                           geometry  \n",
       "0  1811.062718  POLYGON ((-118.3196050007964 33.88240599913712...  \n",
       "1   845.026552  POLYGON ((-118.3154650016074 33.82442799911141...  \n",
       "2   317.758051  POLYGON ((-118.3899240008091 33.77733799949572...  \n",
       "\n",
       "[3 rows x 25 columns]"
      ]
     },
     "execution_count": 66,
     "metadata": {},
     "output_type": "execute_result"
    }
   ],
   "source": [
    "#Census Blocks\n",
    "url = \"http://egis3.lacounty.gov/dataportal/wp-content/uploads/\" \\\n",
    "      \"ShapefilePackages/CENSUS_BLOCKS_2010.zip\"\n",
    "census_blocks = download_egis3(url, 'CENSUS_BLOCKS_2010.zip', 'census_blocks', 'CENSUS_BLOCKS_2010.shp')\n",
    "dfname_list.append('census_blocks')\n",
    "checkdf(census_blocks)"
   ]
  },
  {
   "cell_type": "code",
   "execution_count": 67,
   "metadata": {
    "ExecuteTime": {
     "end_time": "2018-01-06T04:49:30.279054Z",
     "start_time": "2018-01-06T04:49:29.502483Z"
    }
   },
   "outputs": [
    {
     "data": {
      "text/html": [
       "<div>\n",
       "<style scoped>\n",
       "    .dataframe tbody tr th:only-of-type {\n",
       "        vertical-align: middle;\n",
       "    }\n",
       "\n",
       "    .dataframe tbody tr th {\n",
       "        vertical-align: top;\n",
       "    }\n",
       "\n",
       "    .dataframe thead th {\n",
       "        text-align: right;\n",
       "    }\n",
       "</style>\n",
       "<table border=\"1\" class=\"dataframe\">\n",
       "  <thead>\n",
       "    <tr style=\"text-align: right;\">\n",
       "      <th></th>\n",
       "      <th>CT10</th>\n",
       "      <th>BG10</th>\n",
       "      <th>CB10</th>\n",
       "      <th>CTCB10</th>\n",
       "      <th>BG10FIP10</th>\n",
       "      <th>LA_FIP10</th>\n",
       "      <th>CITY</th>\n",
       "      <th>COMM</th>\n",
       "      <th>CITYCOM</th>\n",
       "      <th>ZCTA10</th>\n",
       "      <th>PUMA10</th>\n",
       "      <th>HD_2012</th>\n",
       "      <th>HD_NAME</th>\n",
       "      <th>SUP_DIST</th>\n",
       "      <th>geometry</th>\n",
       "    </tr>\n",
       "  </thead>\n",
       "  <tbody>\n",
       "    <tr>\n",
       "      <th>0</th>\n",
       "      <td>650001</td>\n",
       "      <td>6500012</td>\n",
       "      <td>2004</td>\n",
       "      <td>6500012004</td>\n",
       "      <td>650001280000</td>\n",
       "      <td>80000</td>\n",
       "      <td>Torrance</td>\n",
       "      <td>Torrance</td>\n",
       "      <td>City of Torrance</td>\n",
       "      <td>90504</td>\n",
       "      <td>03761</td>\n",
       "      <td>79</td>\n",
       "      <td>Torrance</td>\n",
       "      <td>4</td>\n",
       "      <td>POLYGON ((-118.3196050007964 33.88240599913712...</td>\n",
       "    </tr>\n",
       "    <tr>\n",
       "      <th>1</th>\n",
       "      <td>650902</td>\n",
       "      <td>6509021</td>\n",
       "      <td>1045</td>\n",
       "      <td>6509021045</td>\n",
       "      <td>650902180000</td>\n",
       "      <td>80000</td>\n",
       "      <td>Torrance</td>\n",
       "      <td>Torrance</td>\n",
       "      <td>City of Torrance</td>\n",
       "      <td>90501</td>\n",
       "      <td>03761</td>\n",
       "      <td>79</td>\n",
       "      <td>Torrance</td>\n",
       "      <td>4</td>\n",
       "      <td>POLYGON ((-118.3154650016074 33.82442799911141...</td>\n",
       "    </tr>\n",
       "    <tr>\n",
       "      <th>2</th>\n",
       "      <td>670407</td>\n",
       "      <td>6704071</td>\n",
       "      <td>1015</td>\n",
       "      <td>6704071015</td>\n",
       "      <td>670407159514</td>\n",
       "      <td>59514</td>\n",
       "      <td>Rancho Palos Verdes</td>\n",
       "      <td>Rancho Palos Verdes</td>\n",
       "      <td>City of Rancho Palos Verdes</td>\n",
       "      <td>90275</td>\n",
       "      <td>03768</td>\n",
       "      <td>31</td>\n",
       "      <td>Harbor</td>\n",
       "      <td>4</td>\n",
       "      <td>POLYGON ((-118.3899240008091 33.77733799949572...</td>\n",
       "    </tr>\n",
       "  </tbody>\n",
       "</table>\n",
       "</div>"
      ],
      "text/plain": [
       "     CT10     BG10  CB10      CTCB10     BG10FIP10 LA_FIP10  \\\n",
       "0  650001  6500012  2004  6500012004  650001280000    80000   \n",
       "1  650902  6509021  1045  6509021045  650902180000    80000   \n",
       "2  670407  6704071  1015  6704071015  670407159514    59514   \n",
       "\n",
       "                  CITY                 COMM                      CITYCOM  \\\n",
       "0             Torrance             Torrance             City of Torrance   \n",
       "1             Torrance             Torrance             City of Torrance   \n",
       "2  Rancho Palos Verdes  Rancho Palos Verdes  City of Rancho Palos Verdes   \n",
       "\n",
       "  ZCTA10 PUMA10  HD_2012   HD_NAME SUP_DIST  \\\n",
       "0  90504  03761       79  Torrance        4   \n",
       "1  90501  03761       79  Torrance        4   \n",
       "2  90275  03768       31    Harbor        4   \n",
       "\n",
       "                                            geometry  \n",
       "0  POLYGON ((-118.3196050007964 33.88240599913712...  \n",
       "1  POLYGON ((-118.3154650016074 33.82442799911141...  \n",
       "2  POLYGON ((-118.3899240008091 33.77733799949572...  "
      ]
     },
     "execution_count": 67,
     "metadata": {},
     "output_type": "execute_result"
    }
   ],
   "source": [
    "droplist = ['POP_2010', 'CT12', 'BG12', 'Shape_STAr', 'Shape_STLe',\n",
    "           'HOUSING10', 'SUP_LABEL', 'SPA_NAME', 'CEN_FIP13', 'SPA_2012']\n",
    "cleandf(census_blocks, droplist)"
   ]
  },
  {
   "cell_type": "code",
   "execution_count": 68,
   "metadata": {
    "ExecuteTime": {
     "end_time": "2018-01-06T04:50:12.223979Z",
     "start_time": "2018-01-06T04:49:31.543672Z"
    }
   },
   "outputs": [
    {
     "data": {
      "text/plain": [
       "<matplotlib.axes._subplots.AxesSubplot at 0x11963a358>"
      ]
     },
     "execution_count": 68,
     "metadata": {},
     "output_type": "execute_result"
    },
    {
     "data": {
      "image/png": "[encoded data removed]",
      "text/plain": [
       "<matplotlib.figure.Figure at 0x1113cf7f0>"
      ]
     },
     "metadata": {},
     "output_type": "display_data"
    }
   ],
   "source": [
    "census_blocks.plot()"
   ]
  },
  {
   "cell_type": "code",
   "execution_count": 69,
   "metadata": {
    "ExecuteTime": {
     "end_time": "2018-01-06T04:50:12.234796Z",
     "start_time": "2018-01-06T04:50:12.227257Z"
    }
   },
   "outputs": [
    {
     "data": {
      "text/plain": [
       "['health_districts',\n",
       " 'law_enforcement',\n",
       " 'school_districts',\n",
       " 'state_senate',\n",
       " 'congressional_districts',\n",
       " 'zip_code',\n",
       " 'puma',\n",
       " 'county_communities',\n",
       " 'community_stat_area',\n",
       " 'town_councils',\n",
       " 'fire_division',\n",
       " 'fire_battalion',\n",
       " 'supervisorial_district',\n",
       " 'LAcity_council_dist',\n",
       " 'legislative_lower',\n",
       " 'election_precinct',\n",
       " 'comunity_plan_area',\n",
       " 'cdc_project',\n",
       " 'census_tract',\n",
       " 'census_blocks']"
      ]
     },
     "execution_count": 69,
     "metadata": {},
     "output_type": "execute_result"
    }
   ],
   "source": [
    "dfname_list"
   ]
  },
  {
   "cell_type": "markdown",
   "metadata": {},
   "source": [
    "## Datasets used this week:"
   ]
  },
  {
   "cell_type": "markdown",
   "metadata": {},
   "source": [
    "- [Law Enforcement Reporting Districts](https://egis3.lacounty.gov/dataportal/2010/10/05/law-enforcement-reporting-districts/)\n",
    "- [LAcounty_COMMUNITIES](https://egis3.lacounty.gov/dataportal/2010/10/21/citycommunity-boundaries/)\n",
    "- [Registrar Recorder Precincts](https://egis3.lacounty.gov/dataportal/2012/12/20/2012-precincts-as-of-march-9th/)\n",
    "- [Census Block (2010)](http://egis3.lacounty.gov/dataportal/2016/01/26/census_blocks/)\n",
    "- [School District Boundaries (2011)](http://egis3.lacounty.gov/dataportal/2012/01/20/school-district-boundaries-2011/)"
   ]
  },
  {
   "cell_type": "code",
   "execution_count": 7,
   "metadata": {
    "ExecuteTime": {
     "end_time": "2018-01-06T01:50:32.559131Z",
     "start_time": "2018-01-06T01:50:32.555216Z"
    }
   },
   "outputs": [],
   "source": [
    "dfname_list = []"
   ]
  },
  {
   "cell_type": "markdown",
   "metadata": {},
   "source": [
    "#### 1. Law Enforcement Reporting Districts"
   ]
  },
  {
   "cell_type": "code",
   "execution_count": 8,
   "metadata": {
    "ExecuteTime": {
     "end_time": "2018-01-06T01:50:40.289911Z",
     "start_time": "2018-01-06T01:50:32.562462Z"
    }
   },
   "outputs": [
    {
     "name": "stdout",
     "output_type": "stream",
     "text": [
      "Total polygon number: 5745\n",
      "number of null and unique values in each column:\n",
      "RD: null 0, unique 3667\n",
      "Name: null 0, unique 519\n",
      "Layer: null 0, unique 3\n"
     ]
    },
    {
     "data": {
      "text/html": [
       "<div>\n",
       "<style scoped>\n",
       "    .dataframe tbody tr th:only-of-type {\n",
       "        vertical-align: middle;\n",
       "    }\n",
       "\n",
       "    .dataframe tbody tr th {\n",
       "        vertical-align: top;\n",
       "    }\n",
       "\n",
       "    .dataframe thead th {\n",
       "        text-align: right;\n",
       "    }\n",
       "</style>\n",
       "<table border=\"1\" class=\"dataframe\">\n",
       "  <thead>\n",
       "    <tr style=\"text-align: right;\">\n",
       "      <th></th>\n",
       "      <th>RD</th>\n",
       "      <th>Name</th>\n",
       "      <th>Layer</th>\n",
       "      <th>geometry</th>\n",
       "    </tr>\n",
       "  </thead>\n",
       "  <tbody>\n",
       "    <tr>\n",
       "      <th>0</th>\n",
       "      <td>0230</td>\n",
       "      <td>Belvedere</td>\n",
       "      <td>Parks Bureau</td>\n",
       "      <td>POLYGON ((-118.1604325432619 34.03712079823092...</td>\n",
       "    </tr>\n",
       "    <tr>\n",
       "      <th>1</th>\n",
       "      <td>0231</td>\n",
       "      <td>Atlantic Avenue</td>\n",
       "      <td>Parks Bureau</td>\n",
       "      <td>POLYGON ((-118.1550797745909 34.0257529106941,...</td>\n",
       "    </tr>\n",
       "    <tr>\n",
       "      <th>2</th>\n",
       "      <td>0232</td>\n",
       "      <td>City Terrace</td>\n",
       "      <td>Parks Bureau</td>\n",
       "      <td>POLYGON ((-118.1784888821586 34.04781649689102...</td>\n",
       "    </tr>\n",
       "  </tbody>\n",
       "</table>\n",
       "</div>"
      ],
      "text/plain": [
       "     RD             Name         Layer  \\\n",
       "0  0230        Belvedere  Parks Bureau   \n",
       "1  0231  Atlantic Avenue  Parks Bureau   \n",
       "2  0232     City Terrace  Parks Bureau   \n",
       "\n",
       "                                            geometry  \n",
       "0  POLYGON ((-118.1604325432619 34.03712079823092...  \n",
       "1  POLYGON ((-118.1550797745909 34.0257529106941,...  \n",
       "2  POLYGON ((-118.1784888821586 34.04781649689102...  "
      ]
     },
     "execution_count": 8,
     "metadata": {},
     "output_type": "execute_result"
    }
   ],
   "source": [
    "#Law Enforcement Reporting Districts\n",
    "url = \"http://egis3.lacounty.gov/dataportal/wp-content/uploads/\" \\\n",
    "      \"ShapefilePackages/LACOUNTY_LAW_ENFORCEMENT_RDs.zip\"\n",
    "law_enforcement = download_egis3(url, 'LACOUNTY_LAW_ENFORCEMENT_RDs.zip', 'law_enforcement', 'LACOUNTY_LAW_ENFORCEMENT_RDs.shp')\n",
    "dfname_list.append('law_enforcement')\n",
    "checkdf(law_enforcement)"
   ]
  },
  {
   "cell_type": "code",
   "execution_count": 9,
   "metadata": {
    "ExecuteTime": {
     "end_time": "2018-01-06T01:50:40.306725Z",
     "start_time": "2018-01-06T01:50:40.292536Z"
    }
   },
   "outputs": [
    {
     "data": {
      "text/html": [
       "<div>\n",
       "<style scoped>\n",
       "    .dataframe tbody tr th:only-of-type {\n",
       "        vertical-align: middle;\n",
       "    }\n",
       "\n",
       "    .dataframe tbody tr th {\n",
       "        vertical-align: top;\n",
       "    }\n",
       "\n",
       "    .dataframe thead th {\n",
       "        text-align: right;\n",
       "    }\n",
       "</style>\n",
       "<table border=\"1\" class=\"dataframe\">\n",
       "  <thead>\n",
       "    <tr style=\"text-align: right;\">\n",
       "      <th></th>\n",
       "      <th>RD</th>\n",
       "      <th>Name</th>\n",
       "      <th>geometry</th>\n",
       "    </tr>\n",
       "  </thead>\n",
       "  <tbody>\n",
       "    <tr>\n",
       "      <th>0</th>\n",
       "      <td>0230</td>\n",
       "      <td>Belvedere</td>\n",
       "      <td>POLYGON ((-118.1604325432619 34.03712079823092...</td>\n",
       "    </tr>\n",
       "    <tr>\n",
       "      <th>1</th>\n",
       "      <td>0231</td>\n",
       "      <td>Atlantic Avenue</td>\n",
       "      <td>POLYGON ((-118.1550797745909 34.0257529106941,...</td>\n",
       "    </tr>\n",
       "    <tr>\n",
       "      <th>2</th>\n",
       "      <td>0232</td>\n",
       "      <td>City Terrace</td>\n",
       "      <td>POLYGON ((-118.1784888821586 34.04781649689102...</td>\n",
       "    </tr>\n",
       "  </tbody>\n",
       "</table>\n",
       "</div>"
      ],
      "text/plain": [
       "     RD             Name                                           geometry\n",
       "0  0230        Belvedere  POLYGON ((-118.1604325432619 34.03712079823092...\n",
       "1  0231  Atlantic Avenue  POLYGON ((-118.1550797745909 34.0257529106941,...\n",
       "2  0232     City Terrace  POLYGON ((-118.1784888821586 34.04781649689102..."
      ]
     },
     "execution_count": 9,
     "metadata": {},
     "output_type": "execute_result"
    }
   ],
   "source": [
    "droplist = ['Layer']\n",
    "cleandf(law_enforcement, droplist)"
   ]
  },
  {
   "cell_type": "code",
   "execution_count": 10,
   "metadata": {
    "ExecuteTime": {
     "end_time": "2018-01-06T01:50:40.312577Z",
     "start_time": "2018-01-06T01:50:40.309363Z"
    }
   },
   "outputs": [],
   "source": [
    "law_enforcement.columns = ['repo_dist_num', 'repo_dist_name',\n",
    "                           'geometry']"
   ]
  },
  {
   "cell_type": "markdown",
   "metadata": {},
   "source": [
    "#### 2. LAcounty_COMMUNITIES"
   ]
  },
  {
   "cell_type": "code",
   "execution_count": 11,
   "metadata": {
    "ExecuteTime": {
     "end_time": "2018-01-06T01:50:47.965530Z",
     "start_time": "2018-01-06T01:50:40.315157Z"
    }
   },
   "outputs": [
    {
     "name": "stdout",
     "output_type": "stream",
     "text": [
      "Total polygon number: 353\n",
      "number of null and unique values in each column:\n",
      "COMMTYPE: null 0, unique 3\n",
      "NAME: null 0, unique 206\n",
      "COLOR: null 0, unique 7\n",
      "PO_NAME: null 0, unique 177\n",
      "STATNAME: null 0, unique 193\n",
      "X_CENTER: null 0, unique 353\n",
      "Y_CENTER: null 0, unique 353\n",
      "ST_NAME: null 0, unique 88\n",
      "LABEL_CITY: null 0, unique 89\n",
      "LABEL_COMM: null 0, unique 143\n",
      "AREA_SQMI: null 0, unique 322\n",
      "Shape_area: null 0, unique 353\n",
      "Shape_len: null 0, unique 353\n"
     ]
    },
    {
     "data": {
      "text/html": [
       "<div>\n",
       "<style scoped>\n",
       "    .dataframe tbody tr th:only-of-type {\n",
       "        vertical-align: middle;\n",
       "    }\n",
       "\n",
       "    .dataframe tbody tr th {\n",
       "        vertical-align: top;\n",
       "    }\n",
       "\n",
       "    .dataframe thead th {\n",
       "        text-align: right;\n",
       "    }\n",
       "</style>\n",
       "<table border=\"1\" class=\"dataframe\">\n",
       "  <thead>\n",
       "    <tr style=\"text-align: right;\">\n",
       "      <th></th>\n",
       "      <th>COMMTYPE</th>\n",
       "      <th>NAME</th>\n",
       "      <th>COLOR</th>\n",
       "      <th>PO_NAME</th>\n",
       "      <th>STATNAME</th>\n",
       "      <th>X_CENTER</th>\n",
       "      <th>Y_CENTER</th>\n",
       "      <th>ST_NAME</th>\n",
       "      <th>LABEL_CITY</th>\n",
       "      <th>LABEL_COMM</th>\n",
       "      <th>AREA_SQMI</th>\n",
       "      <th>Shape_area</th>\n",
       "      <th>Shape_len</th>\n",
       "      <th>geometry</th>\n",
       "    </tr>\n",
       "  </thead>\n",
       "  <tbody>\n",
       "    <tr>\n",
       "      <th>0</th>\n",
       "      <td>Unincorporated</td>\n",
       "      <td>Edwards</td>\n",
       "      <td>Yellow</td>\n",
       "      <td>Edwards</td>\n",
       "      <td>East Antelope Valley</td>\n",
       "      <td>6590507</td>\n",
       "      <td>2111007</td>\n",
       "      <td>Lancaster</td>\n",
       "      <td>Unincorporated</td>\n",
       "      <td>Edwards</td>\n",
       "      <td>93.961</td>\n",
       "      <td>2.619470e+09</td>\n",
       "      <td>337914.985138</td>\n",
       "      <td>POLYGON ((-118.1407088589749 34.81827748625132...</td>\n",
       "    </tr>\n",
       "    <tr>\n",
       "      <th>1</th>\n",
       "      <td>Unincorporated</td>\n",
       "      <td>Gorman</td>\n",
       "      <td>Yellow</td>\n",
       "      <td>West Antelope Valley</td>\n",
       "      <td>West Antelope Valley</td>\n",
       "      <td>6357449</td>\n",
       "      <td>2089258</td>\n",
       "      <td>Santa Clarita Valley</td>\n",
       "      <td>Unincorporated</td>\n",
       "      <td>Gorman</td>\n",
       "      <td>173.752</td>\n",
       "      <td>4.843936e+09</td>\n",
       "      <td>442757.717076</td>\n",
       "      <td>POLYGON ((-118.4662754936974 34.81837563424517...</td>\n",
       "    </tr>\n",
       "    <tr>\n",
       "      <th>2</th>\n",
       "      <td>Unincorporated</td>\n",
       "      <td>Del Sur</td>\n",
       "      <td>Yellow</td>\n",
       "      <td>Lancaster</td>\n",
       "      <td>Quartz Hill</td>\n",
       "      <td>6469031</td>\n",
       "      <td>2091460</td>\n",
       "      <td>Lancaster</td>\n",
       "      <td>Unincorporated</td>\n",
       "      <td>Del Sur</td>\n",
       "      <td>135.398</td>\n",
       "      <td>3.774671e+09</td>\n",
       "      <td>423904.059503</td>\n",
       "      <td>POLYGON ((-118.4662754936974 34.81837563424517...</td>\n",
       "    </tr>\n",
       "  </tbody>\n",
       "</table>\n",
       "</div>"
      ],
      "text/plain": [
       "         COMMTYPE     NAME   COLOR               PO_NAME  \\\n",
       "0  Unincorporated  Edwards  Yellow               Edwards   \n",
       "1  Unincorporated   Gorman  Yellow  West Antelope Valley   \n",
       "2  Unincorporated  Del Sur  Yellow             Lancaster   \n",
       "\n",
       "               STATNAME  X_CENTER  Y_CENTER               ST_NAME  \\\n",
       "0  East Antelope Valley   6590507   2111007             Lancaster   \n",
       "1  West Antelope Valley   6357449   2089258  Santa Clarita Valley   \n",
       "2           Quartz Hill   6469031   2091460             Lancaster   \n",
       "\n",
       "       LABEL_CITY LABEL_COMM  AREA_SQMI    Shape_area      Shape_len  \\\n",
       "0  Unincorporated    Edwards     93.961  2.619470e+09  337914.985138   \n",
       "1  Unincorporated     Gorman    173.752  4.843936e+09  442757.717076   \n",
       "2  Unincorporated    Del Sur    135.398  3.774671e+09  423904.059503   \n",
       "\n",
       "                                            geometry  \n",
       "0  POLYGON ((-118.1407088589749 34.81827748625132...  \n",
       "1  POLYGON ((-118.4662754936974 34.81837563424517...  \n",
       "2  POLYGON ((-118.4662754936974 34.81837563424517...  "
      ]
     },
     "execution_count": 11,
     "metadata": {},
     "output_type": "execute_result"
    }
   ],
   "source": [
    "#LAcounty_COMMUNITIES\n",
    "url = \"http://egis3.lacounty.gov/dataportal/wp-content/uploads/2010/10/\" \\\n",
    "      \"Communities1.zip\"\n",
    "county_communities = download_egis3(url, 'Communities1.zip', 'county_communities', 'Communities.shp')\n",
    "dfname_list.append('county_communities')\n",
    "checkdf(county_communities)"
   ]
  },
  {
   "cell_type": "code",
   "execution_count": 12,
   "metadata": {
    "ExecuteTime": {
     "end_time": "2018-01-06T01:50:48.005851Z",
     "start_time": "2018-01-06T01:50:47.968197Z"
    }
   },
   "outputs": [
    {
     "data": {
      "text/html": [
       "<div>\n",
       "<style scoped>\n",
       "    .dataframe tbody tr th:only-of-type {\n",
       "        vertical-align: middle;\n",
       "    }\n",
       "\n",
       "    .dataframe tbody tr th {\n",
       "        vertical-align: top;\n",
       "    }\n",
       "\n",
       "    .dataframe thead th {\n",
       "        text-align: right;\n",
       "    }\n",
       "</style>\n",
       "<table border=\"1\" class=\"dataframe\">\n",
       "  <thead>\n",
       "    <tr style=\"text-align: right;\">\n",
       "      <th></th>\n",
       "      <th>NAME</th>\n",
       "      <th>geometry</th>\n",
       "    </tr>\n",
       "  </thead>\n",
       "  <tbody>\n",
       "    <tr>\n",
       "      <th>0</th>\n",
       "      <td>Edwards</td>\n",
       "      <td>POLYGON ((-118.1407088589749 34.81827748625132...</td>\n",
       "    </tr>\n",
       "    <tr>\n",
       "      <th>1</th>\n",
       "      <td>Gorman</td>\n",
       "      <td>POLYGON ((-118.4662754936974 34.81837563424517...</td>\n",
       "    </tr>\n",
       "    <tr>\n",
       "      <th>2</th>\n",
       "      <td>Del Sur</td>\n",
       "      <td>POLYGON ((-118.4662754936974 34.81837563424517...</td>\n",
       "    </tr>\n",
       "  </tbody>\n",
       "</table>\n",
       "</div>"
      ],
      "text/plain": [
       "      NAME                                           geometry\n",
       "0  Edwards  POLYGON ((-118.1407088589749 34.81827748625132...\n",
       "1   Gorman  POLYGON ((-118.4662754936974 34.81837563424517...\n",
       "2  Del Sur  POLYGON ((-118.4662754936974 34.81837563424517..."
      ]
     },
     "execution_count": 12,
     "metadata": {},
     "output_type": "execute_result"
    }
   ],
   "source": [
    "droplist = ['COMMTYPE', 'COLOR', 'PO_NAME', 'STATNAME', 'X_CENTER',\n",
    "       'Y_CENTER', 'ST_NAME', 'LABEL_CITY', 'LABEL_COMM', 'AREA_SQMI']\n",
    "cleandf(county_communities, droplist)"
   ]
  },
  {
   "cell_type": "code",
   "execution_count": 13,
   "metadata": {
    "ExecuteTime": {
     "end_time": "2018-01-06T01:50:48.013431Z",
     "start_time": "2018-01-06T01:50:48.008929Z"
    }
   },
   "outputs": [],
   "source": [
    "county_communities.columns = ['coun_comm_name', 'geometry']"
   ]
  },
  {
   "cell_type": "code",
   "execution_count": null,
   "metadata": {
    "ExecuteTime": {
     "start_time": "2018-01-06T01:23:12.002Z"
    }
   },
   "outputs": [],
   "source": [
    "print ('overlay_shp {}'.format(law_enforcement.shape))\n",
    "print ('county_communities {}'.format(county_communities.shape))"
   ]
  },
  {
   "cell_type": "code",
   "execution_count": 14,
   "metadata": {
    "ExecuteTime": {
     "end_time": "2018-01-06T01:51:54.786872Z",
     "start_time": "2018-01-06T01:50:48.016180Z"
    }
   },
   "outputs": [],
   "source": [
    "overlay_shp = spatial_overlays(law_enforcement, county_communities)"
   ]
  },
  {
   "cell_type": "code",
   "execution_count": 15,
   "metadata": {
    "ExecuteTime": {
     "end_time": "2018-01-06T01:51:54.799223Z",
     "start_time": "2018-01-06T01:51:54.792552Z"
    }
   },
   "outputs": [
    {
     "name": "stdout",
     "output_type": "stream",
     "text": [
      "After overlay: (9599, 4)\n"
     ]
    }
   ],
   "source": [
    "print ('After overlay: {}'.format(overlay_shp.shape))\n",
    "#overlay_shp.plot()"
   ]
  },
  {
   "cell_type": "markdown",
   "metadata": {},
   "source": [
    "####  3. Registrar Recorder Precincts"
   ]
  },
  {
   "cell_type": "code",
   "execution_count": 16,
   "metadata": {
    "ExecuteTime": {
     "end_time": "2018-01-06T01:52:48.941547Z",
     "start_time": "2018-01-06T01:51:54.803999Z"
    },
    "scrolled": false
   },
   "outputs": [
    {
     "name": "stdout",
     "output_type": "stream",
     "text": [
      "Total polygon number: 33601\n",
      "number of null and unique values in each column:\n",
      "PRECINCT: null 0, unique 33601\n",
      "CITY_EST: null 0, unique 7992\n",
      "SUBCODE: null 0, unique 26\n",
      "MAP1: null 0, unique 1\n",
      "DIST_RES: null 0, unique 1\n",
      "DIST_CONG: null 0, unique 18\n",
      "DIST_STSEN: null 0, unique 15\n",
      "DIST_STASS: null 0, unique 24\n",
      "DIST_SUP: null 0, unique 5\n",
      "DIST_MCRT: null 0, unique 1\n",
      "DIST_BEQ: null 0, unique 2\n",
      "DST_CITY: null 0, unique 89\n",
      "DIV_CITY: null 0, unique 95\n",
      "DST_RES2: null 0, unique 1\n",
      "DIV_RES2: null 0, unique 1\n",
      "DST_JRC: null 0, unique 15\n",
      "DIV_JRC: null 0, unique 8\n",
      "DST_USD: null 0, unique 50\n",
      "DIV_USD: null 0, unique 8\n",
      "DST_HSD: null 0, unique 8\n",
      "DIV_HSD: null 0, unique 6\n",
      "DST_ESD: null 0, unique 30\n",
      "DIV_ESD: null 0, unique 6\n",
      "DST_HOSP: null 0, unique 3\n",
      "DIV_HOSP: null 0, unique 1\n",
      "DST_PARK: null 0, unique 5\n",
      "DIV_PARK: null 0, unique 3\n",
      "DST_WA: null 0, unique 2\n",
      "DIV_WA: null 0, unique 1\n",
      "DST_MWD: null 0, unique 9\n",
      "DIV_MWD: null 0, unique 8\n",
      "DST_WR: null 0, unique 2\n",
      "DIV_WR: null 0, unique 6\n",
      "DST_WAG: null 0, unique 3\n",
      "DIV_WAG: null 0, unique 8\n",
      "DST_CW: null 0, unique 14\n",
      "DIV_CW: null 0, unique 6\n",
      "DST_IRR: null 0, unique 7\n",
      "DIV_IRR: null 0, unique 6\n",
      "DST_CS: null 0, unique 1\n",
      "DIV_CS: null 0, unique 1\n",
      "DST_LIB: null 0, unique 5\n",
      "DIV_LIB: null 0, unique 1\n",
      "DST_RC: null 0, unique 4\n",
      "DIV_RC: null 0, unique 1\n",
      "DST_CAW: null 0, unique 2\n",
      "DIV_CAW: null 0, unique 6\n",
      "DST_CEM: null 0, unique 1\n",
      "DIV_CEM: null 0, unique 1\n",
      "DST_MOS: null 0, unique 6\n",
      "DIV_MOS: null 0, unique 1\n",
      "DST_SAN: null 0, unique 2\n",
      "DIV_SAN: null 0, unique 1\n",
      "DST_TRN: null 0, unique 1\n",
      "DIV_TRN: null 0, unique 1\n",
      "DST_RES3: null 0, unique 1\n",
      "DIV_RES3: null 0, unique 1\n",
      "DST_FIR: null 0, unique 2\n",
      "DIV_FIR: null 0, unique 1\n",
      "DST_FLD: null 0, unique 2\n",
      "DIV_FLD: null 0, unique 1\n",
      "DST_GARB: null 0, unique 8\n",
      "DIV_GARB: null 0, unique 1\n",
      "DIST_OLDC: null 0, unique 18\n",
      "DIST_OLDS: null 0, unique 14\n",
      "DIST_OLDA: null 0, unique 26\n",
      "DST_CL: null 0, unique 1\n",
      "DIV_CL: null 0, unique 1\n",
      "DST_SM: null 0, unique 1\n",
      "DIV_SM: null 0, unique 1\n",
      "DST_RD: null 0, unique 1\n",
      "DIV_RD: null 0, unique 1\n",
      "DST_MISC1: null 0, unique 7\n",
      "DIV_MISC1: null 0, unique 1\n",
      "DST_MISC2: null 0, unique 1\n",
      "DIV_MISC2: null 0, unique 1\n",
      "DST_MISC3: null 0, unique 4\n",
      "DIV_MISC3: null 0, unique 1\n",
      "DST_MISC4: null 0, unique 1\n",
      "DIV_MISC4: null 0, unique 1\n",
      "DST_MISC5: null 0, unique 5\n",
      "DIV_MISC5: null 0, unique 1\n",
      "DST_MISC6: null 0, unique 3\n",
      "DIV_MISC6: null 0, unique 1\n",
      "DST_ANX1: null 0, unique 1\n",
      "DIV_ANX1: null 0, unique 1\n",
      "DST_ANX2: null 0, unique 1\n",
      "DIV_ANX2: null 0, unique 1\n",
      "DST_ANX3: null 0, unique 1\n",
      "DIV_ANX3: null 0, unique 1\n",
      "DST_ANX4: null 0, unique 1\n",
      "DIV_ANX4: null 0, unique 1\n",
      "DST_ANX5: null 0, unique 1\n",
      "DIV_ANX5: null 0, unique 1\n",
      "CT_YEAR1: null 0, unique 1\n",
      "CT_YEAR2: null 0, unique 1\n",
      "CTRACT1: null 0, unique 2343\n",
      "CTRACT2: null 0, unique 2054\n",
      "COMM_CODE: null 0, unique 170\n",
      "COMM_NAME: null 0, unique 170\n",
      "AREA_CODE: null 0, unique 36\n",
      "AREA_NAME: null 0, unique 36\n",
      "PRC_NAME: null 0, unique 170\n",
      "CITY: null 0, unique 170\n",
      "ESTAB: null 0, unique 3100\n",
      "Shape_STAr: null 0, unique 33601\n",
      "Shape_STLe: null 0, unique 33601\n"
     ]
    },
    {
     "data": {
      "text/html": [
       "<div>\n",
       "<style scoped>\n",
       "    .dataframe tbody tr th:only-of-type {\n",
       "        vertical-align: middle;\n",
       "    }\n",
       "\n",
       "    .dataframe tbody tr th {\n",
       "        vertical-align: top;\n",
       "    }\n",
       "\n",
       "    .dataframe thead th {\n",
       "        text-align: right;\n",
       "    }\n",
       "</style>\n",
       "<table border=\"1\" class=\"dataframe\">\n",
       "  <thead>\n",
       "    <tr style=\"text-align: right;\">\n",
       "      <th></th>\n",
       "      <th>PRECINCT</th>\n",
       "      <th>CITY_EST</th>\n",
       "      <th>SUBCODE</th>\n",
       "      <th>MAP1</th>\n",
       "      <th>DIST_RES</th>\n",
       "      <th>DIST_CONG</th>\n",
       "      <th>DIST_STSEN</th>\n",
       "      <th>DIST_STASS</th>\n",
       "      <th>DIST_SUP</th>\n",
       "      <th>DIST_MCRT</th>\n",
       "      <th>...</th>\n",
       "      <th>COMM_CODE</th>\n",
       "      <th>COMM_NAME</th>\n",
       "      <th>AREA_CODE</th>\n",
       "      <th>AREA_NAME</th>\n",
       "      <th>PRC_NAME</th>\n",
       "      <th>CITY</th>\n",
       "      <th>ESTAB</th>\n",
       "      <th>Shape_STAr</th>\n",
       "      <th>Shape_STLe</th>\n",
       "      <th>geometry</th>\n",
       "    </tr>\n",
       "  </thead>\n",
       "  <tbody>\n",
       "    <tr>\n",
       "      <th>0</th>\n",
       "      <td>9001742B</td>\n",
       "      <td>9001742</td>\n",
       "      <td>B</td>\n",
       "      <td>0.0</td>\n",
       "      <td></td>\n",
       "      <td>34.0</td>\n",
       "      <td>24.0</td>\n",
       "      <td>53.0</td>\n",
       "      <td>1.0</td>\n",
       "      <td></td>\n",
       "      <td>...</td>\n",
       "      <td>900.0</td>\n",
       "      <td>LOS ANGELES</td>\n",
       "      <td>809.0</td>\n",
       "      <td>CENTRAL AREA</td>\n",
       "      <td>LOS ANGELES</td>\n",
       "      <td>900</td>\n",
       "      <td>1742</td>\n",
       "      <td>453984.737305</td>\n",
       "      <td>2713.125981</td>\n",
       "      <td>POLYGON ((-118.2776159595675 34.05073225085379...</td>\n",
       "    </tr>\n",
       "    <tr>\n",
       "      <th>1</th>\n",
       "      <td>9001742C</td>\n",
       "      <td>9001742</td>\n",
       "      <td>C</td>\n",
       "      <td>0.0</td>\n",
       "      <td></td>\n",
       "      <td>34.0</td>\n",
       "      <td>24.0</td>\n",
       "      <td>53.0</td>\n",
       "      <td>1.0</td>\n",
       "      <td></td>\n",
       "      <td>...</td>\n",
       "      <td>900.0</td>\n",
       "      <td>LOS ANGELES</td>\n",
       "      <td>809.0</td>\n",
       "      <td>CENTRAL AREA</td>\n",
       "      <td>LOS ANGELES</td>\n",
       "      <td>900</td>\n",
       "      <td>1742</td>\n",
       "      <td>766784.173828</td>\n",
       "      <td>3820.588904</td>\n",
       "      <td>POLYGON ((-118.2828304354189 34.04931735342003...</td>\n",
       "    </tr>\n",
       "    <tr>\n",
       "      <th>2</th>\n",
       "      <td>9001742E</td>\n",
       "      <td>9001742</td>\n",
       "      <td>E</td>\n",
       "      <td>0.0</td>\n",
       "      <td></td>\n",
       "      <td>34.0</td>\n",
       "      <td>24.0</td>\n",
       "      <td>53.0</td>\n",
       "      <td>1.0</td>\n",
       "      <td></td>\n",
       "      <td>...</td>\n",
       "      <td>900.0</td>\n",
       "      <td>LOS ANGELES</td>\n",
       "      <td>809.0</td>\n",
       "      <td>CENTRAL AREA</td>\n",
       "      <td>LOS ANGELES</td>\n",
       "      <td>900</td>\n",
       "      <td>1742</td>\n",
       "      <td>566946.030273</td>\n",
       "      <td>3362.362112</td>\n",
       "      <td>POLYGON ((-118.2835241269783 34.05237068362484...</td>\n",
       "    </tr>\n",
       "  </tbody>\n",
       "</table>\n",
       "<p>3 rows × 108 columns</p>\n",
       "</div>"
      ],
      "text/plain": [
       "   PRECINCT CITY_EST SUBCODE  MAP1 DIST_RES  DIST_CONG  DIST_STSEN  \\\n",
       "0  9001742B  9001742       B   0.0                34.0        24.0   \n",
       "1  9001742C  9001742       C   0.0                34.0        24.0   \n",
       "2  9001742E  9001742       E   0.0                34.0        24.0   \n",
       "\n",
       "   DIST_STASS  DIST_SUP DIST_MCRT  \\\n",
       "0        53.0       1.0             \n",
       "1        53.0       1.0             \n",
       "2        53.0       1.0             \n",
       "\n",
       "                         ...                          COMM_CODE    COMM_NAME  \\\n",
       "0                        ...                              900.0  LOS ANGELES   \n",
       "1                        ...                              900.0  LOS ANGELES   \n",
       "2                        ...                              900.0  LOS ANGELES   \n",
       "\n",
       "   AREA_CODE     AREA_NAME     PRC_NAME  CITY  ESTAB     Shape_STAr  \\\n",
       "0      809.0  CENTRAL AREA  LOS ANGELES   900   1742  453984.737305   \n",
       "1      809.0  CENTRAL AREA  LOS ANGELES   900   1742  766784.173828   \n",
       "2      809.0  CENTRAL AREA  LOS ANGELES   900   1742  566946.030273   \n",
       "\n",
       "    Shape_STLe                                           geometry  \n",
       "0  2713.125981  POLYGON ((-118.2776159595675 34.05073225085379...  \n",
       "1  3820.588904  POLYGON ((-118.2828304354189 34.04931735342003...  \n",
       "2  3362.362112  POLYGON ((-118.2835241269783 34.05237068362484...  \n",
       "\n",
       "[3 rows x 108 columns]"
      ]
     },
     "execution_count": 16,
     "metadata": {},
     "output_type": "execute_result"
    }
   ],
   "source": [
    "#Registrar Recorder Precincts\n",
    "url = \"http://egis3.lacounty.gov/dataportal/wp-content/uploads/\" \\\n",
    "      \"ShapefilePackages/RRCC_PRECINCTS.zip\"\n",
    "election_precinct = download_egis3(url, 'RRCC_PRECINCTS.zip', 'election_precinct', 'RRCC_PRECINCTS.shp')\n",
    "dfname_list.append('election_precinct')\n",
    "checkdf(election_precinct)"
   ]
  },
  {
   "cell_type": "code",
   "execution_count": 17,
   "metadata": {
    "ExecuteTime": {
     "end_time": "2018-01-06T01:52:52.755232Z",
     "start_time": "2018-01-06T01:52:48.945439Z"
    }
   },
   "outputs": [
    {
     "data": {
      "text/html": [
       "<div>\n",
       "<style scoped>\n",
       "    .dataframe tbody tr th:only-of-type {\n",
       "        vertical-align: middle;\n",
       "    }\n",
       "\n",
       "    .dataframe tbody tr th {\n",
       "        vertical-align: top;\n",
       "    }\n",
       "\n",
       "    .dataframe thead th {\n",
       "        text-align: right;\n",
       "    }\n",
       "</style>\n",
       "<table border=\"1\" class=\"dataframe\">\n",
       "  <thead>\n",
       "    <tr style=\"text-align: right;\">\n",
       "      <th></th>\n",
       "      <th>PRECINCT</th>\n",
       "      <th>DIST_CONG</th>\n",
       "      <th>DIST_STSEN</th>\n",
       "      <th>DIST_STASS</th>\n",
       "      <th>COMM_CODE</th>\n",
       "      <th>COMM_NAME</th>\n",
       "      <th>AREA_CODE</th>\n",
       "      <th>AREA_NAME</th>\n",
       "      <th>PRC_NAME</th>\n",
       "      <th>geometry</th>\n",
       "    </tr>\n",
       "  </thead>\n",
       "  <tbody>\n",
       "    <tr>\n",
       "      <th>0</th>\n",
       "      <td>9001742B</td>\n",
       "      <td>34.0</td>\n",
       "      <td>24.0</td>\n",
       "      <td>53.0</td>\n",
       "      <td>900.0</td>\n",
       "      <td>LOS ANGELES</td>\n",
       "      <td>809.0</td>\n",
       "      <td>CENTRAL AREA</td>\n",
       "      <td>LOS ANGELES</td>\n",
       "      <td>POLYGON ((-118.2776159595675 34.05073225085379...</td>\n",
       "    </tr>\n",
       "    <tr>\n",
       "      <th>1</th>\n",
       "      <td>9001742C</td>\n",
       "      <td>34.0</td>\n",
       "      <td>24.0</td>\n",
       "      <td>53.0</td>\n",
       "      <td>900.0</td>\n",
       "      <td>LOS ANGELES</td>\n",
       "      <td>809.0</td>\n",
       "      <td>CENTRAL AREA</td>\n",
       "      <td>LOS ANGELES</td>\n",
       "      <td>POLYGON ((-118.2828304354189 34.04931735342003...</td>\n",
       "    </tr>\n",
       "    <tr>\n",
       "      <th>2</th>\n",
       "      <td>9001742E</td>\n",
       "      <td>34.0</td>\n",
       "      <td>24.0</td>\n",
       "      <td>53.0</td>\n",
       "      <td>900.0</td>\n",
       "      <td>LOS ANGELES</td>\n",
       "      <td>809.0</td>\n",
       "      <td>CENTRAL AREA</td>\n",
       "      <td>LOS ANGELES</td>\n",
       "      <td>POLYGON ((-118.2835241269783 34.05237068362484...</td>\n",
       "    </tr>\n",
       "  </tbody>\n",
       "</table>\n",
       "</div>"
      ],
      "text/plain": [
       "   PRECINCT  DIST_CONG  DIST_STSEN  DIST_STASS  COMM_CODE    COMM_NAME  \\\n",
       "0  9001742B       34.0        24.0        53.0      900.0  LOS ANGELES   \n",
       "1  9001742C       34.0        24.0        53.0      900.0  LOS ANGELES   \n",
       "2  9001742E       34.0        24.0        53.0      900.0  LOS ANGELES   \n",
       "\n",
       "   AREA_CODE     AREA_NAME     PRC_NAME  \\\n",
       "0      809.0  CENTRAL AREA  LOS ANGELES   \n",
       "1      809.0  CENTRAL AREA  LOS ANGELES   \n",
       "2      809.0  CENTRAL AREA  LOS ANGELES   \n",
       "\n",
       "                                            geometry  \n",
       "0  POLYGON ((-118.2776159595675 34.05073225085379...  \n",
       "1  POLYGON ((-118.2828304354189 34.04931735342003...  \n",
       "2  POLYGON ((-118.2835241269783 34.05237068362484...  "
      ]
     },
     "execution_count": 17,
     "metadata": {},
     "output_type": "execute_result"
    }
   ],
   "source": [
    "droplist = [ 'CITY_EST', 'SUBCODE', 'MAP1',\n",
    " 'DIST_RES', 'DIST_MCRT', 'DIST_BEQ',\n",
    " 'DST_CITY', 'DIV_CITY', 'DST_RES2', 'DIV_RES2',\n",
    " 'DST_JRC', 'DIV_JRC', 'DST_USD', 'DIV_USD',\n",
    " 'DST_HSD', 'DIV_HSD', 'DST_ESD', 'DIV_ESD',\n",
    " 'DST_HOSP', 'DIV_HOSP', 'DST_PARK', 'DIV_PARK',\n",
    " 'DST_WA', 'DIV_WA', 'DST_MWD', 'DIV_MWD',\n",
    " 'DST_WR', 'DIV_WR', 'DST_WAG', 'DIV_WAG',\n",
    " 'DST_CW', 'DIV_CW', 'DST_IRR', 'DIV_IRR',\n",
    " 'DST_CS', 'DIV_CS', 'DST_LIB', 'DIV_LIB',\n",
    " 'DST_RC', 'DIV_RC', 'DST_CAW', 'DIV_CAW',\n",
    " 'DST_CEM', 'DIV_CEM', 'DST_MOS', 'DIV_MOS',\n",
    " 'DST_SAN', 'DIV_SAN', 'DST_TRN', 'DIV_TRN',\n",
    " 'DST_RES3', 'DIV_RES3', 'DST_FIR', 'DIV_FIR',\n",
    " 'DST_FLD', 'DIV_FLD', 'DST_GARB', 'DIV_GARB',\n",
    " 'DIST_OLDC', 'DIST_OLDS', 'DIST_OLDA', 'DST_CL', 'DIV_CL',\n",
    " 'DST_SM', 'DIV_SM', 'DST_RD', 'DIV_RD',\n",
    " 'DST_MISC1', 'DIV_MISC1', 'DST_MISC2', 'DIV_MISC2',\n",
    " 'DST_MISC3', 'DIV_MISC3', 'DST_MISC4', 'DIV_MISC4',\n",
    " 'DST_MISC5', 'DIV_MISC5', 'DST_MISC6', 'DIV_MISC6',\n",
    " 'DST_ANX1', 'DIV_ANX1', 'DST_ANX2', 'DIV_ANX2',\n",
    " 'DST_ANX3', 'DIV_ANX3', 'DST_ANX4', 'DIV_ANX4',\n",
    " 'DST_ANX5', 'DIV_ANX5', 'CT_YEAR1', 'CT_YEAR2', 'CTRACT1',\n",
    " 'CTRACT2', 'ESTAB', 'Shape_STAr', 'Shape_STLe',\n",
    "           'DIST_SUP', 'CITY']\n",
    "cleandf(election_precinct, droplist)"
   ]
  },
  {
   "cell_type": "code",
   "execution_count": 18,
   "metadata": {
    "ExecuteTime": {
     "end_time": "2018-01-06T01:52:52.774498Z",
     "start_time": "2018-01-06T01:52:52.767140Z"
    }
   },
   "outputs": [],
   "source": [
    "election_precinct.columns = ['precinct_num', 'congress_dist', 'senate_dist', \n",
    "                    'assembly_dist', 'community_num',\n",
    "                    'community_name', 'area_num', 'area_name', \n",
    "                    'precinct_name', 'geometry']"
   ]
  },
  {
   "cell_type": "code",
   "execution_count": 19,
   "metadata": {
    "ExecuteTime": {
     "end_time": "2018-01-06T01:52:52.789876Z",
     "start_time": "2018-01-06T01:52:52.779718Z"
    }
   },
   "outputs": [
    {
     "name": "stdout",
     "output_type": "stream",
     "text": [
      "overlay_shp (9599, 4)\n",
      "election_precinct (33601, 10)\n"
     ]
    }
   ],
   "source": [
    "print ('overlay_shp {}'.format(overlay_shp.shape))\n",
    "print ('election_precinct {}'.format(election_precinct.shape))"
   ]
  },
  {
   "cell_type": "code",
   "execution_count": 20,
   "metadata": {
    "ExecuteTime": {
     "end_time": "2018-01-06T01:57:41.532675Z",
     "start_time": "2018-01-06T01:52:52.796195Z"
    }
   },
   "outputs": [],
   "source": [
    "overlay_shp = spatial_overlays(overlay_shp, election_precinct)"
   ]
  },
  {
   "cell_type": "code",
   "execution_count": 21,
   "metadata": {
    "ExecuteTime": {
     "end_time": "2018-01-06T01:57:41.539766Z",
     "start_time": "2018-01-06T01:57:41.534562Z"
    }
   },
   "outputs": [
    {
     "name": "stdout",
     "output_type": "stream",
     "text": [
      "After overlay: (98406, 13)\n"
     ]
    }
   ],
   "source": [
    "print ('After overlay: {}'.format(overlay_shp.shape))\n",
    "#overlay_shp.plot()"
   ]
  },
  {
   "cell_type": "markdown",
   "metadata": {},
   "source": [
    "#### 4. Census Blocks"
   ]
  },
  {
   "cell_type": "code",
   "execution_count": 22,
   "metadata": {
    "ExecuteTime": {
     "end_time": "2018-01-06T01:59:09.582788Z",
     "start_time": "2018-01-06T01:57:41.542346Z"
    }
   },
   "outputs": [
    {
     "name": "stdout",
     "output_type": "stream",
     "text": [
      "Total polygon number: 109279\n",
      "number of null and unique values in each column:\n",
      "CT10: null 0, unique 2344\n",
      "BG10: null 0, unique 6422\n",
      "CB10: null 0, unique 1975\n",
      "CTCB10: null 0, unique 109279\n",
      "BG10FIP10: null 0, unique 6972\n",
      "CEN_FIP13: null 0, unique 142\n",
      "LA_FIP10: null 0, unique 89\n",
      "CITY: null 0, unique 89\n",
      "COMM: null 0, unique 232\n",
      "CITYCOM: null 0, unique 257\n",
      "ZCTA10: null 0, unique 301\n",
      "PUMA10: null 0, unique 70\n",
      "HD_2012: null 0, unique 26\n",
      "HD_NAME: null 0, unique 26\n",
      "SPA_2012: null 0, unique 8\n",
      "SPA_NAME: null 0, unique 8\n",
      "SUP_DIST: null 0, unique 5\n",
      "SUP_LABEL: null 0, unique 5\n",
      "HOUSING10: null 0, unique 639\n",
      "POP_2010: null 0, unique 1270\n",
      "CT12: null 0, unique 2345\n",
      "BG12: null 0, unique 6423\n",
      "Shape_STAr: null 0, unique 109259\n",
      "Shape_STLe: null 0, unique 109279\n"
     ]
    },
    {
     "data": {
      "text/html": [
       "<div>\n",
       "<style scoped>\n",
       "    .dataframe tbody tr th:only-of-type {\n",
       "        vertical-align: middle;\n",
       "    }\n",
       "\n",
       "    .dataframe tbody tr th {\n",
       "        vertical-align: top;\n",
       "    }\n",
       "\n",
       "    .dataframe thead th {\n",
       "        text-align: right;\n",
       "    }\n",
       "</style>\n",
       "<table border=\"1\" class=\"dataframe\">\n",
       "  <thead>\n",
       "    <tr style=\"text-align: right;\">\n",
       "      <th></th>\n",
       "      <th>CT10</th>\n",
       "      <th>BG10</th>\n",
       "      <th>CB10</th>\n",
       "      <th>CTCB10</th>\n",
       "      <th>BG10FIP10</th>\n",
       "      <th>CEN_FIP13</th>\n",
       "      <th>LA_FIP10</th>\n",
       "      <th>CITY</th>\n",
       "      <th>COMM</th>\n",
       "      <th>CITYCOM</th>\n",
       "      <th>...</th>\n",
       "      <th>SPA_NAME</th>\n",
       "      <th>SUP_DIST</th>\n",
       "      <th>SUP_LABEL</th>\n",
       "      <th>HOUSING10</th>\n",
       "      <th>POP_2010</th>\n",
       "      <th>CT12</th>\n",
       "      <th>BG12</th>\n",
       "      <th>Shape_STAr</th>\n",
       "      <th>Shape_STLe</th>\n",
       "      <th>geometry</th>\n",
       "    </tr>\n",
       "  </thead>\n",
       "  <tbody>\n",
       "    <tr>\n",
       "      <th>0</th>\n",
       "      <td>650001</td>\n",
       "      <td>6500012</td>\n",
       "      <td>2004</td>\n",
       "      <td>6500012004</td>\n",
       "      <td>650001280000</td>\n",
       "      <td>80000</td>\n",
       "      <td>80000</td>\n",
       "      <td>Torrance</td>\n",
       "      <td>Torrance</td>\n",
       "      <td>City of Torrance</td>\n",
       "      <td>...</td>\n",
       "      <td>South Bay</td>\n",
       "      <td>4</td>\n",
       "      <td>District 4</td>\n",
       "      <td>13</td>\n",
       "      <td>39</td>\n",
       "      <td>650001</td>\n",
       "      <td>6500012</td>\n",
       "      <td>122799.112305</td>\n",
       "      <td>1811.062718</td>\n",
       "      <td>POLYGON ((-118.3196050007964 33.88240599913712...</td>\n",
       "    </tr>\n",
       "    <tr>\n",
       "      <th>1</th>\n",
       "      <td>650902</td>\n",
       "      <td>6509021</td>\n",
       "      <td>1045</td>\n",
       "      <td>6509021045</td>\n",
       "      <td>650902180000</td>\n",
       "      <td>80000</td>\n",
       "      <td>80000</td>\n",
       "      <td>Torrance</td>\n",
       "      <td>Torrance</td>\n",
       "      <td>City of Torrance</td>\n",
       "      <td>...</td>\n",
       "      <td>South Bay</td>\n",
       "      <td>4</td>\n",
       "      <td>District 4</td>\n",
       "      <td>0</td>\n",
       "      <td>0</td>\n",
       "      <td>650902</td>\n",
       "      <td>6509021</td>\n",
       "      <td>19197.034180</td>\n",
       "      <td>845.026552</td>\n",
       "      <td>POLYGON ((-118.3154650016074 33.82442799911141...</td>\n",
       "    </tr>\n",
       "    <tr>\n",
       "      <th>2</th>\n",
       "      <td>670407</td>\n",
       "      <td>6704071</td>\n",
       "      <td>1015</td>\n",
       "      <td>6704071015</td>\n",
       "      <td>670407159514</td>\n",
       "      <td>59514</td>\n",
       "      <td>59514</td>\n",
       "      <td>Rancho Palos Verdes</td>\n",
       "      <td>Rancho Palos Verdes</td>\n",
       "      <td>City of Rancho Palos Verdes</td>\n",
       "      <td>...</td>\n",
       "      <td>South Bay</td>\n",
       "      <td>4</td>\n",
       "      <td>District 4</td>\n",
       "      <td>1</td>\n",
       "      <td>5</td>\n",
       "      <td>670407</td>\n",
       "      <td>6704071</td>\n",
       "      <td>4159.323242</td>\n",
       "      <td>317.758051</td>\n",
       "      <td>POLYGON ((-118.3899240008091 33.77733799949572...</td>\n",
       "    </tr>\n",
       "  </tbody>\n",
       "</table>\n",
       "<p>3 rows × 25 columns</p>\n",
       "</div>"
      ],
      "text/plain": [
       "     CT10     BG10  CB10      CTCB10     BG10FIP10 CEN_FIP13 LA_FIP10  \\\n",
       "0  650001  6500012  2004  6500012004  650001280000     80000    80000   \n",
       "1  650902  6509021  1045  6509021045  650902180000     80000    80000   \n",
       "2  670407  6704071  1015  6704071015  670407159514     59514    59514   \n",
       "\n",
       "                  CITY                 COMM                      CITYCOM  \\\n",
       "0             Torrance             Torrance             City of Torrance   \n",
       "1             Torrance             Torrance             City of Torrance   \n",
       "2  Rancho Palos Verdes  Rancho Palos Verdes  City of Rancho Palos Verdes   \n",
       "\n",
       "                         ...                           SPA_NAME SUP_DIST  \\\n",
       "0                        ...                          South Bay        4   \n",
       "1                        ...                          South Bay        4   \n",
       "2                        ...                          South Bay        4   \n",
       "\n",
       "    SUP_LABEL HOUSING10  POP_2010    CT12     BG12     Shape_STAr  \\\n",
       "0  District 4        13        39  650001  6500012  122799.112305   \n",
       "1  District 4         0         0  650902  6509021   19197.034180   \n",
       "2  District 4         1         5  670407  6704071    4159.323242   \n",
       "\n",
       "    Shape_STLe                                           geometry  \n",
       "0  1811.062718  POLYGON ((-118.3196050007964 33.88240599913712...  \n",
       "1   845.026552  POLYGON ((-118.3154650016074 33.82442799911141...  \n",
       "2   317.758051  POLYGON ((-118.3899240008091 33.77733799949572...  \n",
       "\n",
       "[3 rows x 25 columns]"
      ]
     },
     "execution_count": 22,
     "metadata": {},
     "output_type": "execute_result"
    }
   ],
   "source": [
    "#Census Blocks\n",
    "url = \"http://egis3.lacounty.gov/dataportal/wp-content/uploads/\" \\\n",
    "      \"ShapefilePackages/CENSUS_BLOCKS_2010.zip\"\n",
    "census_blocks = download_egis3(url, 'CENSUS_BLOCKS_2010.zip', 'census_blocks', 'CENSUS_BLOCKS_2010.shp')\n",
    "dfname_list.append('census_blocks')\n",
    "checkdf(census_blocks)"
   ]
  },
  {
   "cell_type": "code",
   "execution_count": 23,
   "metadata": {
    "ExecuteTime": {
     "end_time": "2018-01-06T01:59:10.540210Z",
     "start_time": "2018-01-06T01:59:09.585109Z"
    }
   },
   "outputs": [
    {
     "data": {
      "text/html": [
       "<div>\n",
       "<style scoped>\n",
       "    .dataframe tbody tr th:only-of-type {\n",
       "        vertical-align: middle;\n",
       "    }\n",
       "\n",
       "    .dataframe tbody tr th {\n",
       "        vertical-align: top;\n",
       "    }\n",
       "\n",
       "    .dataframe thead th {\n",
       "        text-align: right;\n",
       "    }\n",
       "</style>\n",
       "<table border=\"1\" class=\"dataframe\">\n",
       "  <thead>\n",
       "    <tr style=\"text-align: right;\">\n",
       "      <th></th>\n",
       "      <th>CT10</th>\n",
       "      <th>BG10</th>\n",
       "      <th>CB10</th>\n",
       "      <th>LA_FIP10</th>\n",
       "      <th>CITY</th>\n",
       "      <th>ZCTA10</th>\n",
       "      <th>PUMA10</th>\n",
       "      <th>HD_2012</th>\n",
       "      <th>HD_NAME</th>\n",
       "      <th>SUP_DIST</th>\n",
       "      <th>geometry</th>\n",
       "    </tr>\n",
       "  </thead>\n",
       "  <tbody>\n",
       "    <tr>\n",
       "      <th>0</th>\n",
       "      <td>650001</td>\n",
       "      <td>6500012</td>\n",
       "      <td>2004</td>\n",
       "      <td>80000</td>\n",
       "      <td>Torrance</td>\n",
       "      <td>90504</td>\n",
       "      <td>03761</td>\n",
       "      <td>79</td>\n",
       "      <td>Torrance</td>\n",
       "      <td>4</td>\n",
       "      <td>POLYGON ((-118.3196050007964 33.88240599913712...</td>\n",
       "    </tr>\n",
       "    <tr>\n",
       "      <th>1</th>\n",
       "      <td>650902</td>\n",
       "      <td>6509021</td>\n",
       "      <td>1045</td>\n",
       "      <td>80000</td>\n",
       "      <td>Torrance</td>\n",
       "      <td>90501</td>\n",
       "      <td>03761</td>\n",
       "      <td>79</td>\n",
       "      <td>Torrance</td>\n",
       "      <td>4</td>\n",
       "      <td>POLYGON ((-118.3154650016074 33.82442799911141...</td>\n",
       "    </tr>\n",
       "    <tr>\n",
       "      <th>2</th>\n",
       "      <td>670407</td>\n",
       "      <td>6704071</td>\n",
       "      <td>1015</td>\n",
       "      <td>59514</td>\n",
       "      <td>Rancho Palos Verdes</td>\n",
       "      <td>90275</td>\n",
       "      <td>03768</td>\n",
       "      <td>31</td>\n",
       "      <td>Harbor</td>\n",
       "      <td>4</td>\n",
       "      <td>POLYGON ((-118.3899240008091 33.77733799949572...</td>\n",
       "    </tr>\n",
       "  </tbody>\n",
       "</table>\n",
       "</div>"
      ],
      "text/plain": [
       "     CT10     BG10  CB10 LA_FIP10                 CITY ZCTA10 PUMA10  HD_2012  \\\n",
       "0  650001  6500012  2004    80000             Torrance  90504  03761       79   \n",
       "1  650902  6509021  1045    80000             Torrance  90501  03761       79   \n",
       "2  670407  6704071  1015    59514  Rancho Palos Verdes  90275  03768       31   \n",
       "\n",
       "    HD_NAME SUP_DIST                                           geometry  \n",
       "0  Torrance        4  POLYGON ((-118.3196050007964 33.88240599913712...  \n",
       "1  Torrance        4  POLYGON ((-118.3154650016074 33.82442799911141...  \n",
       "2    Harbor        4  POLYGON ((-118.3899240008091 33.77733799949572...  "
      ]
     },
     "execution_count": 23,
     "metadata": {},
     "output_type": "execute_result"
    }
   ],
   "source": [
    "droplist = ['POP_2010', 'CT12', 'BG12', 'Shape_STAr', 'Shape_STLe',\n",
    "           'HOUSING10', 'SUP_LABEL', 'SPA_NAME', 'CEN_FIP13', \n",
    "            'SPA_2012', 'CTCB10', 'BG10FIP10', 'COMM', 'CITYCOM']\n",
    "cleandf(census_blocks, droplist)"
   ]
  },
  {
   "cell_type": "code",
   "execution_count": 24,
   "metadata": {
    "ExecuteTime": {
     "end_time": "2018-01-06T01:59:10.546808Z",
     "start_time": "2018-01-06T01:59:10.542635Z"
    }
   },
   "outputs": [],
   "source": [
    "census_blocks.columns = ['census_tract', 'block_group', \n",
    "                         'census_block', 'FIP', 'city',\n",
    "                         'zip_code', 'PUMA', \n",
    "                         'health_dist_num', 'health_districts_name',\n",
    "                         'sup_dist', 'geometry']"
   ]
  },
  {
   "cell_type": "code",
   "execution_count": 25,
   "metadata": {
    "ExecuteTime": {
     "end_time": "2018-01-06T01:59:10.554444Z",
     "start_time": "2018-01-06T01:59:10.549495Z"
    }
   },
   "outputs": [
    {
     "name": "stdout",
     "output_type": "stream",
     "text": [
      "overlay_shp (98406, 13)\n",
      "census_blocks (109279, 11)\n"
     ]
    }
   ],
   "source": [
    "print ('overlay_shp {}'.format(overlay_shp.shape))\n",
    "print ('census_blocks {}'.format(census_blocks.shape))"
   ]
  },
  {
   "cell_type": "code",
   "execution_count": 26,
   "metadata": {
    "ExecuteTime": {
     "end_time": "2018-01-06T02:11:17.971384Z",
     "start_time": "2018-01-06T01:59:10.556968Z"
    }
   },
   "outputs": [],
   "source": [
    "overlay_shp = spatial_overlays(overlay_shp, census_blocks)"
   ]
  },
  {
   "cell_type": "code",
   "execution_count": 27,
   "metadata": {
    "ExecuteTime": {
     "end_time": "2018-01-06T02:11:17.978277Z",
     "start_time": "2018-01-06T02:11:17.973676Z"
    }
   },
   "outputs": [
    {
     "name": "stdout",
     "output_type": "stream",
     "text": [
      "After overlay: (462901, 23)\n"
     ]
    }
   ],
   "source": [
    "print ('After overlay: {}'.format(overlay_shp.shape))\n",
    "#overlay_shp.plot()"
   ]
  },
  {
   "cell_type": "code",
   "execution_count": 28,
   "metadata": {
    "ExecuteTime": {
     "end_time": "2018-01-06T02:18:09.287560Z",
     "start_time": "2018-01-06T02:11:24.902604Z"
    }
   },
   "outputs": [],
   "source": [
    "overlay_shp.to_file(\"result.shp\")"
   ]
  },
  {
   "cell_type": "markdown",
   "metadata": {},
   "source": [
    "#### 5. School District Boundaries (2011) (gives error)"
   ]
  },
  {
   "cell_type": "code",
   "execution_count": 29,
   "metadata": {
    "ExecuteTime": {
     "end_time": "2018-01-06T02:18:50.350785Z",
     "start_time": "2018-01-06T02:18:48.378014Z"
    }
   },
   "outputs": [
    {
     "name": "stdout",
     "output_type": "stream",
     "text": [
      "Total polygon number: 79\n",
      "number of null and unique values in each column:\n",
      "DISTRICT: null 0, unique 78\n",
      "UNIFIED: null 0, unique 49\n",
      "HIGH: null 0, unique 9\n",
      "ELEMENTARY: null 0, unique 31\n",
      "PH: null 0, unique 78\n",
      "ADDR: null 0, unique 78\n",
      "PH2: null 0, unique 20\n",
      "PH3: null 0, unique 6\n",
      "STU: null 0, unique 78\n",
      "HI_ADDR: null 0, unique 9\n",
      "HI_PH: null 0, unique 9\n",
      "HI_STU: null 0, unique 9\n",
      "LABEL: null 0, unique 78\n"
     ]
    },
    {
     "data": {
      "text/html": [
       "<div>\n",
       "<style scoped>\n",
       "    .dataframe tbody tr th:only-of-type {\n",
       "        vertical-align: middle;\n",
       "    }\n",
       "\n",
       "    .dataframe tbody tr th {\n",
       "        vertical-align: top;\n",
       "    }\n",
       "\n",
       "    .dataframe thead th {\n",
       "        text-align: right;\n",
       "    }\n",
       "</style>\n",
       "<table border=\"1\" class=\"dataframe\">\n",
       "  <thead>\n",
       "    <tr style=\"text-align: right;\">\n",
       "      <th></th>\n",
       "      <th>DISTRICT</th>\n",
       "      <th>UNIFIED</th>\n",
       "      <th>HIGH</th>\n",
       "      <th>ELEMENTARY</th>\n",
       "      <th>PH</th>\n",
       "      <th>ADDR</th>\n",
       "      <th>PH2</th>\n",
       "      <th>PH3</th>\n",
       "      <th>STU</th>\n",
       "      <th>HI_ADDR</th>\n",
       "      <th>HI_PH</th>\n",
       "      <th>HI_STU</th>\n",
       "      <th>LABEL</th>\n",
       "      <th>geometry</th>\n",
       "    </tr>\n",
       "  </thead>\n",
       "  <tbody>\n",
       "    <tr>\n",
       "      <th>0</th>\n",
       "      <td>HERMOSA BEACH CITY ELEMENTARY</td>\n",
       "      <td></td>\n",
       "      <td></td>\n",
       "      <td>HERMOSA BEACH CITY ELEMENTARY</td>\n",
       "      <td>310 937 5877</td>\n",
       "      <td>1645 VALLEY DR HERMOSA BCH 90254</td>\n",
       "      <td></td>\n",
       "      <td></td>\n",
       "      <td>950</td>\n",
       "      <td></td>\n",
       "      <td></td>\n",
       "      <td></td>\n",
       "      <td>HERMOSA BEACH CITY ELEM</td>\n",
       "      <td>POLYGON ((-118.4048577253546 33.87782346394338...</td>\n",
       "    </tr>\n",
       "    <tr>\n",
       "      <th>1</th>\n",
       "      <td>CENTINELA VALLEY UNION HIGH/HAWTHORNE ELEMENTARY</td>\n",
       "      <td></td>\n",
       "      <td>CENTINELA VALLEY UNION HIGH</td>\n",
       "      <td>HAWTHORNE ELEMENTARY</td>\n",
       "      <td>310 676 2276</td>\n",
       "      <td>14120 S HAWTHORNE BL HAWTHORNE 90250</td>\n",
       "      <td></td>\n",
       "      <td></td>\n",
       "      <td>8145</td>\n",
       "      <td>14901 S INGLEWOOD AV LAWNDALE 90260</td>\n",
       "      <td>310 263 3200</td>\n",
       "      <td>6220</td>\n",
       "      <td>CENTINELA VALLEY UNION HIGH\\nHAWTHORNE ELEMENTARY</td>\n",
       "      <td>POLYGON ((-118.3607054443706 33.93093449396304...</td>\n",
       "    </tr>\n",
       "    <tr>\n",
       "      <th>2</th>\n",
       "      <td>CENTINELA VALLEY UNION HIGH/LAWNDALE ELEMENTARY</td>\n",
       "      <td></td>\n",
       "      <td>CENTINELA VALLEY UNION HIGH</td>\n",
       "      <td>LAWNDALE ELEMENTARY</td>\n",
       "      <td>310 973 1300</td>\n",
       "      <td>4161 W 147TH ST LAWNDALE 90260</td>\n",
       "      <td></td>\n",
       "      <td></td>\n",
       "      <td>5510</td>\n",
       "      <td>14901 S INGLEWOOD AV LAWNDALE 90260</td>\n",
       "      <td>310 263 3200</td>\n",
       "      <td>6220</td>\n",
       "      <td>CENTINELA VALLEY UNION HIGH\\nLAWNDALE ELEMENTARY</td>\n",
       "      <td>POLYGON ((-118.367294562588 33.90558198783078,...</td>\n",
       "    </tr>\n",
       "  </tbody>\n",
       "</table>\n",
       "</div>"
      ],
      "text/plain": [
       "                                           DISTRICT UNIFIED  \\\n",
       "0                     HERMOSA BEACH CITY ELEMENTARY           \n",
       "1  CENTINELA VALLEY UNION HIGH/HAWTHORNE ELEMENTARY           \n",
       "2   CENTINELA VALLEY UNION HIGH/LAWNDALE ELEMENTARY           \n",
       "\n",
       "                          HIGH                     ELEMENTARY            PH  \\\n",
       "0                               HERMOSA BEACH CITY ELEMENTARY  310 937 5877   \n",
       "1  CENTINELA VALLEY UNION HIGH           HAWTHORNE ELEMENTARY  310 676 2276   \n",
       "2  CENTINELA VALLEY UNION HIGH            LAWNDALE ELEMENTARY  310 973 1300   \n",
       "\n",
       "                                   ADDR PH2 PH3   STU  \\\n",
       "0      1645 VALLEY DR HERMOSA BCH 90254           950   \n",
       "1  14120 S HAWTHORNE BL HAWTHORNE 90250          8145   \n",
       "2        4161 W 147TH ST LAWNDALE 90260          5510   \n",
       "\n",
       "                               HI_ADDR         HI_PH HI_STU  \\\n",
       "0                                                             \n",
       "1  14901 S INGLEWOOD AV LAWNDALE 90260  310 263 3200   6220   \n",
       "2  14901 S INGLEWOOD AV LAWNDALE 90260  310 263 3200   6220   \n",
       "\n",
       "                                               LABEL  \\\n",
       "0                            HERMOSA BEACH CITY ELEM   \n",
       "1  CENTINELA VALLEY UNION HIGH\\nHAWTHORNE ELEMENTARY   \n",
       "2   CENTINELA VALLEY UNION HIGH\\nLAWNDALE ELEMENTARY   \n",
       "\n",
       "                                            geometry  \n",
       "0  POLYGON ((-118.4048577253546 33.87782346394338...  \n",
       "1  POLYGON ((-118.3607054443706 33.93093449396304...  \n",
       "2  POLYGON ((-118.367294562588 33.90558198783078,...  "
      ]
     },
     "execution_count": 29,
     "metadata": {},
     "output_type": "execute_result"
    }
   ],
   "source": [
    "#School District Boundaries (2011)\n",
    "url = \"http://egis3.lacounty.gov/dataportal/wp-content/uploads/2012/01/\" \\\n",
    "      \"rrcc_school_districts1.zip\"\n",
    "school_districts = download_egis3(url, 'rrcc_school_districts1.zip', 'school_districts', 'rrcc_school_districts.shp')\n",
    "dfname_list.append('school_districts')\n",
    "checkdf(school_districts)"
   ]
  },
  {
   "cell_type": "code",
   "execution_count": 30,
   "metadata": {
    "ExecuteTime": {
     "end_time": "2018-01-06T02:18:52.273646Z",
     "start_time": "2018-01-06T02:18:52.244217Z"
    }
   },
   "outputs": [
    {
     "data": {
      "text/html": [
       "<div>\n",
       "<style scoped>\n",
       "    .dataframe tbody tr th:only-of-type {\n",
       "        vertical-align: middle;\n",
       "    }\n",
       "\n",
       "    .dataframe tbody tr th {\n",
       "        vertical-align: top;\n",
       "    }\n",
       "\n",
       "    .dataframe thead th {\n",
       "        text-align: right;\n",
       "    }\n",
       "</style>\n",
       "<table border=\"1\" class=\"dataframe\">\n",
       "  <thead>\n",
       "    <tr style=\"text-align: right;\">\n",
       "      <th></th>\n",
       "      <th>DISTRICT</th>\n",
       "      <th>geometry</th>\n",
       "    </tr>\n",
       "  </thead>\n",
       "  <tbody>\n",
       "    <tr>\n",
       "      <th>0</th>\n",
       "      <td>HERMOSA BEACH CITY ELEMENTARY</td>\n",
       "      <td>POLYGON ((-118.4048577253546 33.87782346394338...</td>\n",
       "    </tr>\n",
       "    <tr>\n",
       "      <th>1</th>\n",
       "      <td>CENTINELA VALLEY UNION HIGH/HAWTHORNE ELEMENTARY</td>\n",
       "      <td>POLYGON ((-118.3607054443706 33.93093449396304...</td>\n",
       "    </tr>\n",
       "    <tr>\n",
       "      <th>2</th>\n",
       "      <td>CENTINELA VALLEY UNION HIGH/LAWNDALE ELEMENTARY</td>\n",
       "      <td>POLYGON ((-118.367294562588 33.90558198783078,...</td>\n",
       "    </tr>\n",
       "  </tbody>\n",
       "</table>\n",
       "</div>"
      ],
      "text/plain": [
       "                                           DISTRICT  \\\n",
       "0                     HERMOSA BEACH CITY ELEMENTARY   \n",
       "1  CENTINELA VALLEY UNION HIGH/HAWTHORNE ELEMENTARY   \n",
       "2   CENTINELA VALLEY UNION HIGH/LAWNDALE ELEMENTARY   \n",
       "\n",
       "                                            geometry  \n",
       "0  POLYGON ((-118.4048577253546 33.87782346394338...  \n",
       "1  POLYGON ((-118.3607054443706 33.93093449396304...  \n",
       "2  POLYGON ((-118.367294562588 33.90558198783078,...  "
      ]
     },
     "execution_count": 30,
     "metadata": {},
     "output_type": "execute_result"
    }
   ],
   "source": [
    "droplist = ['UNIFIED', 'HIGH', 'ELEMENTARY', 'PH', 'ADDR', 'PH2', 'PH3',\n",
    "       'STU', 'HI_ADDR', 'HI_PH', 'HI_STU', 'LABEL']\n",
    "cleandf(school_districts, droplist)"
   ]
  },
  {
   "cell_type": "code",
   "execution_count": 31,
   "metadata": {
    "ExecuteTime": {
     "end_time": "2018-01-06T02:18:56.379075Z",
     "start_time": "2018-01-06T02:18:56.375427Z"
    }
   },
   "outputs": [],
   "source": [
    "school_districts.columns = ['scho_dist_name', 'geometry']"
   ]
  },
  {
   "cell_type": "code",
   "execution_count": 32,
   "metadata": {
    "ExecuteTime": {
     "end_time": "2018-01-06T02:19:27.189065Z",
     "start_time": "2018-01-06T02:19:27.183552Z"
    }
   },
   "outputs": [
    {
     "name": "stdout",
     "output_type": "stream",
     "text": [
      "overlay_shp (462901, 23)\n",
      "school_districts (79, 2)\n"
     ]
    }
   ],
   "source": [
    "print ('overlay_shp {}'.format(overlay_shp.shape))\n",
    "print ('school_districts {}'.format(school_districts.shape))"
   ]
  },
  {
   "cell_type": "code",
   "execution_count": null,
   "metadata": {
    "ExecuteTime": {
     "end_time": "2018-01-06T03:35:40.186771Z",
     "start_time": "2018-01-06T02:19:42.923255Z"
    }
   },
   "outputs": [],
   "source": [
    "overlay_shp = spatial_overlays(overlay_shp, school_districts)"
   ]
  },
  {
   "cell_type": "code",
   "execution_count": null,
   "metadata": {
    "ExecuteTime": {
     "end_time": "2018-01-06T01:33:46.694205Z",
     "start_time": "2018-01-06T01:33:46.689463Z"
    }
   },
   "outputs": [],
   "source": [
    "print ('After overlay: {}'.format(overlay_shp.shape))\n",
    "#overlay_shp.plot()"
   ]
  }
 ],
 "metadata": {
  "kernelspec": {
   "display_name": "Python 3",
   "language": "python",
   "name": "python3"
  },
  "language_info": {
   "codemirror_mode": {
    "name": "ipython",
    "version": 3
   },
   "file_extension": ".py",
   "mimetype": "text/x-python",
   "name": "python",
   "nbconvert_exporter": "python",
   "pygments_lexer": "ipython3",
   "version": "3.6.1"
  }
 },
 "nbformat": 4,
 "nbformat_minor": 2
}
